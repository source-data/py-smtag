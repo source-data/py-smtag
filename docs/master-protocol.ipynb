{
 "cells": [
  {
   "cell_type": "markdown",
   "metadata": {},
   "source": [
    "Building the SmartTag models\n",
    "===\n"
   ]
  },
  {
   "cell_type": "markdown",
   "metadata": {},
   "source": [
    "## First time use"
   ]
  },
  {
   "cell_type": "code",
   "execution_count": null,
   "metadata": {
    "collapsed": true
   },
   "outputs": [],
   "source": [
    "copy neo4j database to neo4j installation"
   ]
  },
  {
   "cell_type": "code",
   "execution_count": 1,
   "metadata": {},
   "outputs": [],
   "source": [
    "cd ~/Documents/code/py-smtag"
   ]
  },
  {
   "cell_type": "code",
   "execution_count": 3,
   "metadata": {},
   "outputs": [
    {
     "name": "stdout",
     "output_type": "stream",
     "text": [
      "Stopping Neo4j.... stopped\n"
     ]
    }
   ],
   "source": [
    "neo4j stop"
   ]
  },
  {
   "cell_type": "code",
   "execution_count": null,
   "metadata": {},
   "outputs": [],
   "source": [
    "cd corpora"
   ]
  },
  {
   "cell_type": "code",
   "execution_count": null,
   "metadata": {},
   "outputs": [],
   "source": [
    "unzip graph.db.zip"
   ]
  },
  {
   "cell_type": "code",
   "execution_count": null,
   "metadata": {},
   "outputs": [],
   "source": [
    "cp graph.db.zip ../../neo4j/data/databases/"
   ]
  },
  {
   "cell_type": "code",
   "execution_count": 4,
   "metadata": {},
   "outputs": [
    {
     "name": "stdout",
     "output_type": "stream",
     "text": [
      "Starting Neo4j.\n",
      "Started neo4j (pid 65494). It is available at http://localhost:7474/\n",
      "There may be a short delay until the server is ready.\n",
      "See /Users/lemberger/Documents/code/neo4j/logs/neo4j.log for current status.\n"
     ]
    }
   ],
   "source": [
    "neo4j start"
   ]
  },
  {
   "cell_type": "code",
   "execution_count": null,
   "metadata": {},
   "outputs": [],
   "source": [
    "cd .."
   ]
  },
  {
   "cell_type": "markdown",
   "metadata": {},
   "source": [
    "## Initial checks"
   ]
  },
  {
   "cell_type": "code",
   "execution_count": 2,
   "metadata": {},
   "outputs": [
    {
     "name": "stdout",
     "output_type": "stream",
     "text": [
      "(.venv) "
     ]
    },
    {
     "ename": "",
     "evalue": "1",
     "output_type": "error",
     "traceback": []
    }
   ],
   "source": [
    "source .venv/bin/activate"
   ]
  },
  {
   "cell_type": "code",
   "execution_count": 3,
   "metadata": {},
   "outputs": [
    {
     "name": "stdout",
     "output_type": "stream",
     "text": [
      "/Library/Frameworks/Python.framework/Versions/3.6/lib/python3.6/distutils/dist.py:261: UserWarning: Unknown distribution option: 'long_description_content_type'\n",
      "  warnings.warn(msg)\n",
      "running install\n",
      "running bdist_egg\n",
      "running egg_info\n",
      "writing smtag.egg-info/PKG-INFO\n",
      "writing dependency_links to smtag.egg-info/dependency_links.txt\n",
      "writing entry points to smtag.egg-info/entry_points.txt\n",
      "writing requirements to smtag.egg-info/requires.txt\n",
      "writing top-level names to smtag.egg-info/top_level.txt\n",
      "reading manifest file 'smtag.egg-info/SOURCES.txt'\n",
      "reading manifest template 'MANIFEST.in'\n",
      "writing manifest file 'smtag.egg-info/SOURCES.txt'\n",
      "installing library code to build/bdist.macosx-10.6-intel/egg\n",
      "running install_lib\n",
      "running build_py\n",
      "copying smtag/train/scanner.py -> build/lib/smtag/train\n",
      "creating build/bdist.macosx-10.6-intel/egg\n",
      "creating build/bdist.macosx-10.6-intel/egg/smtag\n",
      "copying build/lib/smtag/__init__.py -> build/bdist.macosx-10.6-intel/egg/smtag\n",
      "copying build/lib/smtag/command_line.py -> build/bdist.macosx-10.6-intel/egg/smtag\n",
      "creating build/bdist.macosx-10.6-intel/egg/smtag/common\n",
      "copying build/lib/smtag/common/__init__.py -> build/bdist.macosx-10.6-intel/egg/smtag/common\n",
      "copying build/lib/smtag/common/config.py -> build/bdist.macosx-10.6-intel/egg/smtag/common\n",
      "copying build/lib/smtag/common/converter.py -> build/bdist.macosx-10.6-intel/egg/smtag/common\n",
      "copying build/lib/smtag/common/importexport.py -> build/bdist.macosx-10.6-intel/egg/smtag/common\n",
      "copying build/lib/smtag/common/mapper.py -> build/bdist.macosx-10.6-intel/egg/smtag/common\n",
      "copying build/lib/smtag/common/operations.py -> build/bdist.macosx-10.6-intel/egg/smtag/common\n",
      "copying build/lib/smtag/common/progress.py -> build/bdist.macosx-10.6-intel/egg/smtag/common\n",
      "copying build/lib/smtag/common/utils.py -> build/bdist.macosx-10.6-intel/egg/smtag/common\n",
      "copying build/lib/smtag/common/viz.py -> build/bdist.macosx-10.6-intel/egg/smtag/common\n",
      "creating build/bdist.macosx-10.6-intel/egg/smtag/datagen\n",
      "copying build/lib/smtag/datagen/__init__.py -> build/bdist.macosx-10.6-intel/egg/smtag/datagen\n",
      "copying build/lib/smtag/datagen/ann2th.py -> build/bdist.macosx-10.6-intel/egg/smtag/datagen\n",
      "copying build/lib/smtag/datagen/brat.py -> build/bdist.macosx-10.6-intel/egg/smtag/datagen\n",
      "copying build/lib/smtag/datagen/convert2th.py -> build/bdist.macosx-10.6-intel/egg/smtag/datagen\n",
      "copying build/lib/smtag/datagen/dataprep.py -> build/bdist.macosx-10.6-intel/egg/smtag/datagen\n",
      "copying build/lib/smtag/datagen/dataprep~backup.py -> build/bdist.macosx-10.6-intel/egg/smtag/datagen\n",
      "copying build/lib/smtag/datagen/encoder.py -> build/bdist.macosx-10.6-intel/egg/smtag/datagen\n",
      "copying build/lib/smtag/datagen/featurizer.py -> build/bdist.macosx-10.6-intel/egg/smtag/datagen\n",
      "copying build/lib/smtag/datagen/featurizer~backup.py -> build/bdist.macosx-10.6-intel/egg/smtag/datagen\n",
      "copying build/lib/smtag/datagen/neo2leg.py -> build/bdist.macosx-10.6-intel/egg/smtag/datagen\n",
      "copying build/lib/smtag/datagen/neo2leg~backup.py -> build/bdist.macosx-10.6-intel/egg/smtag/datagen\n",
      "copying build/lib/smtag/datagen/neo2xml.py -> build/bdist.macosx-10.6-intel/egg/smtag/datagen\n",
      "copying build/lib/smtag/datagen/sdgraph2th.py -> build/bdist.macosx-10.6-intel/egg/smtag/datagen\n",
      "copying build/lib/smtag/datagen/sdgraph2th~backup.py -> build/bdist.macosx-10.6-intel/egg/smtag/datagen\n",
      "copying build/lib/smtag/logging.yaml -> build/bdist.macosx-10.6-intel/egg/smtag\n",
      "creating build/bdist.macosx-10.6-intel/egg/smtag/predict\n",
      "copying build/lib/smtag/predict/__init__.py -> build/bdist.macosx-10.6-intel/egg/smtag/predict\n",
      "copying build/lib/smtag/predict/binarize.py -> build/bdist.macosx-10.6-intel/egg/smtag/predict\n",
      "copying build/lib/smtag/predict/engine.py -> build/bdist.macosx-10.6-intel/egg/smtag/predict\n",
      "copying build/lib/smtag/predict/predictor.py -> build/bdist.macosx-10.6-intel/egg/smtag/predict\n",
      "copying build/lib/smtag/predict/serializer.py -> build/bdist.macosx-10.6-intel/egg/smtag/predict\n",
      "creating build/bdist.macosx-10.6-intel/egg/smtag/train\n",
      "copying build/lib/smtag/train/__init__.py -> build/bdist.macosx-10.6-intel/egg/smtag/train\n",
      "copying build/lib/smtag/train/builder.py -> build/bdist.macosx-10.6-intel/egg/smtag/train\n",
      "copying build/lib/smtag/train/evaluator.py -> build/bdist.macosx-10.6-intel/egg/smtag/train\n",
      "copying build/lib/smtag/train/loader.py -> build/bdist.macosx-10.6-intel/egg/smtag/train\n",
      "copying build/lib/smtag/train/meta.py -> build/bdist.macosx-10.6-intel/egg/smtag/train\n",
      "copying build/lib/smtag/train/minibatches.py -> build/bdist.macosx-10.6-intel/egg/smtag/train\n",
      "copying build/lib/smtag/train/scanner.py -> build/bdist.macosx-10.6-intel/egg/smtag/train\n",
      "copying build/lib/smtag/train/trainer.py -> build/bdist.macosx-10.6-intel/egg/smtag/train\n",
      "creating build/bdist.macosx-10.6-intel/egg/test\n",
      "copying build/lib/test/__init__.py -> build/bdist.macosx-10.6-intel/egg/test\n",
      "copying build/lib/test/mini_trainer.py -> build/bdist.macosx-10.6-intel/egg/test\n",
      "copying build/lib/test/smtagunittest.py -> build/bdist.macosx-10.6-intel/egg/test\n",
      "copying build/lib/test/test_binarize.py -> build/bdist.macosx-10.6-intel/egg/test\n",
      "copying build/lib/test/test_builder.py -> build/bdist.macosx-10.6-intel/egg/test\n",
      "copying build/lib/test/test_converter.py -> build/bdist.macosx-10.6-intel/egg/test\n",
      "copying build/lib/test/test_datagen.py -> build/bdist.macosx-10.6-intel/egg/test\n",
      "copying build/lib/test/test_engine.py -> build/bdist.macosx-10.6-intel/egg/test\n",
      "copying build/lib/test/test_evaluator.py -> build/bdist.macosx-10.6-intel/egg/test\n",
      "copying build/lib/test/test_importexport.py -> build/bdist.macosx-10.6-intel/egg/test\n",
      "copying build/lib/test/test_mapper.py -> build/bdist.macosx-10.6-intel/egg/test\n",
      "copying build/lib/test/test_operations.py -> build/bdist.macosx-10.6-intel/egg/test\n",
      "copying build/lib/test/test_predictor.py -> build/bdist.macosx-10.6-intel/egg/test\n",
      "copying build/lib/test/test_serializer.py -> build/bdist.macosx-10.6-intel/egg/test\n",
      "copying build/lib/test/test_tokenizer.py -> build/bdist.macosx-10.6-intel/egg/test\n",
      "copying build/lib/test/~test_loader.py -> build/bdist.macosx-10.6-intel/egg/test\n",
      "byte-compiling build/bdist.macosx-10.6-intel/egg/smtag/__init__.py to __init__.cpython-36.pyc\n",
      "byte-compiling build/bdist.macosx-10.6-intel/egg/smtag/command_line.py to command_line.cpython-36.pyc\n",
      "byte-compiling build/bdist.macosx-10.6-intel/egg/smtag/common/__init__.py to __init__.cpython-36.pyc\n",
      "byte-compiling build/bdist.macosx-10.6-intel/egg/smtag/common/config.py to config.cpython-36.pyc\n",
      "byte-compiling build/bdist.macosx-10.6-intel/egg/smtag/common/converter.py to converter.cpython-36.pyc\n",
      "byte-compiling build/bdist.macosx-10.6-intel/egg/smtag/common/importexport.py to importexport.cpython-36.pyc\n",
      "byte-compiling build/bdist.macosx-10.6-intel/egg/smtag/common/mapper.py to mapper.cpython-36.pyc\n",
      "byte-compiling build/bdist.macosx-10.6-intel/egg/smtag/common/operations.py to operations.cpython-36.pyc\n",
      "byte-compiling build/bdist.macosx-10.6-intel/egg/smtag/common/progress.py to progress.cpython-36.pyc\n",
      "byte-compiling build/bdist.macosx-10.6-intel/egg/smtag/common/utils.py to utils.cpython-36.pyc\n",
      "byte-compiling build/bdist.macosx-10.6-intel/egg/smtag/common/viz.py to viz.cpython-36.pyc\n",
      "byte-compiling build/bdist.macosx-10.6-intel/egg/smtag/datagen/__init__.py to __init__.cpython-36.pyc\n",
      "byte-compiling build/bdist.macosx-10.6-intel/egg/smtag/datagen/ann2th.py to ann2th.cpython-36.pyc\n",
      "byte-compiling build/bdist.macosx-10.6-intel/egg/smtag/datagen/brat.py to brat.cpython-36.pyc\n",
      "byte-compiling build/bdist.macosx-10.6-intel/egg/smtag/datagen/convert2th.py to convert2th.cpython-36.pyc\n",
      "byte-compiling build/bdist.macosx-10.6-intel/egg/smtag/datagen/dataprep.py to dataprep.cpython-36.pyc\n",
      "byte-compiling build/bdist.macosx-10.6-intel/egg/smtag/datagen/dataprep~backup.py to dataprep~backup.cpython-36.pyc\n",
      "byte-compiling build/bdist.macosx-10.6-intel/egg/smtag/datagen/encoder.py to encoder.cpython-36.pyc\n",
      "byte-compiling build/bdist.macosx-10.6-intel/egg/smtag/datagen/featurizer.py to featurizer.cpython-36.pyc\n",
      "byte-compiling build/bdist.macosx-10.6-intel/egg/smtag/datagen/featurizer~backup.py to featurizer~backup.cpython-36.pyc\n",
      "byte-compiling build/bdist.macosx-10.6-intel/egg/smtag/datagen/neo2leg.py to neo2leg.cpython-36.pyc\n"
     ]
    },
    {
     "name": "stdout",
     "output_type": "stream",
     "text": [
      "byte-compiling build/bdist.macosx-10.6-intel/egg/smtag/datagen/neo2leg~backup.py to neo2leg~backup.cpython-36.pyc\n",
      "byte-compiling build/bdist.macosx-10.6-intel/egg/smtag/datagen/neo2xml.py to neo2xml.cpython-36.pyc\n",
      "byte-compiling build/bdist.macosx-10.6-intel/egg/smtag/datagen/sdgraph2th.py to sdgraph2th.cpython-36.pyc\n",
      "byte-compiling build/bdist.macosx-10.6-intel/egg/smtag/datagen/sdgraph2th~backup.py to sdgraph2th~backup.cpython-36.pyc\n",
      "byte-compiling build/bdist.macosx-10.6-intel/egg/smtag/predict/__init__.py to __init__.cpython-36.pyc\n",
      "byte-compiling build/bdist.macosx-10.6-intel/egg/smtag/predict/binarize.py to binarize.cpython-36.pyc\n",
      "byte-compiling build/bdist.macosx-10.6-intel/egg/smtag/predict/engine.py to engine.cpython-36.pyc\n",
      "byte-compiling build/bdist.macosx-10.6-intel/egg/smtag/predict/predictor.py to predictor.cpython-36.pyc\n",
      "byte-compiling build/bdist.macosx-10.6-intel/egg/smtag/predict/serializer.py to serializer.cpython-36.pyc\n",
      "byte-compiling build/bdist.macosx-10.6-intel/egg/smtag/train/__init__.py to __init__.cpython-36.pyc\n",
      "byte-compiling build/bdist.macosx-10.6-intel/egg/smtag/train/builder.py to builder.cpython-36.pyc\n",
      "byte-compiling build/bdist.macosx-10.6-intel/egg/smtag/train/evaluator.py to evaluator.cpython-36.pyc\n",
      "byte-compiling build/bdist.macosx-10.6-intel/egg/smtag/train/loader.py to loader.cpython-36.pyc\n",
      "byte-compiling build/bdist.macosx-10.6-intel/egg/smtag/train/meta.py to meta.cpython-36.pyc\n",
      "byte-compiling build/bdist.macosx-10.6-intel/egg/smtag/train/minibatches.py to minibatches.cpython-36.pyc\n",
      "byte-compiling build/bdist.macosx-10.6-intel/egg/smtag/train/scanner.py to scanner.cpython-36.pyc\n",
      "byte-compiling build/bdist.macosx-10.6-intel/egg/smtag/train/trainer.py to trainer.cpython-36.pyc\n",
      "byte-compiling build/bdist.macosx-10.6-intel/egg/test/__init__.py to __init__.cpython-36.pyc\n",
      "byte-compiling build/bdist.macosx-10.6-intel/egg/test/mini_trainer.py to mini_trainer.cpython-36.pyc\n",
      "byte-compiling build/bdist.macosx-10.6-intel/egg/test/smtagunittest.py to smtagunittest.cpython-36.pyc\n",
      "byte-compiling build/bdist.macosx-10.6-intel/egg/test/test_binarize.py to test_binarize.cpython-36.pyc\n",
      "byte-compiling build/bdist.macosx-10.6-intel/egg/test/test_builder.py to test_builder.cpython-36.pyc\n",
      "byte-compiling build/bdist.macosx-10.6-intel/egg/test/test_converter.py to test_converter.cpython-36.pyc\n",
      "byte-compiling build/bdist.macosx-10.6-intel/egg/test/test_datagen.py to test_datagen.cpython-36.pyc\n",
      "byte-compiling build/bdist.macosx-10.6-intel/egg/test/test_engine.py to test_engine.cpython-36.pyc\n",
      "byte-compiling build/bdist.macosx-10.6-intel/egg/test/test_evaluator.py to test_evaluator.cpython-36.pyc\n",
      "byte-compiling build/bdist.macosx-10.6-intel/egg/test/test_importexport.py to test_importexport.cpython-36.pyc\n",
      "byte-compiling build/bdist.macosx-10.6-intel/egg/test/test_mapper.py to test_mapper.cpython-36.pyc\n",
      "byte-compiling build/bdist.macosx-10.6-intel/egg/test/test_operations.py to test_operations.cpython-36.pyc\n",
      "byte-compiling build/bdist.macosx-10.6-intel/egg/test/test_predictor.py to test_predictor.cpython-36.pyc\n",
      "byte-compiling build/bdist.macosx-10.6-intel/egg/test/test_serializer.py to test_serializer.cpython-36.pyc\n",
      "byte-compiling build/bdist.macosx-10.6-intel/egg/test/test_tokenizer.py to test_tokenizer.cpython-36.pyc\n",
      "byte-compiling build/bdist.macosx-10.6-intel/egg/test/~test_loader.py to ~test_loader.cpython-36.pyc\n",
      "  File \"build/bdist.macosx-10.6-intel/egg/test/~test_loader.py\", line 40\n",
      "    def\n",
      "       ^\n",
      "SyntaxError: invalid syntax\n",
      "\n",
      "creating build/bdist.macosx-10.6-intel/egg/EGG-INFO\n",
      "copying smtag.egg-info/PKG-INFO -> build/bdist.macosx-10.6-intel/egg/EGG-INFO\n",
      "copying smtag.egg-info/SOURCES.txt -> build/bdist.macosx-10.6-intel/egg/EGG-INFO\n",
      "copying smtag.egg-info/dependency_links.txt -> build/bdist.macosx-10.6-intel/egg/EGG-INFO\n",
      "copying smtag.egg-info/entry_points.txt -> build/bdist.macosx-10.6-intel/egg/EGG-INFO\n",
      "copying smtag.egg-info/requires.txt -> build/bdist.macosx-10.6-intel/egg/EGG-INFO\n",
      "copying smtag.egg-info/top_level.txt -> build/bdist.macosx-10.6-intel/egg/EGG-INFO\n",
      "zip_safe flag not set; analyzing archive contents...\n",
      "creating 'dist/smtag-0.0.2.dev2-py3.6.egg' and adding 'build/bdist.macosx-10.6-intel/egg' to it\n",
      "removing 'build/bdist.macosx-10.6-intel/egg' (and everything under it)\n",
      "Processing smtag-0.0.2.dev2-py3.6.egg\n",
      "Removing /Users/lemberger/Documents/code/py-smtag/.venv/lib/python3.6/site-packages/smtag-0.0.2.dev2-py3.6.egg\n",
      "Copying smtag-0.0.2.dev2-py3.6.egg to /Users/lemberger/Documents/code/py-smtag/.venv/lib/python3.6/site-packages\n",
      "smtag 0.0.2.dev2 is already the active version in easy-install.pth\n",
      "Installing smtag script to /Users/lemberger/Documents/code/py-smtag/.venv/bin\n",
      "Installing smtag-convert2th script to /Users/lemberger/Documents/code/py-smtag/.venv/bin\n",
      "Installing smtag-eval script to /Users/lemberger/Documents/code/py-smtag/.venv/bin\n",
      "Installing smtag-meta script to /Users/lemberger/Documents/code/py-smtag/.venv/bin\n",
      "Installing smtag-neo2xml script to /Users/lemberger/Documents/code/py-smtag/.venv/bin\n",
      "Installing smtag-predict script to /Users/lemberger/Documents/code/py-smtag/.venv/bin\n",
      "\n",
      "Installed /Users/lemberger/Documents/code/py-smtag/.venv/lib/python3.6/site-packages/smtag-0.0.2.dev2-py3.6.egg\n",
      "Processing dependencies for smtag==0.0.2.dev2\n",
      "Searching for ipython==6.5.0\n",
      "Best match: ipython 6.5.0\n",
      "Adding ipython 6.5.0 to easy-install.pth file\n",
      "Installing iptest script to /Users/lemberger/Documents/code/py-smtag/.venv/bin\n",
      "Installing iptest3 script to /Users/lemberger/Documents/code/py-smtag/.venv/bin\n",
      "Installing ipython script to /Users/lemberger/Documents/code/py-smtag/.venv/bin\n",
      "Installing ipython3 script to /Users/lemberger/Documents/code/py-smtag/.venv/bin\n",
      "\n",
      "Using /Users/lemberger/Documents/code/py-smtag/.venv/lib/python3.6/site-packages\n",
      "Searching for bash-kernel==0.7.1\n",
      "Best match: bash-kernel 0.7.1\n",
      "Processing bash_kernel-0.7.1-py3.6.egg\n",
      "bash-kernel 0.7.1 is already the active version in easy-install.pth\n",
      "\n",
      "Using /Users/lemberger/Documents/code/py-smtag/.venv/lib/python3.6/site-packages/bash_kernel-0.7.1-py3.6.egg\n",
      "Searching for jupyter==1.0.0\n",
      "Best match: jupyter 1.0.0\n",
      "Adding jupyter 1.0.0 to easy-install.pth file\n",
      "\n",
      "Using /Users/lemberger/Documents/code/py-smtag/.venv/lib/python3.6/site-packages\n",
      "Searching for nltk==3.2.4\n",
      "Best match: nltk 3.2.4\n",
      "Adding nltk 3.2.4 to easy-install.pth file\n",
      "\n",
      "Using /Users/lemberger/Documents/code/py-smtag/.venv/lib/python3.6/site-packages\n",
      "Searching for neo4jrestclient==2.1.1\n",
      "Best match: neo4jrestclient 2.1.1\n",
      "Adding neo4jrestclient 2.1.1 to easy-install.pth file\n",
      "\n",
      "Using /Users/lemberger/Documents/code/py-smtag/.venv/lib/python3.6/site-packages\n",
      "Searching for torchvision==0.2.0\n",
      "Best match: torchvision 0.2.0\n",
      "Adding torchvision 0.2.0 to easy-install.pth file\n",
      "\n",
      "Using /Users/lemberger/Documents/code/py-smtag/.venv/lib/python3.6/site-packages\n",
      "Searching for torch==0.4.0\n",
      "Best match: torch 0.4.0\n",
      "Adding torch 0.4.0 to easy-install.pth file\n",
      "\n",
      "Using /Users/lemberger/Documents/code/py-smtag/.venv/lib/python3.6/site-packages\n",
      "Searching for six==1.10.0\n",
      "Best match: six 1.10.0\n",
      "Adding six 1.10.0 to easy-install.pth file\n",
      "\n",
      "Using /Users/lemberger/Documents/code/py-smtag/.venv/lib/python3.6/site-packages\n",
      "Searching for PyYAML==3.12\n",
      "Best match: PyYAML 3.12\n",
      "Adding PyYAML 3.12 to easy-install.pth file\n",
      "\n",
      "Using /Users/lemberger/Documents/code/py-smtag/.venv/lib/python3.6/site-packages\n",
      "Searching for Pillow==4.3.0\n",
      "Best match: Pillow 4.3.0\n",
      "Adding Pillow 4.3.0 to easy-install.pth file\n",
      "\n",
      "Using /Users/lemberger/Documents/code/py-smtag/.venv/lib/python3.6/site-packages\n",
      "Searching for numpy==1.14.2\n",
      "Best match: numpy 1.14.2\n",
      "Adding numpy 1.14.2 to easy-install.pth file\n",
      "\n",
      "Using /Users/lemberger/Documents/code/py-smtag/.venv/lib/python3.6/site-packages\n",
      "Searching for docopt==0.6.2\n",
      "Best match: docopt 0.6.2\n",
      "Adding docopt 0.6.2 to easy-install.pth file\n",
      "\n",
      "Using /Users/lemberger/Documents/code/py-smtag/.venv/lib/python3.6/site-packages\n",
      "Searching for tensorboardX==1.4\n",
      "Best match: tensorboardX 1.4\n",
      "Adding tensorboardX 1.4 to easy-install.pth file\n",
      "\n",
      "Using /Users/lemberger/Documents/code/py-smtag/.venv/lib/python3.6/site-packages\n",
      "Searching for setuptools==39.0.1\n",
      "Best match: setuptools 39.0.1\n",
      "Adding setuptools 39.0.1 to easy-install.pth file\n",
      "Installing easy_install script to /Users/lemberger/Documents/code/py-smtag/.venv/bin\n"
     ]
    },
    {
     "name": "stdout",
     "output_type": "stream",
     "text": [
      "Installing easy_install-3.6 script to /Users/lemberger/Documents/code/py-smtag/.venv/bin\n",
      "\n",
      "Using /Users/lemberger/Documents/code/py-smtag/.venv/lib/python3.6/site-packages\n",
      "Searching for jedi==0.12.1\n",
      "Best match: jedi 0.12.1\n",
      "Adding jedi 0.12.1 to easy-install.pth file\n",
      "\n",
      "Using /Users/lemberger/Documents/code/py-smtag/.venv/lib/python3.6/site-packages\n",
      "Searching for simplegeneric==0.8.1\n",
      "Best match: simplegeneric 0.8.1\n",
      "Adding simplegeneric 0.8.1 to easy-install.pth file\n",
      "\n",
      "Using /Users/lemberger/Documents/code/py-smtag/.venv/lib/python3.6/site-packages\n",
      "Searching for decorator==4.3.0\n",
      "Best match: decorator 4.3.0\n",
      "Adding decorator 4.3.0 to easy-install.pth file\n",
      "\n",
      "Using /Users/lemberger/Documents/code/py-smtag/.venv/lib/python3.6/site-packages\n",
      "Searching for pexpect==4.6.0\n",
      "Best match: pexpect 4.6.0\n",
      "Adding pexpect 4.6.0 to easy-install.pth file\n",
      "\n",
      "Using /Users/lemberger/Documents/code/py-smtag/.venv/lib/python3.6/site-packages\n",
      "Searching for traitlets==4.3.2\n",
      "Best match: traitlets 4.3.2\n",
      "Adding traitlets 4.3.2 to easy-install.pth file\n",
      "\n",
      "Using /Users/lemberger/Documents/code/py-smtag/.venv/lib/python3.6/site-packages\n",
      "Searching for pickleshare==0.7.4\n",
      "Best match: pickleshare 0.7.4\n",
      "Adding pickleshare 0.7.4 to easy-install.pth file\n",
      "\n",
      "Using /Users/lemberger/Documents/code/py-smtag/.venv/lib/python3.6/site-packages\n",
      "Searching for prompt-toolkit==1.0.15\n",
      "Best match: prompt-toolkit 1.0.15\n",
      "Adding prompt-toolkit 1.0.15 to easy-install.pth file\n",
      "\n",
      "Using /Users/lemberger/Documents/code/py-smtag/.venv/lib/python3.6/site-packages\n",
      "Searching for backcall==0.1.0\n",
      "Best match: backcall 0.1.0\n",
      "Adding backcall 0.1.0 to easy-install.pth file\n",
      "\n",
      "Using /Users/lemberger/Documents/code/py-smtag/.venv/lib/python3.6/site-packages\n",
      "Searching for appnope==0.1.0\n",
      "Best match: appnope 0.1.0\n",
      "Adding appnope 0.1.0 to easy-install.pth file\n",
      "\n",
      "Using /Users/lemberger/Documents/code/py-smtag/.venv/lib/python3.6/site-packages\n",
      "Searching for Pygments==2.2.0\n",
      "Best match: Pygments 2.2.0\n",
      "Adding Pygments 2.2.0 to easy-install.pth file\n",
      "Installing pygmentize script to /Users/lemberger/Documents/code/py-smtag/.venv/bin\n",
      "\n",
      "Using /Users/lemberger/Documents/code/py-smtag/.venv/lib/python3.6/site-packages\n",
      "Searching for ipywidgets==7.4.1\n",
      "Best match: ipywidgets 7.4.1\n",
      "Adding ipywidgets 7.4.1 to easy-install.pth file\n",
      "\n",
      "Using /Users/lemberger/Documents/code/py-smtag/.venv/lib/python3.6/site-packages\n",
      "Searching for notebook==5.6.0\n",
      "Best match: notebook 5.6.0\n",
      "Adding notebook 5.6.0 to easy-install.pth file\n",
      "Installing jupyter-bundlerextension script to /Users/lemberger/Documents/code/py-smtag/.venv/bin\n",
      "Installing jupyter-nbextension script to /Users/lemberger/Documents/code/py-smtag/.venv/bin\n",
      "Installing jupyter-notebook script to /Users/lemberger/Documents/code/py-smtag/.venv/bin\n",
      "Installing jupyter-serverextension script to /Users/lemberger/Documents/code/py-smtag/.venv/bin\n",
      "\n",
      "Using /Users/lemberger/Documents/code/py-smtag/.venv/lib/python3.6/site-packages\n",
      "Searching for ipykernel==4.9.0\n",
      "Best match: ipykernel 4.9.0\n",
      "Adding ipykernel 4.9.0 to easy-install.pth file\n",
      "\n",
      "Using /Users/lemberger/Documents/code/py-smtag/.venv/lib/python3.6/site-packages\n",
      "Searching for qtconsole==4.4.1\n",
      "Best match: qtconsole 4.4.1\n",
      "Adding qtconsole 4.4.1 to easy-install.pth file\n",
      "Installing jupyter-qtconsole script to /Users/lemberger/Documents/code/py-smtag/.venv/bin\n",
      "\n",
      "Using /Users/lemberger/Documents/code/py-smtag/.venv/lib/python3.6/site-packages\n",
      "Searching for nbconvert==5.4.0\n",
      "Best match: nbconvert 5.4.0\n",
      "Adding nbconvert 5.4.0 to easy-install.pth file\n",
      "Installing jupyter-nbconvert script to /Users/lemberger/Documents/code/py-smtag/.venv/bin\n",
      "\n",
      "Using /Users/lemberger/Documents/code/py-smtag/.venv/lib/python3.6/site-packages\n",
      "Searching for jupyter-console==5.2.0\n",
      "Best match: jupyter-console 5.2.0\n",
      "Adding jupyter-console 5.2.0 to easy-install.pth file\n",
      "Installing jupyter-console script to /Users/lemberger/Documents/code/py-smtag/.venv/bin\n",
      "\n",
      "Using /Users/lemberger/Documents/code/py-smtag/.venv/lib/python3.6/site-packages\n",
      "Searching for requests==2.19.1\n",
      "Best match: requests 2.19.1\n",
      "Adding requests 2.19.1 to easy-install.pth file\n",
      "\n",
      "Using /Users/lemberger/Documents/code/py-smtag/.venv/lib/python3.6/site-packages\n",
      "Searching for olefile==0.45.1\n",
      "Best match: olefile 0.45.1\n",
      "Adding olefile 0.45.1 to easy-install.pth file\n",
      "\n",
      "Using /Users/lemberger/Documents/code/py-smtag/.venv/lib/python3.6/site-packages\n",
      "Searching for protobuf==3.6.1\n",
      "Best match: protobuf 3.6.1\n",
      "Adding protobuf 3.6.1 to easy-install.pth file\n",
      "\n",
      "Using /Users/lemberger/Documents/code/py-smtag/.venv/lib/python3.6/site-packages\n",
      "Searching for parso==0.3.1\n",
      "Best match: parso 0.3.1\n",
      "Adding parso 0.3.1 to easy-install.pth file\n",
      "\n",
      "Using /Users/lemberger/Documents/code/py-smtag/.venv/lib/python3.6/site-packages\n",
      "Searching for ptyprocess==0.6.0\n",
      "Best match: ptyprocess 0.6.0\n",
      "Adding ptyprocess 0.6.0 to easy-install.pth file\n",
      "\n",
      "Using /Users/lemberger/Documents/code/py-smtag/.venv/lib/python3.6/site-packages\n",
      "Searching for ipython-genutils==0.2.0\n",
      "Best match: ipython-genutils 0.2.0\n",
      "Adding ipython-genutils 0.2.0 to easy-install.pth file\n",
      "\n",
      "Using /Users/lemberger/Documents/code/py-smtag/.venv/lib/python3.6/site-packages\n",
      "Searching for wcwidth==0.1.7\n",
      "Best match: wcwidth 0.1.7\n",
      "Adding wcwidth 0.1.7 to easy-install.pth file\n",
      "\n",
      "Using /Users/lemberger/Documents/code/py-smtag/.venv/lib/python3.6/site-packages\n",
      "Searching for widgetsnbextension==3.4.1\n",
      "Best match: widgetsnbextension 3.4.1\n",
      "Adding widgetsnbextension 3.4.1 to easy-install.pth file\n",
      "\n",
      "Using /Users/lemberger/Documents/code/py-smtag/.venv/lib/python3.6/site-packages\n",
      "Searching for nbformat==4.4.0\n",
      "Best match: nbformat 4.4.0\n",
      "Adding nbformat 4.4.0 to easy-install.pth file\n",
      "Installing jupyter-trust script to /Users/lemberger/Documents/code/py-smtag/.venv/bin\n",
      "\n",
      "Using /Users/lemberger/Documents/code/py-smtag/.venv/lib/python3.6/site-packages\n",
      "Searching for tornado==5.1\n",
      "Best match: tornado 5.1\n",
      "Adding tornado 5.1 to easy-install.pth file\n",
      "\n",
      "Using /Users/lemberger/Documents/code/py-smtag/.venv/lib/python3.6/site-packages\n",
      "Searching for jupyter-client==5.2.3\n",
      "Best match: jupyter-client 5.2.3\n",
      "Adding jupyter-client 5.2.3 to easy-install.pth file\n",
      "Installing jupyter-kernel script to /Users/lemberger/Documents/code/py-smtag/.venv/bin\n",
      "Installing jupyter-kernelspec script to /Users/lemberger/Documents/code/py-smtag/.venv/bin\n",
      "Installing jupyter-run script to /Users/lemberger/Documents/code/py-smtag/.venv/bin\n",
      "\n",
      "Using /Users/lemberger/Documents/code/py-smtag/.venv/lib/python3.6/site-packages\n",
      "Searching for prometheus-client==0.3.1\n",
      "Best match: prometheus-client 0.3.1\n",
      "Adding prometheus-client 0.3.1 to easy-install.pth file\n",
      "\n",
      "Using /Users/lemberger/Documents/code/py-smtag/.venv/lib/python3.6/site-packages\n",
      "Searching for Jinja2==2.10\n",
      "Best match: Jinja2 2.10\n",
      "Adding Jinja2 2.10 to easy-install.pth file\n",
      "\n",
      "Using /Users/lemberger/Documents/code/py-smtag/.venv/lib/python3.6/site-packages\n",
      "Searching for jupyter-core==4.4.0\n",
      "Best match: jupyter-core 4.4.0\n",
      "Adding jupyter-core 4.4.0 to easy-install.pth file\n",
      "Installing jupyter script to /Users/lemberger/Documents/code/py-smtag/.venv/bin\n",
      "Installing jupyter-migrate script to /Users/lemberger/Documents/code/py-smtag/.venv/bin\n",
      "Installing jupyter-troubleshoot script to /Users/lemberger/Documents/code/py-smtag/.venv/bin\n",
      "\n",
      "Using /Users/lemberger/Documents/code/py-smtag/.venv/lib/python3.6/site-packages\n",
      "Searching for pyzmq==17.1.2\n",
      "Best match: pyzmq 17.1.2\n",
      "Adding pyzmq 17.1.2 to easy-install.pth file\n",
      "\n",
      "Using /Users/lemberger/Documents/code/py-smtag/.venv/lib/python3.6/site-packages\n",
      "Searching for terminado==0.8.1\n",
      "Best match: terminado 0.8.1\n",
      "Adding terminado 0.8.1 to easy-install.pth file\n",
      "\n",
      "Using /Users/lemberger/Documents/code/py-smtag/.venv/lib/python3.6/site-packages\n",
      "Searching for Send2Trash==1.5.0\n",
      "Best match: Send2Trash 1.5.0\n",
      "Adding Send2Trash 1.5.0 to easy-install.pth file\n",
      "\n",
      "Using /Users/lemberger/Documents/code/py-smtag/.venv/lib/python3.6/site-packages\n",
      "Searching for entrypoints==0.2.3\n",
      "Best match: entrypoints 0.2.3\n",
      "Adding entrypoints 0.2.3 to easy-install.pth file\n",
      "\n",
      "Using /Users/lemberger/Documents/code/py-smtag/.venv/lib/python3.6/site-packages\n",
      "Searching for testpath==0.3.1\n",
      "Best match: testpath 0.3.1\n",
      "Adding testpath 0.3.1 to easy-install.pth file\n",
      "\n",
      "Using /Users/lemberger/Documents/code/py-smtag/.venv/lib/python3.6/site-packages\n",
      "Searching for pandocfilters==1.4.2\n"
     ]
    },
    {
     "name": "stdout",
     "output_type": "stream",
     "text": [
      "Best match: pandocfilters 1.4.2\n",
      "Adding pandocfilters 1.4.2 to easy-install.pth file\n",
      "\n",
      "Using /Users/lemberger/Documents/code/py-smtag/.venv/lib/python3.6/site-packages\n",
      "Searching for defusedxml==0.5.0\n",
      "Best match: defusedxml 0.5.0\n",
      "Adding defusedxml 0.5.0 to easy-install.pth file\n",
      "\n",
      "Using /Users/lemberger/Documents/code/py-smtag/.venv/lib/python3.6/site-packages\n",
      "Searching for mistune==0.8.3\n",
      "Best match: mistune 0.8.3\n",
      "Adding mistune 0.8.3 to easy-install.pth file\n",
      "\n",
      "Using /Users/lemberger/Documents/code/py-smtag/.venv/lib/python3.6/site-packages\n",
      "Searching for bleach==1.5.0\n",
      "Best match: bleach 1.5.0\n",
      "Adding bleach 1.5.0 to easy-install.pth file\n",
      "\n",
      "Using /Users/lemberger/Documents/code/py-smtag/.venv/lib/python3.6/site-packages\n",
      "Searching for certifi==2018.8.13\n",
      "Best match: certifi 2018.8.13\n",
      "Adding certifi 2018.8.13 to easy-install.pth file\n",
      "\n",
      "Using /Users/lemberger/Documents/code/py-smtag/.venv/lib/python3.6/site-packages\n",
      "Searching for idna==2.7\n",
      "Best match: idna 2.7\n",
      "Adding idna 2.7 to easy-install.pth file\n",
      "\n",
      "Using /Users/lemberger/Documents/code/py-smtag/.venv/lib/python3.6/site-packages\n",
      "Searching for chardet==3.0.4\n",
      "Best match: chardet 3.0.4\n",
      "Adding chardet 3.0.4 to easy-install.pth file\n",
      "Installing chardetect script to /Users/lemberger/Documents/code/py-smtag/.venv/bin\n",
      "\n",
      "Using /Users/lemberger/Documents/code/py-smtag/.venv/lib/python3.6/site-packages\n",
      "Searching for urllib3==1.23\n",
      "Best match: urllib3 1.23\n",
      "Adding urllib3 1.23 to easy-install.pth file\n",
      "\n",
      "Using /Users/lemberger/Documents/code/py-smtag/.venv/lib/python3.6/site-packages\n",
      "Searching for jsonschema==2.6.0\n",
      "Best match: jsonschema 2.6.0\n",
      "Adding jsonschema 2.6.0 to easy-install.pth file\n",
      "Installing jsonschema script to /Users/lemberger/Documents/code/py-smtag/.venv/bin\n",
      "\n",
      "Using /Users/lemberger/Documents/code/py-smtag/.venv/lib/python3.6/site-packages\n",
      "Searching for python-dateutil==2.7.3\n",
      "Best match: python-dateutil 2.7.3\n",
      "Adding python-dateutil 2.7.3 to easy-install.pth file\n",
      "\n",
      "Using /Users/lemberger/Documents/code/py-smtag/.venv/lib/python3.6/site-packages\n",
      "Searching for MarkupSafe==1.0\n",
      "Best match: MarkupSafe 1.0\n",
      "Adding MarkupSafe 1.0 to easy-install.pth file\n",
      "\n",
      "Using /Users/lemberger/Documents/code/py-smtag/.venv/lib/python3.6/site-packages\n",
      "Searching for html5lib==0.9999999\n",
      "Best match: html5lib 0.9999999\n",
      "Adding html5lib 0.9999999 to easy-install.pth file\n",
      "\n",
      "Using /Users/lemberger/Documents/code/py-smtag/.venv/lib/python3.6/site-packages\n",
      "Finished processing dependencies for smtag==0.0.2.dev2\n",
      "(.venv) "
     ]
    },
    {
     "ename": "",
     "evalue": "1",
     "output_type": "error",
     "traceback": []
    }
   ],
   "source": [
    "python setup.py install"
   ]
  },
  {
   "cell_type": "code",
   "execution_count": 4,
   "metadata": {
    "scrolled": true
   },
   "outputs": [
    {
     "name": "stdout",
     "output_type": "stream",
     "text": [
      "LICENSE.txt\tcommon\t\tdist\t\track\t\tsmtag\n",
      "MANIFEST.in\tcorpora\t\tdocs\t\truns\t\tsmtag.egg-info\n",
      "README.md\tdata\t\tlog\t\tscans\t\ttest\n",
      "__pycache__\tdata4th\t\tmodels\t\tsetup.cfg\ttrain\n",
      "build\t\tdatagen\t\tpredict\t\tsetup.py\n",
      "(.venv) "
     ]
    },
    {
     "ename": "",
     "evalue": "1",
     "output_type": "error",
     "traceback": []
    }
   ],
   "source": [
    "ls"
   ]
  },
  {
   "cell_type": "code",
   "execution_count": 5,
   "metadata": {},
   "outputs": [
    {
     "name": "stdout",
     "output_type": "stream",
     "text": [
      "geneprod.zip\n",
      "(.venv) "
     ]
    },
    {
     "ename": "",
     "evalue": "1",
     "output_type": "error",
     "traceback": []
    }
   ],
   "source": [
    "ls models"
   ]
  },
  {
   "cell_type": "code",
   "execution_count": 7,
   "metadata": {},
   "outputs": [
    {
     "name": "stdout",
     "output_type": "stream",
     "text": [
      "NCBI_disease\tdemo_xml\tgene_protein\tsmall_molecule\n",
      "(.venv) "
     ]
    },
    {
     "ename": "",
     "evalue": "1",
     "output_type": "error",
     "traceback": []
    }
   ],
   "source": [
    "ls data"
   ]
  },
  {
   "cell_type": "code",
   "execution_count": 8,
   "metadata": {
    "scrolled": true
   },
   "outputs": [
    {
     "name": "stdout",
     "output_type": "stream",
     "text": [
      "5X_L1200_gene_protein_test\n",
      "5X_L1200_gene_protein_test.zip\n",
      "5X_L1200_small_molecule_test.zip\n",
      "5X_L1200_small_molecule_train.prov\n",
      "5X_L1200_small_molecule_train.pyth\n",
      "5X_L1200_small_molecule_train.txt\n",
      "5X_L1200_small_molecule_train.zip\n",
      "5X_L1200_small_molecule_train_textcoded.pyth\n",
      "NCBI_disease_test_test.zip\n",
      "NCBI_disease_train_train.zip\n",
      "demo_xml_train.prov\n",
      "demo_xml_train.pyth\n",
      "demo_xml_train.txt\n",
      "demo_xml_train.zip\n",
      "demo_xml_train_textcoded.pyth\n",
      "(.venv) "
     ]
    },
    {
     "ename": "",
     "evalue": "1",
     "output_type": "error",
     "traceback": []
    }
   ],
   "source": [
    "ls data4th"
   ]
  },
  {
   "cell_type": "code",
   "execution_count": null,
   "metadata": {},
   "outputs": [],
   "source": [
    "smtag-neo2xml --help"
   ]
  },
  {
   "cell_type": "code",
   "execution_count": null,
   "metadata": {},
   "outputs": [],
   "source": [
    "smtag-convert2th --help"
   ]
  },
  {
   "cell_type": "code",
   "execution_count": null,
   "metadata": {},
   "outputs": [],
   "source": [
    "smtag-meta --help"
   ]
  },
  {
   "cell_type": "code",
   "execution_count": null,
   "metadata": {},
   "outputs": [],
   "source": [
    "smtag-eval --help"
   ]
  },
  {
   "cell_type": "code",
   "execution_count": null,
   "metadata": {},
   "outputs": [],
   "source": [
    "smtag-predict --help"
   ]
  },
  {
   "cell_type": "markdown",
   "metadata": {},
   "source": [
    "## A. Data generation"
   ]
  },
  {
   "cell_type": "markdown",
   "metadata": {},
   "source": [
    "### Small molecules"
   ]
  },
  {
   "cell_type": "markdown",
   "metadata": {},
   "source": [
    "Enrich examples for small molecules (`-y`). Generate the data with `-5X` sampling of each example of length `-L1200` characters."
   ]
  },
  {
   "cell_type": "code",
   "execution_count": null,
   "metadata": {},
   "outputs": [],
   "source": [
    "smtag-neo2xml -l1000 -y molecule -f small_molecule"
   ]
  },
  {
   "cell_type": "code",
   "execution_count": 14,
   "metadata": {
    "scrolled": false
   },
   "outputs": [
    {
     "name": "stdout",
     "output_type": "stream",
     "text": [
      "\n",
      "loading from: small_molecule/train\n",
      "[############################################################] 100% ...loaded 99.xml\n",
      "688 examples; desired length:1200\n",
      "\n",
      "[############################################################] 100% ...sampling example 687\n",
      "length of the 688 examples selected:\n",
      "795 +/- 589 (min = 47, max = 5292)\n",
      "Exec time for 'run': 64.704s\n",
      "saving to 5X_L1200_small_molecule_train\n",
      "saved 5X_L1200_small_molecule_train.pyth (size: 93843513)\n",
      "saved 5X_L1200_small_molecule_train_textcoded.pyth (size: 136499513)\n",
      "saved 5X_L1200_small_molecule_train.txt (size: 4289107)\n",
      "saved 5X_L1200_small_molecule_train.prov (size: 40285)\n",
      "(.venv) "
     ]
    },
    {
     "ename": "",
     "evalue": "1",
     "output_type": "error",
     "traceback": []
    }
   ],
   "source": [
    "smtag-convert2th -X5 -L1200 -c small_molecule -f 5X_L1200_small_molecule"
   ]
  },
  {
   "cell_type": "markdown",
   "metadata": {},
   "source": [
    "Prepare test set (`-T`) for later:"
   ]
  },
  {
   "cell_type": "code",
   "execution_count": 16,
   "metadata": {},
   "outputs": [
    {
     "name": "stdout",
     "output_type": "stream",
     "text": [
      "\n",
      "loading from: small_molecule/test\n",
      "[############################################################] 100% ...loaded 99.xml\n",
      "176 examples; desired length:1200\n",
      "\n",
      "[############################################################] 100% ...sampling example 175\n",
      "length of the 176 examples selected:\n",
      "826 +/- 567 (min = 110, max = 3432)\n",
      "Exec time for 'run': 17.226s\n",
      "saving to 5X_L1200_small_molecule_test\n",
      "saved 5X_L1200_small_molecule_test.pyth (size: 24006713)\n",
      "saved 5X_L1200_small_molecule_test_textcoded.pyth (size: 34918713)\n",
      "saved 5X_L1200_small_molecule_test.txt (size: 1096519)\n",
      "saved 5X_L1200_small_molecule_test.prov (size: 9540)\n",
      "(.venv) "
     ]
    },
    {
     "ename": "",
     "evalue": "1",
     "output_type": "error",
     "traceback": []
    }
   ],
   "source": [
    "smtag-convert2th -X5 -L1200 -X5 -c small_molecule -f 5X_L1200_small_molecule -T"
   ]
  },
  {
   "cell_type": "markdown",
   "metadata": {},
   "source": [
    "### Gene and proteins"
   ]
  },
  {
   "cell_type": "code",
   "execution_count": null,
   "metadata": {},
   "outputs": [],
   "source": [
    "smtag-neo2xml -l1000 -y gene,protein -f gene_protein"
   ]
  },
  {
   "cell_type": "code",
   "execution_count": 9,
   "metadata": {
    "collapsed": true
   },
   "outputs": [
    {
     "name": "stdout",
     "output_type": "stream",
     "text": [
      "\n",
      "loading from: gene_protein/train\n",
      "[############################################################] 100% ...loaded 99.xml\n",
      "754 examples; desired length:1200\n",
      "\n",
      "[############################################################] 100% ...sampling example 753\n",
      "length of the 754 examples selected:\n",
      "1135 +/- 672 (min = 92, max = 4018)\n",
      "Exec time for 'run': 75.584s\n",
      "saving to 5X_L1200_gene_protein_train\n",
      "saved 5X_L1200_gene_protein_train.pyth (size: 102845913)\n",
      "saved 5X_L1200_gene_protein_train_textcoded.pyth (size: 149593913)\n",
      "saved 5X_L1200_gene_protein_train.txt (size: 4705020)\n",
      "saved 5X_L1200_gene_protein_train.prov (size: 44145)\n",
      "(.venv) "
     ]
    },
    {
     "ename": "",
     "evalue": "1",
     "output_type": "error",
     "traceback": []
    }
   ],
   "source": [
    "smtag-convert2th -X5 -L1200 -c gene_protein -f 5X_L1200_gene_protein"
   ]
  },
  {
   "cell_type": "code",
   "execution_count": 7,
   "metadata": {
    "collapsed": true
   },
   "outputs": [
    {
     "name": "stdout",
     "output_type": "stream",
     "text": [
      "\n",
      "loading from: gene_protein/test\n",
      "[############################################################] 100% ...loaded 99.xml\n",
      "186 examples; desired length:1200\n",
      "\n",
      "[############################################################] 100% ...sampling example 185\n",
      "length of the 186 examples selected:\n",
      "1267 +/- 926 (min = 113, max = 6835)\n",
      "Exec time for 'run': 17.479s\n",
      "saving to 5X_L1200_gene_protein_test\n",
      "saved 5X_L1200_gene_protein_test.pyth (size: 25370713)\n",
      "saved 5X_L1200_gene_protein_test_textcoded.pyth (size: 36902713)\n",
      "saved 5X_L1200_gene_protein_test.txt (size: 1161228)\n",
      "saved 5X_L1200_gene_protein_test.prov (size: 10085)\n",
      "(.venv) "
     ]
    },
    {
     "ename": "",
     "evalue": "1",
     "output_type": "error",
     "traceback": []
    }
   ],
   "source": [
    "smtag-convert2th -X5 -L1200 -c gene_protein -f 5X_L1200_gene_protein -T"
   ]
  },
  {
   "cell_type": "markdown",
   "metadata": {},
   "source": [
    "### Subcellular components"
   ]
  },
  {
   "cell_type": "code",
   "execution_count": null,
   "metadata": {},
   "outputs": [],
   "source": [
    "smtag-neo2xml -l1000 -y subcellular -f subcellular"
   ]
  },
  {
   "cell_type": "code",
   "execution_count": null,
   "metadata": {},
   "outputs": [],
   "source": [
    "smtag-convert2th -X10 -L1200 -c gene_protein -f 10X_L1200_subcellular"
   ]
  },
  {
   "cell_type": "code",
   "execution_count": null,
   "metadata": {},
   "outputs": [],
   "source": [
    "smtag-convert2th -X5 -L1200 -c gene_protein -f 10X_L1200_subcellular -T"
   ]
  },
  {
   "cell_type": "markdown",
   "metadata": {},
   "source": [
    "### Cell line cell type"
   ]
  },
  {
   "cell_type": "code",
   "execution_count": null,
   "metadata": {},
   "outputs": [],
   "source": [
    "smtag-neo2xml -l1000 -y cell -f cell"
   ]
  },
  {
   "cell_type": "code",
   "execution_count": null,
   "metadata": {},
   "outputs": [],
   "source": [
    "smtag-convert2th -X10 -L1200 -c cell -f 10X_L1200_cell"
   ]
  },
  {
   "cell_type": "code",
   "execution_count": null,
   "metadata": {},
   "outputs": [],
   "source": [
    "smtag-convert2th -X10 -L1200 -c cell -f 10X_L1200_cell -T"
   ]
  },
  {
   "cell_type": "markdown",
   "metadata": {},
   "source": [
    "### Tissue"
   ]
  },
  {
   "cell_type": "code",
   "execution_count": null,
   "metadata": {},
   "outputs": [],
   "source": [
    "smtag-neo2xml -l1000 -y tissue -f tissue"
   ]
  },
  {
   "cell_type": "code",
   "execution_count": null,
   "metadata": {},
   "outputs": [],
   "source": [
    "smtag-convert2th -X10 -L1200 -c tissue -f 10X_L1200_tissue"
   ]
  },
  {
   "cell_type": "code",
   "execution_count": null,
   "metadata": {},
   "outputs": [],
   "source": [
    "smtag-convert2th -X10 -L1200 -c tissue -f 10X_L1200_tissue -T"
   ]
  },
  {
   "cell_type": "markdown",
   "metadata": {},
   "source": [
    "### Organism"
   ]
  },
  {
   "cell_type": "code",
   "execution_count": null,
   "metadata": {},
   "outputs": [],
   "source": [
    "smtag-neo2xml -l1000 -y organism -f organism"
   ]
  },
  {
   "cell_type": "code",
   "execution_count": null,
   "metadata": {},
   "outputs": [],
   "source": [
    "smtag-convert2th -X10 -L1200 -c organism -f 10X_L1200_organism"
   ]
  },
  {
   "cell_type": "code",
   "execution_count": null,
   "metadata": {},
   "outputs": [],
   "source": [
    "smtag-convert2th -X10 -L1200 -c organism -f 10X_L1200_organism -T"
   ]
  },
  {
   "cell_type": "markdown",
   "metadata": {},
   "source": [
    "### Experimental assays"
   ]
  },
  {
   "cell_type": "code",
   "execution_count": null,
   "metadata": {},
   "outputs": [],
   "source": [
    "smtag-neo2xml -l100 -y exp_assay -f exp_assay"
   ]
  },
  {
   "cell_type": "code",
   "execution_count": null,
   "metadata": {},
   "outputs": [],
   "source": [
    "smtag-convert2th -X10 -L1200 -c exp_assay -f 10X_L1200_exp_assay"
   ]
  },
  {
   "cell_type": "code",
   "execution_count": null,
   "metadata": {},
   "outputs": [],
   "source": [
    "smtag-convert2th -X10 -L1200 -c exp_assay -f 10X_L1200_exp_assay -T"
   ]
  },
  {
   "cell_type": "markdown",
   "metadata": {},
   "source": [
    "### Disease"
   ]
  },
  {
   "cell_type": "markdown",
   "metadata": {},
   "source": [
    "Using a corpus in the brat format (`-b`) instead of the xml format."
   ]
  },
  {
   "cell_type": "code",
   "execution_count": 10,
   "metadata": {
    "collapsed": true
   },
   "outputs": [
    {
     "name": "stdout",
     "output_type": "stream",
     "text": [
      "\r",
      "[------------------------------------------------------------] 0% ...loading examples\r",
      "[------------------------------------------------------------] 0% ...loading examples\r",
      "[------------------------------------------------------------] 1% ...loading examples\r",
      "[------------------------------------------------------------] 1% ...loading examples\r",
      "[#-----------------------------------------------------------] 1% ...loading examples\r",
      "[#-----------------------------------------------------------] 1% ...loading examples\r",
      "[#-----------------------------------------------------------] 1% ...loading examples\r",
      "[#-----------------------------------------------------------] 1% ...loading examples\r",
      "[#-----------------------------------------------------------] 2% ...loading examples\r",
      "[#-----------------------------------------------------------] 2% ...loading examples\r",
      "[#-----------------------------------------------------------] 2% ...loading examples\r",
      "[#-----------------------------------------------------------] 2% ...loading examples\r",
      "[#-----------------------------------------------------------] 2% ...loading examples\r",
      "[##----------------------------------------------------------] 3% ...loading examples\r",
      "[##----------------------------------------------------------] 3% ...loading examples\r",
      "[##----------------------------------------------------------] 3% ...loading examples\r",
      "[##----------------------------------------------------------] 3% ...loading examples\r",
      "[##----------------------------------------------------------] 3% ...loading examples\r",
      "[##----------------------------------------------------------] 3% ...loading examples\r",
      "[##----------------------------------------------------------] 4% ...loading examples\r",
      "[##----------------------------------------------------------] 4% ...loading examples\r",
      "[##----------------------------------------------------------] 4% ...loading examples\r",
      "[##----------------------------------------------------------] 4% ...loading examples\r",
      "[###---------------------------------------------------------] 4% ...loading examples\r",
      "[###---------------------------------------------------------] 5% ...loading examples\r",
      "[###---------------------------------------------------------] 5% ...loading examples\r",
      "[###---------------------------------------------------------] 5% ...loading examples\r",
      "[###---------------------------------------------------------] 5% ...loading examples\r",
      "[###---------------------------------------------------------] 5% ...loading examples\r",
      "[###---------------------------------------------------------] 5% ...loading examples\r",
      "[###---------------------------------------------------------] 6% ...loading examples\r",
      "[###---------------------------------------------------------] 6% ...loading examples\r",
      "[####--------------------------------------------------------] 6% ...loading examples\r",
      "[####--------------------------------------------------------] 6% ...loading examples\r",
      "[####--------------------------------------------------------] 6% ...loading examples\r",
      "[####--------------------------------------------------------] 6% ...loading examples\r",
      "[####--------------------------------------------------------] 7% ...loading examples\r",
      "[####--------------------------------------------------------] 7% ...loading examples\r",
      "[####--------------------------------------------------------] 7% ...loading examples\r",
      "[####--------------------------------------------------------] 7% ...loading examples\r",
      "[####--------------------------------------------------------] 7% ...loading examples\r",
      "[#####-------------------------------------------------------] 8% ...loading examples\r",
      "[#####-------------------------------------------------------] 8% ...loading examples\r",
      "[#####-------------------------------------------------------] 8% ...loading examples\r",
      "[#####-------------------------------------------------------] 8% ...loading examples\r",
      "[#####-------------------------------------------------------] 8% ...loading examples\r",
      "[#####-------------------------------------------------------] 8% ...loading examples\r",
      "[#####-------------------------------------------------------] 9% ...loading examples\r",
      "[#####-------------------------------------------------------] 9% ...loading examples\r",
      "[#####-------------------------------------------------------] 9% ...loading examples\r",
      "[######------------------------------------------------------] 9% ...loading examples\r",
      "[######------------------------------------------------------] 9% ...loading examples\r",
      "[######------------------------------------------------------] 10% ...loading examples\r",
      "[######------------------------------------------------------] 10% ...loading examples\r",
      "[######------------------------------------------------------] 10% ...loading examples\r",
      "[######------------------------------------------------------] 10% ...loading examples\r",
      "[######------------------------------------------------------] 10% ...loading examples\r",
      "[######------------------------------------------------------] 10% ...loading examples\r",
      "[######------------------------------------------------------] 11% ...loading examples\r",
      "[######------------------------------------------------------] 11% ...loading examples\r",
      "[#######-----------------------------------------------------] 11% ...loading examples\r",
      "[#######-----------------------------------------------------] 11% ...loading examples\r",
      "[#######-----------------------------------------------------] 11% ...loading examples\r",
      "[#######-----------------------------------------------------] 12% ...loading examples\r",
      "[#######-----------------------------------------------------] 12% ...loading examples\r",
      "[#######-----------------------------------------------------] 12% ...loading examples\r",
      "[#######-----------------------------------------------------] 12% ...loading examples\r",
      "[#######-----------------------------------------------------] 12% ...loading examples\r",
      "[#######-----------------------------------------------------] 12% ...loading examples\r",
      "[########----------------------------------------------------] 13% ...loading examples\r",
      "[########----------------------------------------------------] 13% ...loading examples\r",
      "[########----------------------------------------------------] 13% ...loading examples\r",
      "[########----------------------------------------------------] 13% ...loading examples\r",
      "[########----------------------------------------------------] 13% ...loading examples\r",
      "[########----------------------------------------------------] 14% ...loading examples\r",
      "[########----------------------------------------------------] 14% ...loading examples\r",
      "[########----------------------------------------------------] 14% ...loading examples\r",
      "[########----------------------------------------------------] 14% ...loading examples\r",
      "[#########---------------------------------------------------] 14% ...loading examples\r",
      "[#########---------------------------------------------------] 14% ...loading examples\r",
      "[#########---------------------------------------------------] 15% ...loading examples\r",
      "[#########---------------------------------------------------] 15% ...loading examples\r",
      "[#########---------------------------------------------------] 15% ...loading examples\r",
      "[#########---------------------------------------------------] 15% ...loading examples\r",
      "[#########---------------------------------------------------] 15% ...loading examples\r",
      "[#########---------------------------------------------------] 16% ...loading examples\r",
      "[#########---------------------------------------------------] 16% ...loading examples\r",
      "[##########--------------------------------------------------] 16% ...loading examples\r",
      "[##########--------------------------------------------------] 16% ...loading examples\r",
      "[##########--------------------------------------------------] 16% ...loading examples\r",
      "[##########--------------------------------------------------] 16% ...loading examples\r",
      "[##########--------------------------------------------------] 17% ...loading examples\r",
      "[##########--------------------------------------------------] 17% ...loading examples\r",
      "[##########--------------------------------------------------] 17% ...loading examples\r",
      "[##########--------------------------------------------------] 17% ...loading examples\r",
      "[##########--------------------------------------------------] 17% ...loading examples\r",
      "[###########-------------------------------------------------] 18% ...loading examples\r",
      "[###########-------------------------------------------------] 18% ...loading examples\r",
      "[###########-------------------------------------------------] 18% ...loading examples\r",
      "[###########-------------------------------------------------] 18% ...loading examples\r",
      "[###########-------------------------------------------------] 18% ...loading examples\r",
      "[###########-------------------------------------------------] 18% ...loading examples\r",
      "[###########-------------------------------------------------] 19% ...loading examples\r",
      "[###########-------------------------------------------------] 19% ...loading examples\r",
      "[###########-------------------------------------------------] 19% ...loading examples\r",
      "[###########-------------------------------------------------] 19% ...loading examples\r",
      "[############------------------------------------------------] 19% ...loading examples\r",
      "[############------------------------------------------------] 19% ...loading examples\r",
      "[############------------------------------------------------] 20% ...loading examples\r",
      "[############------------------------------------------------] 20% ...loading examples\r",
      "[############------------------------------------------------] 20% ...loading examples\r",
      "[############------------------------------------------------] 20% ...loading examples\r",
      "[############------------------------------------------------] 20% ...loading examples\r",
      "[############------------------------------------------------] 21% ...loading examples\r",
      "[############------------------------------------------------] 21% ...loading examples\r",
      "[#############-----------------------------------------------] 21% ...loading examples\r",
      "[#############-----------------------------------------------] 21% ...loading examples\r",
      "[#############-----------------------------------------------] 21% ...loading examples\r",
      "[#############-----------------------------------------------] 21% ...loading examples\r",
      "[#############-----------------------------------------------] 22% ...loading examples\r",
      "[#############-----------------------------------------------] 22% ...loading examples\r",
      "[#############-----------------------------------------------] 22% ...loading examples\r",
      "[#############-----------------------------------------------] 22% ...loading examples\r",
      "[#############-----------------------------------------------] 22% ...loading examples\r",
      "[##############----------------------------------------------] 23% ...loading examples\r",
      "[##############----------------------------------------------] 23% ...loading examples\r",
      "[##############----------------------------------------------] 23% ...loading examples\r",
      "[##############----------------------------------------------] 23% ...loading examples\r",
      "[##############----------------------------------------------] 23% ...loading examples\r",
      "[##############----------------------------------------------] 23% ...loading examples\r",
      "[##############----------------------------------------------] 24% ...loading examples\r",
      "[##############----------------------------------------------] 24% ...loading examples\r",
      "[##############----------------------------------------------] 24% ...loading examples\r",
      "[###############---------------------------------------------] 24% ...loading examples\r",
      "[###############---------------------------------------------] 24% ...loading examples\r",
      "[###############---------------------------------------------] 25% ...loading examples\r",
      "[###############---------------------------------------------] 25% ...loading examples\r",
      "[###############---------------------------------------------] 25% ...loading examples\r",
      "[###############---------------------------------------------] 25% ...loading examples\r",
      "[###############---------------------------------------------] 25% ...loading examples\r",
      "[###############---------------------------------------------] 25% ...loading examples\r",
      "[###############---------------------------------------------] 26% ...loading examples\r",
      "[###############---------------------------------------------] 26% ...loading examples\r",
      "[################--------------------------------------------] 26% ...loading examples\r",
      "[################--------------------------------------------] 26% ...loading examples\r",
      "[################--------------------------------------------] 26% ...loading examples\r",
      "[################--------------------------------------------] 27% ...loading examples\r",
      "[################--------------------------------------------] 27% ...loading examples\r",
      "[################--------------------------------------------] 27% ...loading examples\r",
      "[################--------------------------------------------] 27% ...loading examples\r",
      "[################--------------------------------------------] 27% ...loading examples\r",
      "[################--------------------------------------------] 27% ...loading examples\r",
      "[#################-------------------------------------------] 28% ...loading examples\r",
      "[#################-------------------------------------------] 28% ...loading examples\r",
      "[#################-------------------------------------------] 28% ...loading examples\r",
      "[#################-------------------------------------------] 28% ...loading examples\r",
      "[#################-------------------------------------------] 28% ...loading examples\r",
      "[#################-------------------------------------------] 29% ...loading examples\r",
      "[#################-------------------------------------------] 29% ...loading examples\r",
      "[#################-------------------------------------------] 29% ...loading examples\r",
      "[#################-------------------------------------------] 29% ...loading examples\r",
      "[##################------------------------------------------] 29% ...loading examples\r",
      "[##################------------------------------------------] 29% ...loading examples\r",
      "[##################------------------------------------------] 30% ...loading examples\r",
      "[##################------------------------------------------] 30% ...loading examples\r",
      "[##################------------------------------------------] 30% ...loading examples\r",
      "[##################------------------------------------------] 30% ...loading examples\r",
      "[##################------------------------------------------] 30% ...loading examples\r",
      "[##################------------------------------------------] 31% ...loading examples\r",
      "[##################------------------------------------------] 31% ...loading examples\r",
      "[###################-----------------------------------------] 31% ...loading examples\r",
      "[###################-----------------------------------------] 31% ...loading examples\r",
      "[###################-----------------------------------------] 31% ...loading examples\r",
      "[###################-----------------------------------------] 31% ...loading examples\r",
      "[###################-----------------------------------------] 32% ...loading examples\r",
      "[###################-----------------------------------------] 32% ...loading examples\r",
      "[###################-----------------------------------------] 32% ...loading examples\r",
      "[###################-----------------------------------------] 32% ...loading examples\r",
      "[###################-----------------------------------------] 32% ...loading examples\r",
      "[###################-----------------------------------------] 32% ...loading examples\r",
      "[####################----------------------------------------] 33% ...loading examples\r",
      "[####################----------------------------------------] 33% ...loading examples\r",
      "[####################----------------------------------------] 33% ...loading examples\r",
      "[####################----------------------------------------] 33% ...loading examples\r",
      "[####################----------------------------------------] 33% ...loading examples\r",
      "[####################----------------------------------------] 34% ...loading examples\r",
      "[####################----------------------------------------] 34% ...loading examples\r",
      "[####################----------------------------------------] 34% ...loading examples\r",
      "[####################----------------------------------------] 34% ...loading examples\r",
      "[#####################---------------------------------------] 34% ...loading examples\r",
      "[#####################---------------------------------------] 34% ...loading examples\r",
      "[#####################---------------------------------------] 35% ...loading examples\r",
      "[#####################---------------------------------------] 35% ...loading examples\r",
      "[#####################---------------------------------------] 35% ...loading examples\r",
      "[#####################---------------------------------------] 35% ...loading examples\r",
      "[#####################---------------------------------------] 35% ...loading examples\r",
      "[#####################---------------------------------------] 36% ...loading examples\r",
      "[#####################---------------------------------------] 36% ...loading examples\r",
      "[######################--------------------------------------] 36% ...loading examples\r",
      "[######################--------------------------------------] 36% ...loading examples\r",
      "[######################--------------------------------------] 36% ...loading examples\r",
      "[######################--------------------------------------] 36% ...loading examples\r",
      "[######################--------------------------------------] 37% ...loading examples\r",
      "[######################--------------------------------------] 37% ...loading examples\r",
      "[######################--------------------------------------] 37% ...loading examples\r",
      "[######################--------------------------------------] 37% ...loading examples\r",
      "[######################--------------------------------------] 37% ...loading examples\r",
      "[#######################-------------------------------------] 38% ...loading examples\r",
      "[#######################-------------------------------------] 38% ...loading examples\r",
      "[#######################-------------------------------------] 38% ...loading examples\r",
      "[#######################-------------------------------------] 38% ...loading examples\r",
      "[#######################-------------------------------------] 38% ...loading examples\r",
      "[#######################-------------------------------------] 38% ...loading examples\r",
      "[#######################-------------------------------------] 39% ...loading examples\r",
      "[#######################-------------------------------------] 39% ...loading examples\r",
      "[#######################-------------------------------------] 39% ...loading examples\r",
      "[########################------------------------------------] 39% ...loading examples\r",
      "[########################------------------------------------] 39% ...loading examples\r",
      "[########################------------------------------------] 40% ...loading examples\r",
      "[########################------------------------------------] 40% ...loading examples\r",
      "[########################------------------------------------] 40% ...loading examples\r",
      "[########################------------------------------------] 40% ...loading examples\r",
      "[########################------------------------------------] 40% ...loading examples\r",
      "[########################------------------------------------] 40% ...loading examples\r",
      "[########################------------------------------------] 41% ...loading examples\r",
      "[########################------------------------------------] 41% ...loading examples\r",
      "[#########################-----------------------------------] 41% ...loading examples\r",
      "[#########################-----------------------------------] 41% ...loading examples\r",
      "[#########################-----------------------------------] 41% ...loading examples\r",
      "[#########################-----------------------------------] 42% ...loading examples\r",
      "[#########################-----------------------------------] 42% ...loading examples\r",
      "[#########################-----------------------------------] 42% ...loading examples\r",
      "[#########################-----------------------------------] 42% ...loading examples\r",
      "[#########################-----------------------------------] 42% ...loading examples\r",
      "[#########################-----------------------------------] 42% ...loading examples\r",
      "[##########################----------------------------------] 43% ...loading examples\r",
      "[##########################----------------------------------] 43% ...loading examples\r",
      "[##########################----------------------------------] 43% ...loading examples\r",
      "[##########################----------------------------------] 43% ...loading examples\r",
      "[##########################----------------------------------] 43% ...loading examples\r",
      "[##########################----------------------------------] 44% ...loading examples\r",
      "[##########################----------------------------------] 44% ...loading examples\r",
      "[##########################----------------------------------] 44% ...loading examples\r",
      "[##########################----------------------------------] 44% ...loading examples\r",
      "[###########################---------------------------------] 44% ...loading examples\r",
      "[###########################---------------------------------] 44% ...loading examples\r",
      "[###########################---------------------------------] 45% ...loading examples\r",
      "[###########################---------------------------------] 45% ...loading examples\r",
      "[###########################---------------------------------] 45% ...loading examples\r",
      "[###########################---------------------------------] 45% ...loading examples\r",
      "[###########################---------------------------------] 45% ...loading examples\r",
      "[###########################---------------------------------] 45% ...loading examples\r",
      "[###########################---------------------------------] 46% ...loading examples\r",
      "[############################--------------------------------] 46% ...loading examples\r",
      "[############################--------------------------------] 46% ...loading examples\r",
      "[############################--------------------------------] 46% ...loading examples\r",
      "[############################--------------------------------] 46% ...loading examples\r",
      "[############################--------------------------------] 47% ...loading examples\r",
      "[############################--------------------------------] 47% ...loading examples\r",
      "[############################--------------------------------] 47% ...loading examples\r",
      "[############################--------------------------------] 47% ...loading examples\r",
      "[############################--------------------------------] 47% ...loading examples\r",
      "[############################--------------------------------] 47% ...loading examples\r",
      "[#############################-------------------------------] 48% ...loading examples\r",
      "[#############################-------------------------------] 48% ...loading examples\r",
      "[#############################-------------------------------] 48% ...loading examples\r",
      "[#############################-------------------------------] 48% ...loading examples\r",
      "[#############################-------------------------------] 48% ...loading examples\r",
      "[#############################-------------------------------] 49% ...loading examples\r",
      "[#############################-------------------------------] 49% ...loading examples\r",
      "[#############################-------------------------------] 49% ...loading examples\r",
      "[#############################-------------------------------] 49% ...loading examples\r",
      "[##############################------------------------------] 49% ...loading examples\r",
      "[##############################------------------------------] 49% ...loading examples\r",
      "[##############################------------------------------] 50% ...loading examples\r",
      "[##############################------------------------------] 50% ...loading examples\r",
      "[##############################------------------------------] 50% ...loading examples\r",
      "[##############################------------------------------] 50% ...loading examples\r",
      "[##############################------------------------------] 50% ...loading examples\r",
      "[##############################------------------------------] 51% ...loading examples\r",
      "[##############################------------------------------] 51% ...loading examples\r",
      "[###############################-----------------------------] 51% ...loading examples\r",
      "[###############################-----------------------------] 51% ...loading examples\r",
      "[###############################-----------------------------] 51% ...loading examples\r",
      "[###############################-----------------------------] 51% ...loading examples\r",
      "[###############################-----------------------------] 52% ...loading examples\r",
      "[###############################-----------------------------] 52% ...loading examples\r",
      "[###############################-----------------------------] 52% ...loading examples\r",
      "[###############################-----------------------------] 52% ...loading examples\r",
      "[###############################-----------------------------] 52% ...loading examples\r",
      "[################################----------------------------] 53% ...loading examples\r",
      "[################################----------------------------] 53% ...loading examples\r",
      "[################################----------------------------] 53% ...loading examples\r",
      "[################################----------------------------] 53% ...loading examples\r",
      "[################################----------------------------] 53% ...loading examples\r",
      "[################################----------------------------] 53% ...loading examples\r",
      "[################################----------------------------] 54% ...loading examples\r",
      "[################################----------------------------] 54% ...loading examples\r",
      "[################################----------------------------] 54% ...loading examples\r",
      "[################################----------------------------] 54% ...loading examples\r",
      "[#################################---------------------------] 54% ...loading examples\r",
      "[#################################---------------------------] 55% ...loading examples\r",
      "[#################################---------------------------] 55% ...loading examples\r",
      "[#################################---------------------------] 55% ...loading examples\r",
      "[#################################---------------------------] 55% ...loading examples\r",
      "[#################################---------------------------] 55% ...loading examples\r",
      "[#################################---------------------------] 55% ...loading examples\r",
      "[#################################---------------------------] 56% ...loading examples\r",
      "[#################################---------------------------] 56% ...loading examples\r",
      "[##################################--------------------------] 56% ...loading examples\r",
      "[##################################--------------------------] 56% ...loading examples\r",
      "[##################################--------------------------] 56% ...loading examples\r",
      "[##################################--------------------------] 56% ...loading examples\r",
      "[##################################--------------------------] 57% ...loading examples\r",
      "[##################################--------------------------] 57% ...loading examples\r",
      "[##################################--------------------------] 57% ...loading examples\r",
      "[##################################--------------------------] 57% ...loading examples\r",
      "[##################################--------------------------] 57% ...loading examples\r",
      "[###################################-------------------------] 58% ...loading examples\r",
      "[###################################-------------------------] 58% ...loading examples\r",
      "[###################################-------------------------] 58% ...loading examples\r",
      "[###################################-------------------------] 58% ...loading examples\r",
      "[###################################-------------------------] 58% ...loading examples\r",
      "[###################################-------------------------] 58% ...loading examples\r",
      "[###################################-------------------------] 59% ...loading examples\r",
      "[###################################-------------------------] 59% ...loading examples\r",
      "[###################################-------------------------] 59% ...loading examples\r",
      "[####################################------------------------] 59% ...loading examples\r",
      "[####################################------------------------] 59% ...loading examples\r",
      "[####################################------------------------] 60% ...loading examples\r",
      "[####################################------------------------] 60% ...loading examples\r",
      "[####################################------------------------] 60% ...loading examples\r",
      "[####################################------------------------] 60% ...loading examples\r",
      "[####################################------------------------] 60% ...loading examples\r",
      "[####################################------------------------] 60% ...loading examples\r",
      "[####################################------------------------] 61% ...loading examples\r",
      "[####################################------------------------] 61% ...loading examples\r",
      "[#####################################-----------------------] 61% ...loading examples\r",
      "[#####################################-----------------------] 61% ...loading examples\r",
      "[#####################################-----------------------] 61% ...loading examples\r",
      "[#####################################-----------------------] 62% ...loading examples\r",
      "[#####################################-----------------------] 62% ...loading examples\r",
      "[#####################################-----------------------] 62% ...loading examples\r",
      "[#####################################-----------------------] 62% ...loading examples\r",
      "[#####################################-----------------------] 62% ...loading examples\r",
      "[#####################################-----------------------] 62% ...loading examples\r",
      "[######################################----------------------] 63% ...loading examples\r",
      "[######################################----------------------] 63% ...loading examples\r",
      "[######################################----------------------] 63% ...loading examples\r",
      "[######################################----------------------] 63% ...loading examples\r",
      "[######################################----------------------] 63% ...loading examples\r",
      "[######################################----------------------] 64% ...loading examples\r",
      "[######################################----------------------] 64% ...loading examples\r",
      "[######################################----------------------] 64% ...loading examples\r",
      "[######################################----------------------] 64% ...loading examples\r",
      "[#######################################---------------------] 64% ...loading examples\r",
      "[#######################################---------------------] 64% ...loading examples\r",
      "[#######################################---------------------] 65% ...loading examples\r",
      "[#######################################---------------------] 65% ...loading examples\r",
      "[#######################################---------------------] 65% ...loading examples\r",
      "[#######################################---------------------] 65% ...loading examples\r",
      "[#######################################---------------------] 65% ...loading examples\r",
      "[#######################################---------------------] 66% ...loading examples\r",
      "[#######################################---------------------] 66% ...loading examples\r",
      "[########################################--------------------] 66% ...loading examples\r",
      "[########################################--------------------] 66% ...loading examples\r",
      "[########################################--------------------] 66% ...loading examples\r",
      "[########################################--------------------] 66% ...loading examples\r",
      "[########################################--------------------] 67% ...loading examples\r",
      "[########################################--------------------] 67% ...loading examples\r",
      "[########################################--------------------] 67% ...loading examples\r",
      "[########################################--------------------] 67% ...loading examples\r",
      "[########################################--------------------] 67% ...loading examples\r",
      "[#########################################-------------------] 68% ...loading examples\r",
      "[#########################################-------------------] 68% ...loading examples\r",
      "[#########################################-------------------] 68% ...loading examples\r",
      "[#########################################-------------------] 68% ...loading examples\r",
      "[#########################################-------------------] 68% ...loading examples\r",
      "[#########################################-------------------] 68% ...loading examples\r",
      "[#########################################-------------------] 69% ...loading examples\r",
      "[#########################################-------------------] 69% ...loading examples\r",
      "[#########################################-------------------] 69% ...loading examples\r",
      "[#########################################-------------------] 69% ...loading examples\r",
      "[##########################################------------------] 69% ...loading examples\r",
      "[##########################################------------------] 69% ...loading examples\r",
      "[##########################################------------------] 70% ...loading examples\r",
      "[##########################################------------------] 70% ...loading examples\r",
      "[##########################################------------------] 70% ...loading examples\r",
      "[##########################################------------------] 70% ...loading examples\r",
      "[##########################################------------------] 70% ...loading examples\r",
      "[##########################################------------------] 71% ...loading examples\r",
      "[##########################################------------------] 71% ...loading examples\r",
      "[###########################################-----------------] 71% ...loading examples\r",
      "[###########################################-----------------] 71% ...loading examples\r",
      "[###########################################-----------------] 71% ...loading examples\r",
      "[###########################################-----------------] 71% ...loading examples\r",
      "[###########################################-----------------] 72% ...loading examples\r",
      "[###########################################-----------------] 72% ...loading examples\r",
      "[###########################################-----------------] 72% ...loading examples\r",
      "[###########################################-----------------] 72% ...loading examples\r",
      "[###########################################-----------------] 72% ...loading examples\r",
      "[############################################----------------] 73% ...loading examples\r",
      "[############################################----------------] 73% ...loading examples\r",
      "[############################################----------------] 73% ...loading examples\r",
      "[############################################----------------] 73% ...loading examples\r",
      "[############################################----------------] 73% ...loading examples\r",
      "[############################################----------------] 73% ...loading examples\r",
      "[############################################----------------] 74% ...loading examples\r",
      "[############################################----------------] 74% ...loading examples\r",
      "[############################################----------------] 74% ...loading examples\r",
      "[#############################################---------------] 74% ...loading examples\r",
      "[#############################################---------------] 74% ...loading examples\r",
      "[#############################################---------------] 75% ...loading examples\r",
      "[#############################################---------------] 75% ...loading examples\r",
      "[#############################################---------------] 75% ...loading examples\r",
      "[#############################################---------------] 75% ...loading examples\r",
      "[#############################################---------------] 75% ...loading examples\r",
      "[#############################################---------------] 75% ...loading examples\r",
      "[#############################################---------------] 76% ...loading examples\r",
      "[#############################################---------------] 76% ...loading examples\r",
      "[##############################################--------------] 76% ...loading examples\r",
      "[##############################################--------------] 76% ...loading examples\r",
      "[##############################################--------------] 76% ...loading examples\r",
      "[##############################################--------------] 77% ...loading examples\r",
      "[##############################################--------------] 77% ...loading examples\r",
      "[##############################################--------------] 77% ...loading examples\r",
      "[##############################################--------------] 77% ...loading examples\r",
      "[##############################################--------------] 77% ...loading examples\r",
      "[##############################################--------------] 77% ...loading examples\r",
      "[###############################################-------------] 78% ...loading examples\r",
      "[###############################################-------------] 78% ...loading examples\r",
      "[###############################################-------------] 78% ...loading examples\r",
      "[###############################################-------------] 78% ...loading examples\r",
      "[###############################################-------------] 78% ...loading examples\r",
      "[###############################################-------------] 79% ...loading examples\r",
      "[###############################################-------------] 79% ...loading examples\r",
      "[###############################################-------------] 79% ...loading examples\r",
      "[###############################################-------------] 79% ...loading examples\r",
      "[################################################------------] 79% ...loading examples\r",
      "[################################################------------] 79% ...loading examples\r",
      "[################################################------------] 80% ...loading examples\r",
      "[################################################------------] 80% ...loading examples\r",
      "[################################################------------] 80% ...loading examples\r",
      "[################################################------------] 80% ...loading examples\r",
      "[################################################------------] 80% ...loading examples\r",
      "[################################################------------] 81% ...loading examples\r",
      "[################################################------------] 81% ...loading examples\r",
      "[#################################################-----------] 81% ...loading examples\r",
      "[#################################################-----------] 81% ...loading examples\r",
      "[#################################################-----------] 81% ...loading examples\r",
      "[#################################################-----------] 81% ...loading examples\r",
      "[#################################################-----------] 82% ...loading examples\r",
      "[#################################################-----------] 82% ...loading examples\r",
      "[#################################################-----------] 82% ...loading examples\r",
      "[#################################################-----------] 82% ...loading examples\r",
      "[#################################################-----------] 82% ...loading examples\r",
      "[#################################################-----------] 82% ...loading examples\r",
      "[##################################################----------] 83% ...loading examples\r",
      "[##################################################----------] 83% ...loading examples\r",
      "[##################################################----------] 83% ...loading examples\r",
      "[##################################################----------] 83% ...loading examples\r",
      "[##################################################----------] 83% ...loading examples\r",
      "[##################################################----------] 84% ...loading examples\r",
      "[##################################################----------] 84% ...loading examples\r",
      "[##################################################----------] 84% ...loading examples\r",
      "[##################################################----------] 84% ...loading examples\r",
      "[###################################################---------] 84% ...loading examples\r",
      "[###################################################---------] 84% ...loading examples\r",
      "[###################################################---------] 85% ...loading examples\r",
      "[###################################################---------] 85% ...loading examples\r",
      "[###################################################---------] 85% ...loading examples\r",
      "[###################################################---------] 85% ...loading examples\r",
      "[###################################################---------] 85% ...loading examples\r",
      "[###################################################---------] 86% ...loading examples\r",
      "[###################################################---------] 86% ...loading examples\r",
      "[####################################################--------] 86% ...loading examples\r",
      "[####################################################--------] 86% ...loading examples\r",
      "[####################################################--------] 86% ...loading examples\r",
      "[####################################################--------] 86% ...loading examples\r",
      "[####################################################--------] 87% ...loading examples\r",
      "[####################################################--------] 87% ...loading examples\r",
      "[####################################################--------] 87% ...loading examples\r",
      "[####################################################--------] 87% ...loading examples\r",
      "[####################################################--------] 87% ...loading examples\r",
      "[#####################################################-------] 88% ...loading examples\r",
      "[#####################################################-------] 88% ...loading examples\r",
      "[#####################################################-------] 88% ...loading examples\r",
      "[#####################################################-------] 88% ...loading examples\r",
      "[#####################################################-------] 88% ...loading examples\r",
      "[#####################################################-------] 88% ...loading examples\r",
      "[#####################################################-------] 89% ...loading examples\r",
      "[#####################################################-------] 89% ...loading examples\r",
      "[#####################################################-------] 89% ...loading examples\r",
      "[######################################################------] 89% ...loading examples\r",
      "[######################################################------] 89% ...loading examples\r",
      "[######################################################------] 90% ...loading examples\r",
      "[######################################################------] 90% ...loading examples\r",
      "[######################################################------] 90% ...loading examples\r",
      "[######################################################------] 90% ...loading examples\r",
      "[######################################################------] 90% ...loading examples\r",
      "[######################################################------] 90% ...loading examples\r",
      "[######################################################------] 91% ...loading examples\r",
      "[######################################################------] 91% ...loading examples\r",
      "[#######################################################-----] 91% ...loading examples\r",
      "[#######################################################-----] 91% ...loading examples\r",
      "[#######################################################-----] 91% ...loading examples\r",
      "[#######################################################-----] 92% ...loading examples\r",
      "[#######################################################-----] 92% ...loading examples\r",
      "[#######################################################-----] 92% ...loading examples\r",
      "[#######################################################-----] 92% ...loading examples\r",
      "[#######################################################-----] 92% ...loading examples\r",
      "[#######################################################-----] 92% ...loading examples\r",
      "[########################################################----] 93% ...loading examples\r",
      "[########################################################----] 93% ...loading examples\r",
      "[########################################################----] 93% ...loading examples\r",
      "[########################################################----] 93% ...loading examples\r",
      "[########################################################----] 93% ...loading examples\r",
      "[########################################################----] 94% ...loading examples\r",
      "[########################################################----] 94% ...loading examples\r",
      "[########################################################----] 94% ...loading examples\r",
      "[########################################################----] 94% ...loading examples\r",
      "[#########################################################---] 94% ...loading examples\r",
      "[#########################################################---] 94% ...loading examples\r",
      "[#########################################################---] 95% ...loading examples\r",
      "[#########################################################---] 95% ...loading examples\r",
      "[#########################################################---] 95% ...loading examples\r",
      "[#########################################################---] 95% ...loading examples\r",
      "[#########################################################---] 95% ...loading examples\r",
      "[#########################################################---] 95% ...loading examples\r",
      "[#########################################################---] 96% ...loading examples\r",
      "[##########################################################--] 96% ...loading examples\r",
      "[##########################################################--] 96% ...loading examples\r",
      "[##########################################################--] 96% ...loading examples\r",
      "[##########################################################--] 96% ...loading examples\r",
      "[##########################################################--] 97% ...loading examples\r",
      "[##########################################################--] 97% ...loading examples\r",
      "[##########################################################--] 97% ...loading examples\r",
      "[##########################################################--] 97% ...loading examples\r",
      "[##########################################################--] 97% ...loading examples\r",
      "[##########################################################--] 97% ...loading examples\r",
      "[###########################################################-] 98% ...loading examples\r",
      "[###########################################################-] 98% ...loading examples\r",
      "[###########################################################-] 98% ...loading examples\r",
      "[###########################################################-] 98% ...loading examples\r",
      "[###########################################################-] 98% ...loading examples\r",
      "[###########################################################-] 99% ...loading examples\r",
      "[###########################################################-] 99% ...loading examples\r",
      "[###########################################################-] 99% ...loading examples\r",
      "[###########################################################-] 99% ...loading examples\r",
      "[############################################################] 99% ...loading examples\r",
      "[############################################################] 99% ...loading examples\r",
      "[############################################################] 100% ...loading examples\r",
      "[############################################################] 100% ...loading examples\r",
      "[############################################################] 100% ...loading examples\n"
     ]
    },
    {
     "name": "stdout",
     "output_type": "stream",
     "text": [
      "554 examples; desired length:1200\n",
      "\n",
      "[############################################################] 100% ...sampling example 553\n",
      "length of the 554 examples selected:\n",
      "1276 +/- 418 (min = 283, max = 2655)\n",
      "Exec time for 'run': 51.025s\n",
      "saving to NCBI_disease_train_train\n",
      "saved NCBI_disease_train_train.pyth (size: 75565913)\n",
      "saved NCBI_disease_train_train_textcoded.pyth (size: 109913913)\n",
      "saved NCBI_disease_train_train.txt (size: 3437570)\n",
      "saved NCBI_disease_train_train.prov (size: 23040)\n",
      "(.venv) "
     ]
    },
    {
     "ename": "",
     "evalue": "1",
     "output_type": "error",
     "traceback": []
    }
   ],
   "source": [
    "smtag-convert2th -L1200 -X5 -b -c NCBI_disease"
   ]
  },
  {
   "cell_type": "code",
   "execution_count": 11,
   "metadata": {
    "collapsed": true
   },
   "outputs": [
    {
     "name": "stdout",
     "output_type": "stream",
     "text": [
      "\r",
      "[------------------------------------------------------------] 0% ...loading examples\r",
      "[#-----------------------------------------------------------] 1% ...loading examples\r",
      "[#-----------------------------------------------------------] 1% ...loading examples\r",
      "[#-----------------------------------------------------------] 2% ...loading examples\r",
      "[#-----------------------------------------------------------] 2% ...loading examples\r",
      "[##----------------------------------------------------------] 3% ...loading examples\r",
      "[##----------------------------------------------------------] 3% ...loading examples\r",
      "[##----------------------------------------------------------] 3% ...loading examples\r",
      "[##----------------------------------------------------------] 4% ...loading examples\r",
      "[###---------------------------------------------------------] 4% ...loading examples\r",
      "[###---------------------------------------------------------] 5% ...loading examples\r",
      "[###---------------------------------------------------------] 5% ...loading examples\r",
      "[###---------------------------------------------------------] 5% ...loading examples\r",
      "[####--------------------------------------------------------] 6% ...loading examples\r",
      "[####--------------------------------------------------------] 6% ...loading examples\r",
      "[####--------------------------------------------------------] 7% ...loading examples\r",
      "[####--------------------------------------------------------] 7% ...loading examples\r",
      "[#####-------------------------------------------------------] 8% ...loading examples\r",
      "[#####-------------------------------------------------------] 8% ...loading examples\r",
      "[#####-------------------------------------------------------] 8% ...loading examples\r",
      "[#####-------------------------------------------------------] 9% ...loading examples\r",
      "[######------------------------------------------------------] 9% ...loading examples\r",
      "[######------------------------------------------------------] 10% ...loading examples\r",
      "[######------------------------------------------------------] 10% ...loading examples\r",
      "[######------------------------------------------------------] 11% ...loading examples\r",
      "[#######-----------------------------------------------------] 11% ...loading examples\r",
      "[#######-----------------------------------------------------] 11% ...loading examples\r",
      "[#######-----------------------------------------------------] 12% ...loading examples\r",
      "[#######-----------------------------------------------------] 12% ...loading examples\r",
      "[########----------------------------------------------------] 13% ...loading examples\r",
      "[########----------------------------------------------------] 13% ...loading examples\r",
      "[########----------------------------------------------------] 13% ...loading examples\r",
      "[########----------------------------------------------------] 14% ...loading examples\r",
      "[#########---------------------------------------------------] 14% ...loading examples\r",
      "[#########---------------------------------------------------] 15% ...loading examples\r",
      "[#########---------------------------------------------------] 15% ...loading examples\r",
      "[#########---------------------------------------------------] 16% ...loading examples\r",
      "[##########--------------------------------------------------] 16% ...loading examples\r",
      "[##########--------------------------------------------------] 16% ...loading examples\r",
      "[##########--------------------------------------------------] 17% ...loading examples\r",
      "[##########--------------------------------------------------] 17% ...loading examples\r",
      "[###########-------------------------------------------------] 18% ...loading examples\r",
      "[###########-------------------------------------------------] 18% ...loading examples\r",
      "[###########-------------------------------------------------] 18% ...loading examples\r",
      "[###########-------------------------------------------------] 19% ...loading examples\r",
      "[############------------------------------------------------] 19% ...loading examples\r",
      "[############------------------------------------------------] 20% ...loading examples\r",
      "[############------------------------------------------------] 20% ...loading examples\r",
      "[############------------------------------------------------] 21% ...loading examples\r",
      "[#############-----------------------------------------------] 21% ...loading examples\r",
      "[#############-----------------------------------------------] 21% ...loading examples\r",
      "[#############-----------------------------------------------] 22% ...loading examples\r",
      "[#############-----------------------------------------------] 22% ...loading examples\r",
      "[##############----------------------------------------------] 23% ...loading examples\r",
      "[##############----------------------------------------------] 23% ...loading examples\r",
      "[##############----------------------------------------------] 24% ...loading examples\r",
      "[##############----------------------------------------------] 24% ...loading examples\r",
      "[###############---------------------------------------------] 24% ...loading examples\r",
      "[###############---------------------------------------------] 25% ...loading examples\r",
      "[###############---------------------------------------------] 25% ...loading examples\r",
      "[###############---------------------------------------------] 26% ...loading examples\r",
      "[################--------------------------------------------] 26% ...loading examples\r",
      "[################--------------------------------------------] 26% ...loading examples\r",
      "[################--------------------------------------------] 27% ...loading examples\r",
      "[################--------------------------------------------] 27% ...loading examples\r",
      "[#################-------------------------------------------] 28% ...loading examples\r",
      "[#################-------------------------------------------] 28% ...loading examples\r",
      "[#################-------------------------------------------] 29% ...loading examples\r",
      "[#################-------------------------------------------] 29% ...loading examples\r",
      "[##################------------------------------------------] 29% ...loading examples\r",
      "[##################------------------------------------------] 30% ...loading examples\r",
      "[##################------------------------------------------] 30% ...loading examples\r",
      "[##################------------------------------------------] 31% ...loading examples\r",
      "[###################-----------------------------------------] 31% ...loading examples\r",
      "[###################-----------------------------------------] 32% ...loading examples\r",
      "[###################-----------------------------------------] 32% ...loading examples\r",
      "[###################-----------------------------------------] 32% ...loading examples\r",
      "[####################----------------------------------------] 33% ...loading examples\r",
      "[####################----------------------------------------] 33% ...loading examples\r",
      "[####################----------------------------------------] 34% ...loading examples\r",
      "[####################----------------------------------------] 34% ...loading examples\r",
      "[#####################---------------------------------------] 34% ...loading examples\r",
      "[#####################---------------------------------------] 35% ...loading examples\r",
      "[#####################---------------------------------------] 35% ...loading examples\r",
      "[#####################---------------------------------------] 36% ...loading examples\r",
      "[######################--------------------------------------] 36% ...loading examples\r",
      "[######################--------------------------------------] 37% ...loading examples\r",
      "[######################--------------------------------------] 37% ...loading examples\r",
      "[######################--------------------------------------] 37% ...loading examples\r",
      "[#######################-------------------------------------] 38% ...loading examples\r",
      "[#######################-------------------------------------] 38% ...loading examples\r",
      "[#######################-------------------------------------] 39% ...loading examples\r",
      "[#######################-------------------------------------] 39% ...loading examples\r",
      "[########################------------------------------------] 39% ...loading examples\r",
      "[########################------------------------------------] 40% ...loading examples\r",
      "[########################------------------------------------] 40% ...loading examples\r",
      "[########################------------------------------------] 41% ...loading examples\r",
      "[#########################-----------------------------------] 41% ...loading examples\r",
      "[#########################-----------------------------------] 42% ...loading examples\r",
      "[#########################-----------------------------------] 42% ...loading examples\r",
      "[#########################-----------------------------------] 42% ...loading examples\r",
      "[##########################----------------------------------] 43% ...loading examples\r",
      "[##########################----------------------------------] 43% ...loading examples\r",
      "[##########################----------------------------------] 44% ...loading examples\r",
      "[##########################----------------------------------] 44% ...loading examples\r",
      "[###########################---------------------------------] 45% ...loading examples\r",
      "[###########################---------------------------------] 45% ...loading examples\r",
      "[###########################---------------------------------] 45% ...loading examples\r",
      "[###########################---------------------------------] 46% ...loading examples\r",
      "[############################--------------------------------] 46% ...loading examples\r",
      "[############################--------------------------------] 47% ...loading examples\r",
      "[############################--------------------------------] 47% ...loading examples\r",
      "[############################--------------------------------] 47% ...loading examples\r",
      "[#############################-------------------------------] 48% ...loading examples\r",
      "[#############################-------------------------------] 48% ...loading examples\r",
      "[#############################-------------------------------] 49% ...loading examples\r",
      "[#############################-------------------------------] 49% ...loading examples\r",
      "[##############################------------------------------] 50% ...loading examples\r",
      "[##############################------------------------------] 50% ...loading examples\r",
      "[##############################------------------------------] 50% ...loading examples\r",
      "[###############################-----------------------------] 51% ...loading examples\r",
      "[###############################-----------------------------] 51% ...loading examples\r",
      "[###############################-----------------------------] 52% ...loading examples\r",
      "[###############################-----------------------------] 52% ...loading examples\r",
      "[################################----------------------------] 53% ...loading examples\r",
      "[################################----------------------------] 53% ...loading examples\r",
      "[################################----------------------------] 53% ...loading examples\r",
      "[################################----------------------------] 54% ...loading examples\r",
      "[#################################---------------------------] 54% ...loading examples\r",
      "[#################################---------------------------] 55% ...loading examples\r",
      "[#################################---------------------------] 55% ...loading examples\r",
      "[#################################---------------------------] 55% ...loading examples\r",
      "[##################################--------------------------] 56% ...loading examples\r",
      "[##################################--------------------------] 56% ...loading examples\r",
      "[##################################--------------------------] 57% ...loading examples\r",
      "[##################################--------------------------] 57% ...loading examples\r",
      "[###################################-------------------------] 58% ...loading examples\r",
      "[###################################-------------------------] 58% ...loading examples\r",
      "[###################################-------------------------] 58% ...loading examples\r",
      "[###################################-------------------------] 59% ...loading examples\r",
      "[####################################------------------------] 59% ...loading examples\r",
      "[####################################------------------------] 60% ...loading examples\r",
      "[####################################------------------------] 60% ...loading examples\r",
      "[####################################------------------------] 61% ...loading examples\r",
      "[#####################################-----------------------] 61% ...loading examples\r",
      "[#####################################-----------------------] 61% ...loading examples\r",
      "[#####################################-----------------------] 62% ...loading examples\r",
      "[#####################################-----------------------] 62% ...loading examples\r",
      "[######################################----------------------] 63% ...loading examples\r",
      "[######################################----------------------] 63% ...loading examples\r",
      "[######################################----------------------] 63% ...loading examples\r",
      "[######################################----------------------] 64% ...loading examples\r",
      "[#######################################---------------------] 64% ...loading examples\r",
      "[#######################################---------------------] 65% ...loading examples\r",
      "[#######################################---------------------] 65% ...loading examples\r",
      "[#######################################---------------------] 66% ...loading examples\r",
      "[########################################--------------------] 66% ...loading examples\r",
      "[########################################--------------------] 66% ...loading examples\r",
      "[########################################--------------------] 67% ...loading examples\r",
      "[########################################--------------------] 67% ...loading examples\r",
      "[#########################################-------------------] 68% ...loading examples\r",
      "[#########################################-------------------] 68% ...loading examples\r",
      "[#########################################-------------------] 68% ...loading examples\r",
      "[#########################################-------------------] 69% ...loading examples\r",
      "[##########################################------------------] 69% ...loading examples\r",
      "[##########################################------------------] 70% ...loading examples\r",
      "[##########################################------------------] 70% ...loading examples\r",
      "[##########################################------------------] 71% ...loading examples\r",
      "[###########################################-----------------] 71% ...loading examples\r",
      "[###########################################-----------------] 71% ...loading examples\r",
      "[###########################################-----------------] 72% ...loading examples\r",
      "[###########################################-----------------] 72% ...loading examples\r",
      "[############################################----------------] 73% ...loading examples\r",
      "[############################################----------------] 73% ...loading examples\r",
      "[############################################----------------] 74% ...loading examples\r",
      "[############################################----------------] 74% ...loading examples\r",
      "[#############################################---------------] 74% ...loading examples\r",
      "[#############################################---------------] 75% ...loading examples\r",
      "[#############################################---------------] 75% ...loading examples\r",
      "[#############################################---------------] 76% ...loading examples\r",
      "[##############################################--------------] 76% ...loading examples\r",
      "[##############################################--------------] 76% ...loading examples\r",
      "[##############################################--------------] 77% ...loading examples\r",
      "[##############################################--------------] 77% ...loading examples\r",
      "[###############################################-------------] 78% ...loading examples\r",
      "[###############################################-------------] 78% ...loading examples\r",
      "[###############################################-------------] 79% ...loading examples\r",
      "[###############################################-------------] 79% ...loading examples\r",
      "[################################################------------] 79% ...loading examples\r",
      "[################################################------------] 80% ...loading examples\r",
      "[################################################------------] 80% ...loading examples\r",
      "[################################################------------] 81% ...loading examples\r",
      "[#################################################-----------] 81% ...loading examples\r",
      "[#################################################-----------] 82% ...loading examples\r",
      "[#################################################-----------] 82% ...loading examples\r",
      "[#################################################-----------] 82% ...loading examples\r",
      "[##################################################----------] 83% ...loading examples\r",
      "[##################################################----------] 83% ...loading examples\r",
      "[##################################################----------] 84% ...loading examples\r",
      "[##################################################----------] 84% ...loading examples\r",
      "[###################################################---------] 84% ...loading examples\r",
      "[###################################################---------] 85% ...loading examples\r",
      "[###################################################---------] 85% ...loading examples\r",
      "[###################################################---------] 86% ...loading examples\r",
      "[####################################################--------] 86% ...loading examples\r",
      "[####################################################--------] 87% ...loading examples\r",
      "[####################################################--------] 87% ...loading examples\r",
      "[####################################################--------] 87% ...loading examples\r",
      "[#####################################################-------] 88% ...loading examples\r",
      "[#####################################################-------] 88% ...loading examples\r",
      "[#####################################################-------] 89% ...loading examples\r",
      "[#####################################################-------] 89% ...loading examples\r",
      "[######################################################------] 89% ...loading examples\r",
      "[######################################################------] 90% ...loading examples\r",
      "[######################################################------] 90% ...loading examples\r",
      "[######################################################------] 91% ...loading examples\r",
      "[#######################################################-----] 91% ...loading examples\r",
      "[#######################################################-----] 92% ...loading examples\r",
      "[#######################################################-----] 92% ...loading examples\r",
      "[#######################################################-----] 92% ...loading examples\r",
      "[########################################################----] 93% ...loading examples\r",
      "[########################################################----] 93% ...loading examples\r",
      "[########################################################----] 94% ...loading examples\r",
      "[########################################################----] 94% ...loading examples\r",
      "[#########################################################---] 95% ...loading examples\r",
      "[#########################################################---] 95% ...loading examples\r",
      "[#########################################################---] 95% ...loading examples\r",
      "[#########################################################---] 96% ...loading examples\r",
      "[##########################################################--] 96% ...loading examples\r",
      "[##########################################################--] 97% ...loading examples\r",
      "[##########################################################--] 97% ...loading examples\r",
      "[##########################################################--] 97% ...loading examples\r",
      "[###########################################################-] 98% ...loading examples\r",
      "[###########################################################-] 98% ...loading examples\r",
      "[###########################################################-] 99% ...loading examples\r",
      "[###########################################################-] 99% ...loading examples\r",
      "[############################################################] 100% ...loading examples\r",
      "[############################################################] 100% ...loading examples\n"
     ]
    },
    {
     "name": "stdout",
     "output_type": "stream",
     "text": [
      "238 examples; desired length:1200\n",
      "\n",
      "[############################################################] 100% ...sampling example 237\n",
      "length of the 238 examples selected:\n",
      "1294 +/- 401 (min = 505, max = 2837)\n",
      "Exec time for 'run': 20.421s\n",
      "saving to NCBI_disease_test_test\n",
      "saved NCBI_disease_test_test.pyth (size: 32463513)\n",
      "saved NCBI_disease_test_test_textcoded.pyth (size: 47219513)\n",
      "saved NCBI_disease_test_test.txt (size: 1476790)\n",
      "saved NCBI_disease_test_test.prov (size: 9500)\n",
      "(.venv) "
     ]
    },
    {
     "ename": "",
     "evalue": "1",
     "output_type": "error",
     "traceback": []
    }
   ],
   "source": [
    "smtag-convert2th -L1200 -X5 -b -c NCBI_disease -T"
   ]
  },
  {
   "cell_type": "markdown",
   "metadata": {},
   "source": [
    "### Intervention and measurements on geneproducts given reporter"
   ]
  },
  {
   "cell_type": "markdown",
   "metadata": {},
   "source": [
    "Anonymize gene and proteins (-`A`) but do not anonymize reporters (`-AA`). Keep roles only for genes and proteins (`-s`)."
   ]
  },
  {
   "cell_type": "code",
   "execution_count": null,
   "metadata": {},
   "outputs": [],
   "source": [
    "smtag-neo2xml -l1000 -y gene,protein -A gene,protein -AA reporter -s -f gene_protein_anonym_not_reporter"
   ]
  },
  {
   "cell_type": "code",
   "execution_count": null,
   "metadata": {},
   "outputs": [],
   "source": [
    "smtag-convert2th -L1200 -X5 -c gene_reporter_anonym_but_not_reporter -f 5X_L1200_gene_protein_anonym_not_reporter"
   ]
  },
  {
   "cell_type": "code",
   "execution_count": null,
   "metadata": {},
   "outputs": [],
   "source": [
    "smtag-convert2th -L1200 -X5 -c gene_reporter_anonym_but_not_reporter -f 5X_L1200_gene_protein_anonym_not_reporter -T"
   ]
  },
  {
   "cell_type": "markdown",
   "metadata": {},
   "source": [
    "### Intervention and measurements on small molecules"
   ]
  },
  {
   "cell_type": "markdown",
   "metadata": {},
   "source": [
    "### Reporter on geneproducts"
   ]
  },
  {
   "cell_type": "markdown",
   "metadata": {},
   "source": [
    "Select enrich for protein and genes (`-y`) and reporters (`-r`). Remove all tags except genes and proteins (`-e`)."
   ]
  },
  {
   "cell_type": "code",
   "execution_count": null,
   "metadata": {},
   "outputs": [],
   "source": [
    "smtag-neo2xml -l1000 -y gene,protein -r reporter -e -f gene_protein_reporter"
   ]
  },
  {
   "cell_type": "code",
   "execution_count": null,
   "metadata": {},
   "outputs": [],
   "source": [
    "smtag-convert2th -L1200 -X5 -c reporter_gene_protein -f 5X_L1200_gene_protein_reporter"
   ]
  },
  {
   "cell_type": "code",
   "execution_count": null,
   "metadata": {},
   "outputs": [],
   "source": [
    "smtag-convert2th -L1200 -X5 -c reporter_gene_protein -f 5X_L1200_gene_protein_reporter -T"
   ]
  },
  {
   "cell_type": "markdown",
   "metadata": {},
   "source": [
    "## B. Moving training data from local `data4th/` to Amazon `EFS/smtag/data4th`"
   ]
  },
  {
   "cell_type": "code",
   "execution_count": null,
   "metadata": {},
   "outputs": [],
   "source": [
    "zip data4th"
   ]
  },
  {
   "cell_type": "code",
   "execution_count": null,
   "metadata": {},
   "outputs": [],
   "source": [
    "cd ../cloud"
   ]
  },
  {
   "cell_type": "code",
   "execution_count": null,
   "metadata": {},
   "outputs": [],
   "source": [
    "scp -i basicLinuxAMI.pem ../smtag/data4th.zip ec2-user@smtag-web:/efs/smtag/data/"
   ]
  },
  {
   "cell_type": "code",
   "execution_count": null,
   "metadata": {},
   "outputs": [],
   "source": [
    "ssh smtag-web"
   ]
  },
  {
   "cell_type": "code",
   "execution_count": null,
   "metadata": {},
   "outputs": [],
   "source": [
    "cd /efs/smtag/"
   ]
  },
  {
   "cell_type": "code",
   "execution_count": null,
   "metadata": {},
   "outputs": [],
   "source": [
    "unzip data4th.zip"
   ]
  },
  {
   "cell_type": "markdown",
   "metadata": {},
   "source": [
    "## C. Training models"
   ]
  },
  {
   "cell_type": "markdown",
   "metadata": {},
   "source": [
    "### Switch to GPU AMI"
   ]
  },
  {
   "cell_type": "code",
   "execution_count": null,
   "metadata": {},
   "outputs": [],
   "source": [
    "ssh smtag-dl"
   ]
  },
  {
   "cell_type": "code",
   "execution_count": null,
   "metadata": {},
   "outputs": [],
   "source": [
    "cd src/py-smtag"
   ]
  },
  {
   "cell_type": "code",
   "execution_count": null,
   "metadata": {},
   "outputs": [],
   "source": [
    "source .venv/bin/activate"
   ]
  },
  {
   "cell_type": "code",
   "execution_count": null,
   "metadata": {},
   "outputs": [],
   "source": [
    "python setup.py install"
   ]
  },
  {
   "cell_type": "markdown",
   "metadata": {},
   "source": [
    "Logging on tensorboard"
   ]
  },
  {
   "cell_type": "code",
   "execution_count": null,
   "metadata": {},
   "outputs": [],
   "source": [
    "tensorboard --logdir /efs/smtag/runs -port 6005 &"
   ]
  },
  {
   "cell_type": "markdown",
   "metadata": {},
   "source": [
    "### Small molecule model\n",
    "\n",
    "200 epoch with learning rate 0.001 and batch size 128"
   ]
  },
  {
   "cell_type": "code",
   "execution_count": null,
   "metadata": {},
   "outputs": [],
   "source": [
    "smtag-meta -Z128 -E200 -R0.001 -o small_molecule -f 5X_L1200_small_molecule_train -w /efs/smtag"
   ]
  },
  {
   "cell_type": "markdown",
   "metadata": {},
   "source": [
    "### Gene products"
   ]
  },
  {
   "cell_type": "markdown",
   "metadata": {},
   "source": [
    "Scan hyperparameters:"
   ]
  },
  {
   "cell_type": "code",
   "execution_count": null,
   "metadata": {},
   "outputs": [],
   "source": [
    "smtag-meta -E50 -o geneprod -H log_lr,log_batch_size -I 25 -f 5X_L1200_gene_protein_train"
   ]
  },
  {
   "cell_type": "code",
   "execution_count": 6,
   "metadata": {
    "scrolled": true
   },
   "outputs": [
    {
     "name": "stdout",
     "output_type": "stream",
     "text": [
      "opt[namebase]=5X_L1200_gene_protein_train\n",
      "opt[learning_rate]=0.001\n",
      "opt[epochs]=50\n",
      "opt[minibatch_size]=2\n",
      "opt[selected_features]=['geneprod']\n",
      "opt[collapsed_features]=[]\n",
      "opt[overlap_features]=[]\n",
      "opt[features_as_input]=[]\n",
      "opt[nf_table]=[8, 8, 8]\n",
      "opt[pool_table]=[2, 2, 2]\n",
      "opt[kernel_table]=[6, 6, 6]\n",
      "opt[dropout]=0.1\n",
      "opt[validation_fraction]=0.2\n",
      "nf.output= 1\n",
      "nf.input= 32\n",
      "index_of_collapsed_feature= None\n",
      "index_of_overlap_feature None\n",
      "concept2index self.selected_features [21]\n",
      "concept2index self.collapsed_features []\n",
      "concept2index self.overlap_features []\n",
      "Loading ./data4th/5X_L1200_gene_protein_train.pyth as features for the dataset.\n",
      "Loading ./data4th/5X_L1200_gene_protein_train_textcoded.pyth as encoded text for the dataset.\n",
      "Loading ./data4th/5X_L1200_gene_protein_train.txt for the original texts of the dataset.\n",
      "Loading ./data4th/5X_L1200_gene_protein_train.prov as provenance info for the examples in the dataset.\n",
      "Dataset dimensions:\n",
      "3770 text examples of size 1240\n",
      "0 input features (in-channels).\n",
      "22 output features (out-channels).\n",
      "Creating dataset with selected features entity: 'geneprod' (geneprod), and shuffling 3770 examples.\n",
      "normal trainset and validation set mode\n",
      "Generating train set with 3016 examples (0, 3016)\n",
      "input dataset['train'] tensor created\n",
      "output dataset['train'] tensor created\n",
      "[████████████████████████████████████████████████████████████] 100% ...loading 3016 examples (0 to 3016) into dataset['train'] (example_i=3015,index=3015)\n",
      "done\n",
      "\n",
      "Generating valid set with 754 examples (3016, 3770)\n",
      "input dataset['valid'] tensor created\n",
      "output dataset['valid'] tensor created\n",
      "[████████████████████████████████████████████████████████████] 100% ...loading 754 examples (3016 to 3770) into dataset['valid'] (example_i=3769,index=753)\n",
      "done\n",
      "\n",
      "input, output sizes: torch.Size([2, 1, 1240]), torch.Size([2, 1, 1240])\n",
      "namebase=5X_L1200_gene_protein_train\n",
      "learning_rate=0.001\n",
      "epochs=50\n",
      "minibatch_size=32\n",
      "selected_features=['geneprod']\n",
      "collapsed_features=[]\n",
      "overlap_features=[]\n",
      "features_as_input=[]\n",
      "nf_table=[8, 8, 8]\n",
      "pool_table=[2, 2, 2]\n",
      "kernel_table=[9, 9, 9]\n",
      "dropout=0.1\n",
      "validation_fraction=0.2\n",
      "nf_input=32\n",
      "nf_output=1\n",
      "[████████████------------------------------------------------] 20% ...\ttraining epoch 3Traceback (most recent call last):\n",
      "  File \"/Users/lemberger/Documents/code/py-smtag/.venv/bin/smtag-meta\", line 11, in <module>\n",
      "    load_entry_point('smtag==0.0.2.dev2', 'console_scripts', 'smtag-meta')()\n",
      "  File \"/Users/lemberger/Documents/code/py-smtag/.venv/lib/python3.6/site-packages/smtag-0.0.2.dev2-py3.6.egg/smtag/command_line.py\", line 12, in meta\n",
      "  File \"/Users/lemberger/Documents/code/py-smtag/.venv/lib/python3.6/site-packages/smtag-0.0.2.dev2-py3.6.egg/smtag/train/meta.py\", line 154, in main\n",
      "  File \"/Users/lemberger/Documents/code/py-smtag/.venv/lib/python3.6/site-packages/smtag-0.0.2.dev2-py3.6.egg/smtag/train/meta.py\", line 88, in hyper_scan\n",
      "  File \"/Users/lemberger/Documents/code/py-smtag/.venv/lib/python3.6/site-packages/smtag-0.0.2.dev2-py3.6.egg/smtag/train/meta.py\", line 70, in _train\n",
      "  File \"/Users/lemberger/Documents/code/py-smtag/.venv/lib/python3.6/site-packages/smtag-0.0.2.dev2-py3.6.egg/smtag/train/trainer.py\", line 59, in train\n",
      "  File \"/Users/lemberger/Documents/code/py-smtag/.venv/lib/python3.6/site-packages/torch/nn/modules/module.py\", line 491, in __call__\n",
      "    result = self.forward(*input, **kwargs)\n",
      "  File \"/Users/lemberger/Documents/code/py-smtag/.venv/lib/python3.6/site-packages/smtag-0.0.2.dev2-py3.6.egg/smtag/train/builder.py\", line 46, in forward\n",
      "  File \"/Users/lemberger/Documents/code/py-smtag/.venv/lib/python3.6/site-packages/torch/nn/modules/module.py\", line 491, in __call__\n",
      "    result = self.forward(*input, **kwargs)\n",
      "  File \"/Users/lemberger/Documents/code/py-smtag/.venv/lib/python3.6/site-packages/smtag-0.0.2.dev2-py3.6.egg/smtag/train/builder.py\", line 116, in forward\n",
      "  File \"/Users/lemberger/Documents/code/py-smtag/.venv/lib/python3.6/site-packages/torch/nn/modules/module.py\", line 492, in __call__\n",
      "    for hook in self._forward_hooks.values():\n",
      "KeyboardInterrupt\n",
      "(.venv) "
     ]
    }
   ],
   "source": [
    "smtag-meta -E50 -o geneprod -H kernel,depth -I 25 -f 5X_L1200_gene_protein_train"
   ]
  },
  {
   "cell_type": "markdown",
   "metadata": {},
   "source": [
    "Full training with selected hyperparameters:"
   ]
  },
  {
   "cell_type": "code",
   "execution_count": null,
   "metadata": {},
   "outputs": [],
   "source": [
    " smtag-meta -Z32 -E150 -R0.001 -kt 8,8,8 -o geneprod -f 5X_L1200_gene_protein_train"
   ]
  },
  {
   "cell_type": "markdown",
   "metadata": {},
   "source": [
    "Scan thresholds for detection with the resulting model (ignore tokenization `-T`):"
   ]
  },
  {
   "cell_type": "code",
   "execution_count": null,
   "metadata": {},
   "outputs": [],
   "source": [
    "smtag-eval -f 5X_L1200_gene_protein_train -m 5X_L1200_geneprod_<timestamp>.zip -S -T"
   ]
  },
  {
   "cell_type": "markdown",
   "metadata": {},
   "source": [
    "## D. Benchmarking on the test set"
   ]
  },
  {
   "cell_type": "markdown",
   "metadata": {},
   "source": [
    "Without tokenization (option `-T`)"
   ]
  },
  {
   "cell_type": "code",
   "execution_count": null,
   "metadata": {},
   "outputs": [],
   "source": [
    "smtag-eval -f 5X_L1200_small_molecule_test -m 5X_L1200_small_molecule -T -w /efs/smtag"
   ]
  },
  {
   "cell_type": "code",
   "execution_count": null,
   "metadata": {},
   "outputs": [],
   "source": [
    "smtag-eval -f 5X_L1200_gene_protein_test -m 5X_L1200_geneprod -T -w /efs/smtag"
   ]
  },
  {
   "cell_type": "markdown",
   "metadata": {},
   "source": [
    "## E. Loading models into the rack"
   ]
  },
  {
   "cell_type": "code",
   "execution_count": null,
   "metadata": {},
   "outputs": [],
   "source": []
  },
  {
   "cell_type": "markdown",
   "metadata": {},
   "source": [
    "## F. Launch the SmartTag engine"
   ]
  },
  {
   "cell_type": "code",
   "execution_count": null,
   "metadata": {},
   "outputs": [],
   "source": []
  }
 ],
 "metadata": {
  "kernelspec": {
   "display_name": "Bash",
   "language": "bash",
   "name": "bash"
  },
  "language_info": {
   "codemirror_mode": "shell",
   "file_extension": ".sh",
   "mimetype": "text/x-sh",
   "name": "bash"
  }
 },
 "nbformat": 4,
 "nbformat_minor": 2
}
