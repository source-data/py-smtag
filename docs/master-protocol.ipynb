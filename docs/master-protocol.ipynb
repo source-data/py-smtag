{
 "cells": [
  {
   "cell_type": "markdown",
   "metadata": {},
   "source": [
    "Building the SmartTag models\n",
    "===\n"
   ]
  },
  {
   "cell_type": "markdown",
   "metadata": {},
   "source": [
    "## Initial checks"
   ]
  },
  {
   "cell_type": "code",
   "execution_count": null,
   "metadata": {},
   "outputs": [],
   "source": [
    "source .venv/bin/activate"
   ]
  },
  {
   "cell_type": "code",
   "execution_count": null,
   "metadata": {},
   "outputs": [],
   "source": [
    "python setup.py install"
   ]
  },
  {
   "cell_type": "code",
   "execution_count": null,
   "metadata": {
    "scrolled": false
   },
   "outputs": [],
   "source": [
    "ls"
   ]
  },
  {
   "cell_type": "code",
   "execution_count": null,
   "metadata": {},
   "outputs": [],
   "source": [
    "ls models"
   ]
  },
  {
   "cell_type": "code",
   "execution_count": null,
   "metadata": {},
   "outputs": [],
   "source": [
    "ls data"
   ]
  },
  {
   "cell_type": "code",
   "execution_count": null,
   "metadata": {
    "scrolled": true
   },
   "outputs": [],
   "source": [
    "ls data4th"
   ]
  },
  {
   "cell_type": "code",
   "execution_count": null,
   "metadata": {},
   "outputs": [],
   "source": [
    "smtag-neo2xml --help"
   ]
  },
  {
   "cell_type": "code",
   "execution_count": null,
   "metadata": {},
   "outputs": [],
   "source": [
    "smtag-convert2th --help"
   ]
  },
  {
   "cell_type": "code",
   "execution_count": null,
   "metadata": {},
   "outputs": [],
   "source": [
    "smtag-meta --help"
   ]
  },
  {
   "cell_type": "code",
   "execution_count": null,
   "metadata": {},
   "outputs": [],
   "source": [
    "smtag-eval --help"
   ]
  },
  {
   "cell_type": "code",
   "execution_count": null,
   "metadata": {},
   "outputs": [],
   "source": [
    "smtag-predict --help"
   ]
  },
  {
   "cell_type": "markdown",
   "metadata": {},
   "source": [
    "## Preparation of corpus of xml documents and images"
   ]
  },
  {
   "cell_type": "code",
   "execution_count": null,
   "metadata": {},
   "outputs": [],
   "source": [
    "smtag-neo2xml -l10000 -f 181203all # on large sd-graph with 30000 panels from 1100 papers"
   ]
  },
  {
   "cell_type": "code",
   "execution_count": null,
   "metadata": {},
   "outputs": [],
   "source": [
    "smtag-ocr # run only once"
   ]
  },
  {
   "cell_type": "markdown",
   "metadata": {},
   "source": [
    "## Gene products"
   ]
  },
  {
   "cell_type": "markdown",
   "metadata": {},
   "source": [
    "### Data preparation"
   ]
  },
  {
   "cell_type": "code",
   "execution_count": null,
   "metadata": {},
   "outputs": [],
   "source": [
    "smtag-convert2th -c 181203all \\\n",
    "-L600 -X3 -y \".//sd-tag[@type='gene']\",\".//sd-tag[@type='protein']\" \\\n",
    "-f 3X_L600_geneprod"
   ]
  },
  {
   "cell_type": "markdown",
   "metadata": {},
   "source": [
    "### Train"
   ]
  },
  {
   "cell_type": "code",
   "execution_count": null,
   "metadata": {},
   "outputs": [],
   "source": [
    "smtag-meta -f 3X_L600_geneprod \\\n",
    "-E120 -Z128 -R0.01 \\\n",
    "-o geneprod"
   ]
  },
  {
   "cell_type": "markdown",
   "metadata": {},
   "source": [
    "model saved under `3X_L600_geneprod_geneprod_2018-12-05-00-32.sddl`"
   ]
  },
  {
   "cell_type": "markdown",
   "metadata": {},
   "source": [
    "## Small molecules"
   ]
  },
  {
   "cell_type": "markdown",
   "metadata": {},
   "source": [
    "### Data preparation"
   ]
  },
  {
   "cell_type": "code",
   "execution_count": null,
   "metadata": {},
   "outputs": [],
   "source": [
    "smtag-convert2th -c 181203all \\\n",
    "-L600 -X3 -y \".//sd-tag[@type='molecule']\" \\\n",
    "-f 3X_L600_molecule"
   ]
  },
  {
   "cell_type": "code",
   "execution_count": null,
   "metadata": {},
   "outputs": [],
   "source": [
    "smtag-meta -f 3X_L600_molecule \\\n",
    "-E120 -Z128 -R0.01 \\\n",
    "-o small_molecule"
   ]
  },
  {
   "cell_type": "markdown",
   "metadata": {},
   "source": [
    "saved as `3X_L600_molecule_small_molecule_2018-12-05-12-49.sddl` (size: 100167)"
   ]
  },
  {
   "cell_type": "markdown",
   "metadata": {},
   "source": [
    "## Subcellular"
   ]
  },
  {
   "cell_type": "code",
   "execution_count": null,
   "metadata": {},
   "outputs": [],
   "source": [
    "smtag-convert2th -c 181203all \\\n",
    "-L600 -X3 -y \".//sd-tag[@type='subcellular']\" \\\n",
    "-f 3X_L600_subcellular"
   ]
  },
  {
   "cell_type": "code",
   "execution_count": null,
   "metadata": {},
   "outputs": [],
   "source": [
    "smtag-meta -f 3X_L600_subcellular \\\n",
    "-E120 -Z128 -R0.01 \\\n",
    "-o subcellular"
   ]
  },
  {
   "cell_type": "markdown",
   "metadata": {},
   "source": [
    "save as `3X_L600_subcellular_subcellular_2018-12-05-18-25.sddl` (size: 100167)`"
   ]
  },
  {
   "cell_type": "markdown",
   "metadata": {},
   "source": [
    "## Cell"
   ]
  },
  {
   "cell_type": "code",
   "execution_count": null,
   "metadata": {},
   "outputs": [],
   "source": [
    "smtag-convert2th -c 181203all \\\n",
    "-L600 -X3 -y \".//sd-tag[@type='cell']\" \\\n",
    "-f 3X_L600_cell"
   ]
  },
  {
   "cell_type": "code",
   "execution_count": null,
   "metadata": {},
   "outputs": [],
   "source": [
    "smtag-meta -f 3X_L600_cell \\\n",
    "-E120 -Z128 -R0.01 \\\n",
    "-o cell"
   ]
  },
  {
   "cell_type": "markdown",
   "metadata": {},
   "source": [
    "saved `3X_L600_cell_cell_2018-12-06-18-05.sddl` (size: 100167)"
   ]
  },
  {
   "cell_type": "markdown",
   "metadata": {},
   "source": [
    "## Tissue "
   ]
  },
  {
   "cell_type": "code",
   "execution_count": null,
   "metadata": {},
   "outputs": [],
   "source": [
    "smtag-convert2th -c 181203all \\\n",
    "-L600 -X3 -y \".//sd-tag[@type='tissue']\" \\\n",
    "-f 3X_L600_tissue"
   ]
  },
  {
   "cell_type": "code",
   "execution_count": null,
   "metadata": {},
   "outputs": [],
   "source": [
    "smtag-meta -f 3X_L600_tissue \\\n",
    "-E120 -Z128 -R0.01 \\\n",
    "-o tissue"
   ]
  },
  {
   "cell_type": "markdown",
   "metadata": {},
   "source": [
    "saved `3X_L600_tissue_tissue_2018-12-06-23-58.sddl` (size: 100167)"
   ]
  },
  {
   "cell_type": "markdown",
   "metadata": {},
   "source": [
    "## Organism "
   ]
  },
  {
   "cell_type": "code",
   "execution_count": null,
   "metadata": {},
   "outputs": [],
   "source": [
    "smtag-convert2th -c 181203all \\\n",
    "-L600 -X3 -y \".//sd-tag[@type='organism']\" \\\n",
    "-f 3X_L600_organism"
   ]
  },
  {
   "cell_type": "code",
   "execution_count": null,
   "metadata": {},
   "outputs": [],
   "source": [
    "smtag-meta -f 3X_L600_organism \\\n",
    "-E120 -Z128 -R0.01 \\\n",
    "-o organism"
   ]
  },
  {
   "cell_type": "markdown",
   "metadata": {},
   "source": [
    "saved `3X_L600_organism_organism_2018-12-07-04-36.sddl` (size: 100167)"
   ]
  },
  {
   "cell_type": "markdown",
   "metadata": {},
   "source": [
    "## Diseases "
   ]
  },
  {
   "cell_type": "code",
   "execution_count": null,
   "metadata": {},
   "outputs": [],
   "source": []
  },
  {
   "cell_type": "code",
   "execution_count": null,
   "metadata": {},
   "outputs": [],
   "source": []
  },
  {
   "cell_type": "markdown",
   "metadata": {},
   "source": [
    "## Experimental assay "
   ]
  },
  {
   "cell_type": "code",
   "execution_count": null,
   "metadata": {},
   "outputs": [],
   "source": [
    "smtag-convert2th -c 181203all \\\n",
    "-L600 -X3 -y \".//sd-tag[@category='assay']\" \\\n",
    "-f 3X_L600_assay"
   ]
  },
  {
   "cell_type": "code",
   "execution_count": null,
   "metadata": {},
   "outputs": [],
   "source": [
    "smtag-meta -f 3X_L600_assay \\\n",
    "-E120 -Z128 -R0.01 \\\n",
    "-o assay"
   ]
  },
  {
   "cell_type": "markdown",
   "metadata": {},
   "source": [
    "saved `3X_L600_assay_assay_2018-12-06-06-59.sddl` (size: 100167)"
   ]
  },
  {
   "cell_type": "markdown",
   "metadata": {},
   "source": [
    "## Intervention-assay geneprod "
   ]
  },
  {
   "cell_type": "code",
   "execution_count": null,
   "metadata": {},
   "outputs": [],
   "source": [
    "smtag-convert2th -c 181203all \\\n",
    "-L600 -X3 \\\n",
    "-y \".//sd-tag[@type='gene']\",\".//sd-tag[@type='protein']\" \\\n",
    "-e \".//sd-tag[@type='gene']\",\".//sd-tag[@type='protein']\" \\\n",
    "-A \".//sd-tag[@role='intervention']\",\\\n",
    "\".//sd-tag[@role='assayed']\",\\\n",
    "\".//sd-tag[@role='normalizing']\",\\\n",
    "\".//sd-tag[@role='experiment']\",\\\n",
    "\".//sd-tag[@role='component']\", \\\n",
    "-f 3X_L600_geneprod_anonym_not_reporter"
   ]
  },
  {
   "cell_type": "code",
   "execution_count": null,
   "metadata": {},
   "outputs": [],
   "source": [
    "smtag-meta -f 3X_L600_geneprod_anonym_not_reporter \\\n",
    "-E120 -Z128 -R0.01 \\\n",
    "-o intervention,assayed"
   ]
  },
  {
   "cell_type": "markdown",
   "metadata": {},
   "source": [
    "saved `3X_L600_geneprod_anonym_not_reporter_intervention_assayed_2018-12-10-00-33.sddl` (size: 100481)"
   ]
  },
  {
   "cell_type": "markdown",
   "metadata": {},
   "source": [
    "## Reporter"
   ]
  },
  {
   "cell_type": "code",
   "execution_count": null,
   "metadata": {},
   "outputs": [],
   "source": [
    "smtag-convert2th -c 181203all \\\n",
    "-L600 -X3 \\\n",
    "-y \".//sd-tag[@type='gene']\",\".//sd-tag[@type='protein']\" \\\n",
    "-e \".//sd-tag[@type='gene']\",\".//sd-tag[@type='protein']\" \\\n",
    "-f 3X_L600_geneprod_reporter"
   ]
  },
  {
   "cell_type": "code",
   "execution_count": 2,
   "metadata": {},
   "outputs": [],
   "source": [
    "smtag-meta -f 3X_L600_geneprod_reporter \\\n",
    "-E120 -Z128 -R0.01 \\\n",
    "-o reporter"
   ]
  },
  {
   "cell_type": "markdown",
   "metadata": {},
   "source": [
    "saved `3X_L600_geneprod_reporter_reporter_2018-12-08-04-24.sddl` (size: 100279)"
   ]
  },
  {
   "cell_type": "markdown",
   "metadata": {},
   "source": [
    "## Intervention-assay small molecule"
   ]
  },
  {
   "cell_type": "code",
   "execution_count": null,
   "metadata": {},
   "outputs": [],
   "source": [
    "smtag-convert2th -c 181203all \\\n",
    "-L600 -X3 \\\n",
    "-y \".//sd-tag[@type='gene']\",\".//sd-tag[@type='protein']\" \\\n",
    "-e \".//sd-tag[@type='gene']\",\".//sd-tag[@type='protein']\" \\\n",
    "-A \".//sd-tag[@role='intervention']\",\\\n",
    "\".//sd-tag[@role='assayed']\",\\\n",
    "\".//sd-tag[@role='normalizing']\",\\\n",
    "\".//sd-tag[@role='experiment']\",\\\n",
    "\".//sd-tag[@role='component']\" \\\n",
    "-f 3X_L600_geneprod_anonym_not_reporter"
   ]
  },
  {
   "cell_type": "code",
   "execution_count": null,
   "metadata": {},
   "outputs": [],
   "source": []
  },
  {
   "cell_type": "markdown",
   "metadata": {},
   "source": [
    "## Panel start"
   ]
  },
  {
   "cell_type": "code",
   "execution_count": null,
   "metadata": {},
   "outputs": [],
   "source": [
    "smtag-convert2th -c 181203all \\\n",
    "--noocr -E \".//figure-caption\" \\\n",
    "-L1200 -X5 -f 5X_L1200_figure_level_no_ocr"
   ]
  },
  {
   "cell_type": "code",
   "execution_count": null,
   "metadata": {},
   "outputs": [],
   "source": [
    "smtag-meta -f 5X_L1200_figure_level_no_ocr \\\n",
    "-E120 -Z128 -R0.01 \\\n",
    "-o panel_start"
   ]
  },
  {
   "cell_type": "markdown",
   "metadata": {},
   "source": [
    "### Data preparation\n",
    "\n",
    "Use generic dataset with all panels that contain at least some entities (`-y`)."
   ]
  },
  {
   "cell_type": "code",
   "execution_count": null,
   "metadata": {},
   "outputs": [],
   "source": [
    "smtag-convert2th -X3 -L600 -c 181203all -f 3X_L600_all # dataset to be zipped and transferred manually to GPU"
   ]
  },
  {
   "cell_type": "markdown",
   "metadata": {},
   "source": [
    "### Hyper scan"
   ]
  },
  {
   "cell_type": "code",
   "execution_count": null,
   "metadata": {},
   "outputs": [],
   "source": [
    "smtag-meta -E50 -o panel_start -H depth,kernel -I 25 -f 5X_L1200_entities -w /efs/smtag # after data transfer to GPU machine"
   ]
  },
  {
   "cell_type": "markdown",
   "metadata": {},
   "source": [
    "Winning combo:\n",
    "    4,4,4,4\n",
    "    \n",
    "But a lot of variability. Initialization issues?"
   ]
  },
  {
   "cell_type": "markdown",
   "metadata": {},
   "source": [
    "### Train"
   ]
  },
  {
   "cell_type": "code",
   "execution_count": null,
   "metadata": {},
   "outputs": [],
   "source": [
    "smtag-meta -E50 -o panel_start -Z32 -R0.01 -k 4,4,4,4 -f 8,8,8,8 -p 2,2,2,2 -f 5X_L1200_entities -w /efs/smtag"
   ]
  },
  {
   "cell_type": "markdown",
   "metadata": {},
   "source": [
    "saved as `5X_L1200_entities_panel_start_2018-10-05-14-59.zip`"
   ]
  },
  {
   "cell_type": "markdown",
   "metadata": {},
   "source": [
    "### Eval"
   ]
  },
  {
   "cell_type": "code",
   "execution_count": null,
   "metadata": {},
   "outputs": [],
   "source": [
    "smtag-eval -f 5X_L1200_entities -m 5X_L1200_entities_panel_start_2018-10-05-14-59.zip -S -T"
   ]
  },
  {
   "cell_type": "markdown",
   "metadata": {},
   "source": [
    "    thres prec  recal f1\n",
    "    0.000 0.002 1.000 0.005\n",
    "    0.100 0.659 0.955 0.780\n",
    "    0.200 0.746 0.937 0.831\n",
    "    0.300 0.795 0.923 0.854\n",
    "    0.400 0.826 0.909 0.866\n",
    "    0.500 0.854 0.894 0.873\n",
    "    0.600 0.876 0.876 0.876<<<\n",
    "    0.700 0.898 0.848 0.872\n",
    "    0.800 0.920 0.794 0.853\n",
    "    0.900 0.948 0.672 0.787\n",
    "    1.000 0.500 0.000 0.000"
   ]
  },
  {
   "cell_type": "code",
   "execution_count": null,
   "metadata": {},
   "outputs": [],
   "source": [
    "python setup.py install # after mapper has been updated with optimal threshold"
   ]
  },
  {
   "cell_type": "code",
   "execution_count": null,
   "metadata": {},
   "outputs": [],
   "source": [
    "smtag-eval -f 5X_L1200_entities -m 5X_L1200_entities_panel_start_2018-10-05-14-59.zip"
   ]
  },
  {
   "cell_type": "markdown",
   "metadata": {},
   "source": [
    "========================================================\n",
    "\n",
    " Data: ./data4th/5X_L1200_entities/test\n",
    "\n",
    " Model: 5X_L1200_entities_panel_start_2018-10-05-14-59.zip\n",
    "\n",
    " Global stats: \n",
    "\n",
    "\tprecision = 0.8786332607269287.2f\n",
    "\trecall = 0.9617899656295776.2f\n",
    "\tf1 = 0.9183329343795776.2f\n",
    "\n",
    " Feature: ': 'panel_start' ()'\n",
    "\n",
    "\tprecision = 0.8786332607269287.2f\n",
    "\trecall = 0.9617899656295776.2f\n",
    "\tf1 = 0.9183329343795776.2f"
   ]
  },
  {
   "cell_type": "markdown",
   "metadata": {},
   "source": [
    "### Hyper scan:"
   ]
  },
  {
   "cell_type": "code",
   "execution_count": null,
   "metadata": {
    "scrolled": true
   },
   "outputs": [],
   "source": [
    "smtag-meta -E50 -o geneprod -H kernel,depth -I 25 -f 5X_L1200_gene_protein -w /efs/smtag # after transfer to GPU machine"
   ]
  },
  {
   "cell_type": "markdown",
   "metadata": {},
   "source": [
    "Winning combo with `f1=0.80` after 50 epochs, no overfitting with valid:\n",
    "\n",
    "    namebase=5X_L1200_gene_protein; modelname=; learning_rate=0.01000000000000001; epochs=50; minibatch_size=32; selected_features=['geneprod']; collapsed_features=[]; overlap_features=[]; features_as_input=[]; nf_table=[8, 8, 8]; pool_table=[2, 2, 2]; kernel_table=[6, 6, 6]; dropout=0.1; validation_fraction=0.2; nf_input=32; nf_output=1"
   ]
  },
  {
   "cell_type": "code",
   "execution_count": null,
   "metadata": {},
   "outputs": [],
   "source": [
    "# add kernel 3 at the model exit\n",
    "python setup.py install"
   ]
  },
  {
   "cell_type": "code",
   "execution_count": null,
   "metadata": {},
   "outputs": [],
   "source": [
    "smtag-meta -E200 -Z32 -R0.01 -o geneprod -k 6,6,6 -n 8,8,8 -p 2,2,2 -f 5X_L1200_gene_protein -w /efs/smtag"
   ]
  },
  {
   "cell_type": "markdown",
   "metadata": {},
   "source": [
    " ========================================================\n",
    "\n",
    " Data: ./data4th/5X_L1200_gene_protein/test\n",
    "\n",
    " Model: 5X_L1200_gene_protein_geneprod_2018-10-04-10-05.zip\n",
    "\n",
    " Global stats: \n",
    "\n",
    "\tprecision = 0.8259445428848267.2f\n",
    "\trecall = 0.7741530537605286.2f\n",
    "\tf1 = 0.7992106080055237.2f\n",
    "\n",
    " Feature: 'entity: 'geneprod' (geneprod)'\n",
    "\n",
    "\tprecision = 0.8259445428848267.2f\n",
    "\trecall = 0.7741530537605286.2f\n",
    "\tf1 = 0.7992106080055237.2f\n",
    "    \n",
    "  No decisive advantage. Reverting to 1x1 final conv1d."
   ]
  },
  {
   "cell_type": "markdown",
   "metadata": {},
   "source": [
    "### Train\n",
    "\n",
    "For geneproduct (`-o`) with 32 examples per minibatch (`-Z`), 50 epochs (`-E`), learning rate 0.01 (`-R`), 2 super layers with kernel 6 (`-k`), 8 channels (`n`), max pool window and stride 2 (`-p`):"
   ]
  },
  {
   "cell_type": "code",
   "execution_count": null,
   "metadata": {},
   "outputs": [],
   "source": [
    "smtag-meta -Z32 -E120 -R0.01 -k 6,6,6 -n 8,8,8 -p 2,2,2 -o geneprod -f 5X_L1200_gene_protein -w /efs/smtag"
   ]
  },
  {
   "cell_type": "markdown",
   "metadata": {},
   "source": [
    "saved as `5X_L1200_gene_protein_geneprod_2018-10-05-04-07.zip`"
   ]
  },
  {
   "cell_type": "markdown",
   "metadata": {},
   "source": [
    "### Eval"
   ]
  },
  {
   "cell_type": "code",
   "execution_count": null,
   "metadata": {},
   "outputs": [],
   "source": [
    "smtag-eval -f 5X_L1200_gene_protein_train -m 5X_L1200_gene_protein_geneprod_2018-10-05-04-07.zip -S -T"
   ]
  },
  {
   "cell_type": "markdown",
   "metadata": {},
   "source": [
    "    thres prec  recal f1\n",
    "    0.000 0.045 1.000 0.086\n",
    "    0.100 0.651 0.943 0.770\n",
    "    0.200 0.728 0.903 0.806\n",
    "    0.300 0.775 0.865 0.817\n",
    "    0.400 0.812 0.824 0.818<<<\n",
    "    0.500 0.842 0.779 0.809\n",
    "    0.600 0.871 0.725 0.791\n",
    "    0.700 0.897 0.655 0.757\n",
    "    0.800 0.922 0.557 0.695\n",
    "    0.900 0.950 0.398 0.561\n",
    "    1.000 0.500 0.000 0.000"
   ]
  },
  {
   "cell_type": "code",
   "execution_count": null,
   "metadata": {},
   "outputs": [],
   "source": [
    "python setup.py install # after mapper has been updated with optimal threshold"
   ]
  },
  {
   "cell_type": "code",
   "execution_count": null,
   "metadata": {},
   "outputs": [],
   "source": [
    "smtag-eval -f 5X_L1200_gene_protein -m 5X_L1200_gene_protein_geneprod_2018-10-05-04-07.zip"
   ]
  },
  {
   "cell_type": "markdown",
   "metadata": {},
   "source": [
    " Data: ./data4th/5X_L1200_gene_protein/test\n",
    "\n",
    " Model: 5X_L1200_gene_protein_geneprod_2018-10-05-04-07.zip\n",
    "\n",
    " Global stats: \n",
    "\n",
    "\tprecision = 0.8096075057983398.2f\n",
    "\trecall = 0.7962476015090942.2f\n",
    "\tf1 = 0.8028719425201416.2f\n",
    "\n",
    " Feature: 'entity: 'geneprod' (geneprod)'\n",
    "\n",
    "\tprecision = 0.8096075057983398.2f\n",
    "\trecall = 0.7962476015090942.2f\n",
    "\tf1 = 0.8028719425201416.2f"
   ]
  },
  {
   "cell_type": "markdown",
   "metadata": {},
   "source": [
    "## Role intervention/assayed with reporter not anonymized"
   ]
  },
  {
   "cell_type": "markdown",
   "metadata": {},
   "source": [
    "### Data gen"
   ]
  },
  {
   "cell_type": "markdown",
   "metadata": {},
   "source": [
    "Anonymize gene and proteins (-`A`) but do not anonymize reporters (`-AA`). Keep roles only for genes and proteins (`-s`)."
   ]
  },
  {
   "cell_type": "code",
   "execution_count": null,
   "metadata": {},
   "outputs": [],
   "source": [
    "smtag-neo2xml -y gene,protein -A gene,protein -AA reporter -s -f gene_protein_anonym_not_reporter"
   ]
  },
  {
   "cell_type": "code",
   "execution_count": null,
   "metadata": {},
   "outputs": [],
   "source": [
    "smtag-convert2th -L1200 -X5 -c gene_protein_anonym_not_reporter -f 5X_L1200_gene_protein_anonym_not_reporter"
   ]
  },
  {
   "cell_type": "markdown",
   "metadata": {},
   "source": [
    "### Train"
   ]
  },
  {
   "cell_type": "code",
   "execution_count": null,
   "metadata": {},
   "outputs": [],
   "source": [
    "smtag-meta -Z32 -E200 -R0.01 -o intervention,assayed -f 5X_L1200_gene_protein_anonym_not_reporter # -w /efs/smtag"
   ]
  },
  {
   "cell_type": "markdown",
   "metadata": {},
   "source": [
    "saved as `5X_L1200_gene_protein_anonym_not_reporter_intervention_assayed_2018-10-06-06-48.zip`\n",
    "\n",
    "Note: 20 Epochs would have been enough! Overfitting thereafter..."
   ]
  },
  {
   "cell_type": "markdown",
   "metadata": {},
   "source": [
    "### Eval"
   ]
  },
  {
   "cell_type": "code",
   "execution_count": null,
   "metadata": {},
   "outputs": [],
   "source": [
    "smtag-eval -f 5X_L1200_gene_protein_anonym_not_reporter -m 5X_L1200_gene_protein_anonym_not_reporter_intervention_assayed_2018-10-06-06-48.zip"
   ]
  },
  {
   "cell_type": "markdown",
   "metadata": {},
   "source": [
    "    0.000\t0.000 0.013; 0.021 1.000; 1.000 0.026; 0.040\n",
    "    0.100\t0.100 0.500; 0.644 0.908; 0.951 0.645; 0.768\n",
    "    0.200\t0.200 0.569; 0.696 0.851; 0.915 0.682; 0.791\n",
    "    0.300\t0.300 0.615; 0.728 0.801; 0.881 0.696; 0.797\n",
    "    0.400\t0.400 0.652; 0.755 0.749; 0.846 0.697; 0.798<<<\n",
    "    0.500\t0.500 0.687; 0.779 0.692; 0.804 0.690; 0.791\n",
    "    0.600\t0.600 0.724; 0.804 0.628; 0.754 0.673; 0.778\n",
    "    0.700\t0.700 0.765; 0.828 0.548; 0.685 0.639; 0.749\n",
    "    0.800\t0.800 0.821; 0.852 0.424; 0.575 0.560; 0.686\n",
    "    0.900\t0.900 0.876; 0.892 0.191; 0.363 0.313; 0.516\n",
    "    1.000\t1.000 0.500; 0.500 0.000; 0.000 0.000; 0.000"
   ]
  },
  {
   "cell_type": "code",
   "execution_count": null,
   "metadata": {},
   "outputs": [],
   "source": [
    "smtag-eval -f 5X_L1200_gene_protein_anonym_not_reporter -m 5X_L1200_gene_protein_anonym_not_reporter_intervention_assayed_2018-10-06-06-48.zip"
   ]
  },
  {
   "cell_type": "markdown",
   "metadata": {},
   "source": [
    "========================================================\n",
    "\n",
    " Data: ./data4th/5X_L1200_gene_protein_anonym_not_reporter/test\n",
    "\n",
    " Model: 5X_L1200_gene_protein_anonym_not_reporter_intervention_assayed_2018-10-06-06-48.zip\n",
    "\n",
    " Global stats: \n",
    "\n",
    "\tprecision = 0.7332009077072144.2f\n",
    "\trecall = 0.7734760046005249.2f\n",
    "\tf1 = 0.7527563571929932.2f\n",
    "\n",
    " Feature: 'entity: 'intervention' (intervention)'\n",
    "\n",
    "\tprecision = 0.6864056587219238.2f\n",
    "\trecall = 0.7123331427574158.2f\n",
    "\tf1 = 0.6991291046142578.2f\n",
    "\n",
    " Feature: 'entity: 'assayed' (assayed)'\n",
    "\n",
    "\tprecision = 0.7799961566925049.2f\n",
    "\trecall = 0.8346188068389893.2f\n",
    "\tf1 = 0.8063835501670837.2f"
   ]
  },
  {
   "cell_type": "markdown",
   "metadata": {},
   "source": [
    "## Reporter gene product"
   ]
  },
  {
   "cell_type": "markdown",
   "metadata": {},
   "source": [
    "### Data prep\n",
    "\n",
    "No anonymization, keep roles only for proteins and genes (`-s`)"
   ]
  },
  {
   "cell_type": "code",
   "execution_count": null,
   "metadata": {},
   "outputs": [],
   "source": [
    "smtag-neo2xml -l1000 -y gene,protein -s -f geneprod_selective"
   ]
  },
  {
   "cell_type": "code",
   "execution_count": null,
   "metadata": {},
   "outputs": [],
   "source": [
    "smtag-convert2th -X5 -L1200 -c geneprod_selective -f 5X_L1200_geneprod_selective"
   ]
  },
  {
   "cell_type": "markdown",
   "metadata": {},
   "source": [
    "Learn reporter role. Since roles were kept only for gene prod, will learn geneprod reporter."
   ]
  },
  {
   "cell_type": "code",
   "execution_count": null,
   "metadata": {},
   "outputs": [],
   "source": [
    "smtag-meta -E100 -Z32 -R0.01 -o reporter -f 5X_L1200_geneprod_selective"
   ]
  },
  {
   "cell_type": "markdown",
   "metadata": {},
   "source": [
    "saved as `5X_L1200_geneprod_selective_reporter_2018-10-06-08-14.zip `"
   ]
  },
  {
   "cell_type": "markdown",
   "metadata": {},
   "source": [
    "### Eval"
   ]
  },
  {
   "cell_type": "code",
   "execution_count": null,
   "metadata": {},
   "outputs": [],
   "source": [
    "smtag-eval -f 5X_L1200_geneprod_selective -m 5X_L1200_geneprod_selective_reporter_2018-10-06-08-14.zip  -S -T"
   ]
  },
  {
   "cell_type": "markdown",
   "metadata": {},
   "source": [
    "    0.000 0.006 1.000 0.011\n",
    "    0.100 0.765 0.905 0.829\n",
    "    0.200 0.813 0.886 0.848\n",
    "    0.300 0.838 0.863 0.850<<<\n",
    "    0.400 0.857 0.840 0.848\n",
    "    0.500 0.873 0.822 0.847\n",
    "    0.600 0.891 0.801 0.844\n",
    "    0.700 0.908 0.779 0.839\n",
    "    0.800 0.929 0.740 0.824\n",
    "    0.900 0.950 0.630 0.757\n",
    "    1.000 0.500 0.000 0.000"
   ]
  },
  {
   "cell_type": "code",
   "execution_count": null,
   "metadata": {},
   "outputs": [],
   "source": [
    "python setup.py install # after mapper has been updated with optimal threshold"
   ]
  },
  {
   "cell_type": "code",
   "execution_count": null,
   "metadata": {},
   "outputs": [],
   "source": [
    "smtag-eval -f 5X_L1200_geneprod_selective -m 5X_L1200_geneprod_selective_reporter_2018-10-06-08-14.zip "
   ]
  },
  {
   "cell_type": "markdown",
   "metadata": {},
   "source": [
    "========================================================\n",
    "\n",
    " Data: ./data4th/5X_L1200_geneprod_selective/test\n",
    "\n",
    " Model: 5X_L1200_geneprod_selective_reporter_2018-10-06-08-14.zip\n",
    "\n",
    " Global stats: \n",
    "\n",
    "\tprecision = 0.8972335457801819.2f\n",
    "\trecall = 0.8679876327514648.2f\n",
    "\tf1 = 0.8823683261871338.2f\n",
    "\n",
    " Feature: 'entity: 'reporter' (reporter)'\n",
    "\n",
    "\tprecision = 0.8972335457801819.2f\n",
    "\trecall = 0.8679876327514648.2f\n",
    "\tf1 = 0.8823683261871338.2f"
   ]
  },
  {
   "cell_type": "markdown",
   "metadata": {},
   "source": [
    "## Experimental assay (measurementMethod)"
   ]
  },
  {
   "cell_type": "markdown",
   "metadata": {},
   "source": [
    "Using generic entities dataset"
   ]
  },
  {
   "cell_type": "markdown",
   "metadata": {},
   "source": [
    "### Train"
   ]
  },
  {
   "cell_type": "code",
   "execution_count": null,
   "metadata": {},
   "outputs": [],
   "source": [
    "smtag-meta -Z32 -E200 -R0.01 -k 6,6,6 -p 2,2,2 -n 8,8,8 -o assay -f 5X_L1200_entities_train -w /efs/smtag/"
   ]
  },
  {
   "cell_type": "markdown",
   "metadata": {},
   "source": [
    "saved as `5X_L1200_entities_assay_2018-10-06-16-45.zip`"
   ]
  },
  {
   "cell_type": "markdown",
   "metadata": {},
   "source": [
    "### Eval"
   ]
  },
  {
   "cell_type": "code",
   "execution_count": null,
   "metadata": {},
   "outputs": [],
   "source": [
    "smtag-eval -f 5X_L1200_entities -m 5X_L1200_entities_assay_2018-10-06-16-45.zip -S -T"
   ]
  },
  {
   "cell_type": "markdown",
   "metadata": {},
   "source": [
    "    0.000 0.029 1.000 0.055\n",
    "    0.100 0.579 0.848 0.688\n",
    "    0.200 0.675 0.812 0.737\n",
    "    0.300 0.726 0.786 0.755\n",
    "    0.400 0.763 0.763 0.763\n",
    "    0.500 0.794 0.742 0.767<<<\n",
    "    0.600 0.822 0.717 0.766\n",
    "    0.700 0.851 0.684 0.758\n",
    "    0.800 0.886 0.627 0.734\n",
    "    0.900 0.930 0.518 0.665\n",
    "    1.000 0.500 0.000 0.000"
   ]
  },
  {
   "cell_type": "code",
   "execution_count": null,
   "metadata": {},
   "outputs": [],
   "source": [
    "python setup.py install # after mapper has been updated with optimal threshold"
   ]
  },
  {
   "cell_type": "code",
   "execution_count": null,
   "metadata": {},
   "outputs": [],
   "source": [
    "smtag-eval -f 5X_L1200_entities -m 5X_L1200_entities_assay_2018-10-06-16-45.zip"
   ]
  },
  {
   "cell_type": "markdown",
   "metadata": {},
   "source": [
    "========================================================\n",
    "\n",
    " Data: ./data4th/5X_L1200_entities/test\n",
    "\n",
    " Model: 5X_L1200_entities_assay_2018-10-06-16-45.zip\n",
    "\n",
    " Global stats: \n",
    "\n",
    "\tprecision = 0.8133354783058167.2f\n",
    "\trecall = 0.7144335508346558.2f\n",
    "\tf1 = 0.7606832385063171.2f\n",
    "\n",
    " Feature: 'assay: 'assay' ()'\n",
    "\n",
    "\tprecision = 0.8133354783058167.2f\n",
    "\trecall = 0.7144335508346558.2f\n",
    "\tf1 = 0.7606832385063171.2f"
   ]
  },
  {
   "cell_type": "markdown",
   "metadata": {},
   "source": [
    "## Small molecule model"
   ]
  },
  {
   "cell_type": "markdown",
   "metadata": {},
   "source": [
    "### Data gen"
   ]
  },
  {
   "cell_type": "markdown",
   "metadata": {},
   "source": [
    "Enrich examples for small molecules (`-y`). Generate the data with `-5X` sampling of each example of length `-L1200` characters."
   ]
  },
  {
   "cell_type": "code",
   "execution_count": null,
   "metadata": {},
   "outputs": [],
   "source": [
    "smtag-neo2xml -l1000 -y molecule -f small_molecule"
   ]
  },
  {
   "cell_type": "code",
   "execution_count": null,
   "metadata": {},
   "outputs": [],
   "source": [
    "smtag-convert2th -X5 -L1200 -c small_molecule -f 5X_L1200_small_molecule"
   ]
  },
  {
   "cell_type": "markdown",
   "metadata": {},
   "source": [
    "### Train"
   ]
  },
  {
   "cell_type": "code",
   "execution_count": null,
   "metadata": {},
   "outputs": [],
   "source": [
    "smtag-meta -E100 -Z32 -R0.01 -o small_molecule -f 5X_L1200_small_molecule # -w /efs/smtag"
   ]
  },
  {
   "cell_type": "markdown",
   "metadata": {},
   "source": [
    "saved as `5X_L1200_small_molecule_small_molecule_2018-10-07-05-39.zip`"
   ]
  },
  {
   "cell_type": "markdown",
   "metadata": {},
   "source": [
    "### Eval"
   ]
  },
  {
   "cell_type": "markdown",
   "metadata": {},
   "source": [
    "smtag-eval -f 5X_L1200_small_molecule -m 5X_L1200_small_molecule_small_molecule_2018-10-07-05-39.zip -S -T"
   ]
  },
  {
   "cell_type": "markdown",
   "metadata": {},
   "source": [
    "    0.000 0.023 1.000 0.045\n",
    "    0.100 0.600 0.784 0.680\n",
    "    0.200 0.707 0.726 0.717\n",
    "    0.300 0.765 0.685 0.723\n",
    "    0.400 0.802 0.648 0.717\n",
    "    0.500 0.830 0.613 0.705\n",
    "    0.600 0.854 0.575 0.687\n",
    "    0.700 0.877 0.529 0.660\n",
    "    0.800 0.900 0.466 0.614\n",
    "    0.900 0.927 0.365 0.524\n",
    "    1.000 0.500 0.000 0.000"
   ]
  },
  {
   "cell_type": "code",
   "execution_count": null,
   "metadata": {},
   "outputs": [],
   "source": [
    "python setup.py install # after mapper has been updated with optimal threshold"
   ]
  },
  {
   "cell_type": "code",
   "execution_count": null,
   "metadata": {},
   "outputs": [],
   "source": [
    "smtag-eval -f 5X_L1200_small_molecule -m 5X_L1200_small_molecule_small_molecule_2018-10-07-05-39.zip"
   ]
  },
  {
   "cell_type": "markdown",
   "metadata": {},
   "source": [
    "========================================================\n",
    "\n",
    " Data: ./data4th/5X_L1200_small_molecule/test\n",
    "\n",
    " Model: 5X_L1200_small_molecule_small_molecule_2018-10-07-05-39.zip\n",
    "\n",
    " Global stats: \n",
    "\n",
    "\tprecision = 0.7456319332122803.2f\n",
    "\trecall = 0.61765456199646.2f\n",
    "\tf1 = 0.675636351108551.2f\n",
    "\n",
    " Feature: 'entity: 'small_molecule' (small_molecule)'\n",
    "\n",
    "\tprecision = 0.7456319332122803.2f\n",
    "\trecall = 0.61765456199646.2f\n",
    "\tf1 = 0.675636351108551.2f"
   ]
  },
  {
   "cell_type": "markdown",
   "metadata": {},
   "source": [
    "## Subcellular structures"
   ]
  },
  {
   "cell_type": "markdown",
   "metadata": {},
   "source": [
    "### Data prep"
   ]
  },
  {
   "cell_type": "code",
   "execution_count": null,
   "metadata": {},
   "outputs": [],
   "source": [
    "smtag-neo2xml -l1000 -y subcellular -f subcellular"
   ]
  },
  {
   "cell_type": "code",
   "execution_count": null,
   "metadata": {},
   "outputs": [],
   "source": [
    "smtag-convert2th -X10 -L1200 -c subcellular -f 10X_L1200_subcellular"
   ]
  },
  {
   "cell_type": "markdown",
   "metadata": {},
   "source": [
    "### Train"
   ]
  },
  {
   "cell_type": "code",
   "execution_count": null,
   "metadata": {},
   "outputs": [],
   "source": [
    "smtag-meta -E100 -Z32 -R0.01 -o subcellular -f 10X_L1200_subcellular"
   ]
  },
  {
   "cell_type": "markdown",
   "metadata": {},
   "source": [
    "`_/_/_/_/_/_/_/_/_/_/_/_/_/_/_/_/_/_/_/_/_/_/_/_/_/_/_/_/_/_/_/_/_/_/_/_/_/_/_/_/_/_/_/_/_/_/_/_/_/_/_/_/_/_/_/`"
   ]
  },
  {
   "cell_type": "markdown",
   "metadata": {},
   "source": [
    "saved as `10X_L1200_subcellular_subcellular_2018-10-07-23-32.zip`"
   ]
  },
  {
   "cell_type": "markdown",
   "metadata": {},
   "source": [
    "### Eval"
   ]
  },
  {
   "cell_type": "code",
   "execution_count": null,
   "metadata": {},
   "outputs": [],
   "source": [
    "smtag-eval -m 10X_L1200_subcellular_subcellular_2018-10-07-23-32.zip -f 10X_L1200_subcellular -T -S"
   ]
  },
  {
   "cell_type": "markdown",
   "metadata": {},
   "source": [
    "    0.000 0.027 1.000 0.053\n",
    "    0.100 0.648 0.827 0.727\n",
    "    0.200 0.727 0.792 0.758\n",
    "    0.300 0.768 0.767 0.767\n",
    "    0.400 0.795 0.746 0.770<<<\n",
    "    0.500 0.814 0.726 0.767\n",
    "    0.600 0.831 0.704 0.763\n",
    "    0.700 0.848 0.673 0.751\n",
    "    0.800 0.871 0.622 0.726\n",
    "    0.900 0.905 0.495 0.640\n",
    "    1.000 0.500 0.000 0.000"
   ]
  },
  {
   "cell_type": "code",
   "execution_count": null,
   "metadata": {},
   "outputs": [],
   "source": [
    "python setup.py install # after mapper has been updated with optimal threshold"
   ]
  },
  {
   "cell_type": "code",
   "execution_count": null,
   "metadata": {},
   "outputs": [],
   "source": [
    "smtag-eval -m 10X_L1200_subcellular_subcellular_2018-10-07-23-32.zip -f 10X_L1200_subcellular"
   ]
  },
  {
   "cell_type": "markdown",
   "metadata": {},
   "source": [
    "========================================================\n",
    "\n",
    " Data: ./data4th/10X_L1200_subcellular/test\n",
    "\n",
    " Model: 10X_L1200_subcellular_subcellular_2018-10-07-23-32.zip\n",
    "\n",
    " Global stats: \n",
    "\n",
    "\tprecision = 0.77573561668396.2f\n",
    "\trecall = 0.6643051505088806.2f\n",
    "\tf1 = 0.7157091498374939.2f\n",
    "\n",
    " Feature: 'entity: 'subcellular' (subcellular)'\n",
    "\n",
    "\tprecision = 0.77573561668396.2f\n",
    "\trecall = 0.6643051505088806.2f\n",
    "\tf1 = 0.7157091498374939.2f"
   ]
  },
  {
   "cell_type": "markdown",
   "metadata": {},
   "source": [
    "## Cell lines and cell types"
   ]
  },
  {
   "cell_type": "markdown",
   "metadata": {},
   "source": [
    "### Data gen"
   ]
  },
  {
   "cell_type": "code",
   "execution_count": null,
   "metadata": {},
   "outputs": [],
   "source": [
    "smtag-neo2xml -l1000 -y cell -f cell"
   ]
  },
  {
   "cell_type": "code",
   "execution_count": null,
   "metadata": {},
   "outputs": [],
   "source": [
    "smtag-convert2th -X10 -L1200 -c cell -f 10X_L1200_cell"
   ]
  },
  {
   "cell_type": "markdown",
   "metadata": {},
   "source": [
    "### Train"
   ]
  },
  {
   "cell_type": "raw",
   "metadata": {},
   "source": [
    "smtag-meta -E100 -Z32 -R0.01 -o cell -f 10X_L1200_cell"
   ]
  },
  {
   "cell_type": "markdown",
   "metadata": {},
   "source": [
    "saved as ``"
   ]
  },
  {
   "cell_type": "markdown",
   "metadata": {},
   "source": [
    "### Eval"
   ]
  },
  {
   "cell_type": "code",
   "execution_count": null,
   "metadata": {},
   "outputs": [],
   "source": [
    "smtag-eval -f 10X_L1200_cell -m 10X_L1200_cell_train_cell_2018-10-02-13-01.zip -S -T"
   ]
  },
  {
   "cell_type": "markdown",
   "metadata": {},
   "source": []
  },
  {
   "cell_type": "code",
   "execution_count": null,
   "metadata": {},
   "outputs": [],
   "source": [
    "python setup.py install # after mapper has been updated with optimal threshold"
   ]
  },
  {
   "cell_type": "code",
   "execution_count": null,
   "metadata": {},
   "outputs": [],
   "source": [
    "smtag-eval -f 10X_L1200_cell -m "
   ]
  },
  {
   "cell_type": "markdown",
   "metadata": {},
   "source": []
  },
  {
   "cell_type": "markdown",
   "metadata": {},
   "source": [
    "## Tissue and organs"
   ]
  },
  {
   "cell_type": "markdown",
   "metadata": {},
   "source": [
    "### Data prep"
   ]
  },
  {
   "cell_type": "code",
   "execution_count": null,
   "metadata": {},
   "outputs": [],
   "source": [
    "smtag-neo2xml -l1000 -y tissue -f tissue"
   ]
  },
  {
   "cell_type": "code",
   "execution_count": null,
   "metadata": {},
   "outputs": [],
   "source": [
    "smtag-convert2th -X10 -L1200 -c tissue -f 10X_L1200_tissue"
   ]
  },
  {
   "cell_type": "code",
   "execution_count": null,
   "metadata": {},
   "outputs": [],
   "source": [
    "smtag-convert2th -X10 -L1200 -c tissue -f 10X_L1200_tissue -T"
   ]
  },
  {
   "cell_type": "markdown",
   "metadata": {},
   "source": [
    "### Train"
   ]
  },
  {
   "cell_type": "code",
   "execution_count": null,
   "metadata": {},
   "outputs": [],
   "source": [
    "smtag-meta -E100 -Z32 -R0.01 -o tissue -f 10X_L1200_tissue_train -w /efs/smtag"
   ]
  },
  {
   "cell_type": "markdown",
   "metadata": {},
   "source": [
    "saved as `10X_L1200_tissue_train_tissue_2018-10-02-08-46.zip`"
   ]
  },
  {
   "cell_type": "markdown",
   "metadata": {},
   "source": [
    "### Eval"
   ]
  },
  {
   "cell_type": "code",
   "execution_count": null,
   "metadata": {},
   "outputs": [],
   "source": [
    "smtag-eval -m -f 10X_L1200_tissue_train -S -T"
   ]
  },
  {
   "cell_type": "markdown",
   "metadata": {},
   "source": []
  },
  {
   "cell_type": "code",
   "execution_count": null,
   "metadata": {},
   "outputs": [],
   "source": [
    "python setup.py install # after mapper has been updated with optimal threshold"
   ]
  },
  {
   "cell_type": "code",
   "execution_count": null,
   "metadata": {},
   "outputs": [],
   "source": [
    "smtag-eval -m -f 10X_L1200_tissue"
   ]
  },
  {
   "cell_type": "markdown",
   "metadata": {},
   "source": []
  },
  {
   "cell_type": "markdown",
   "metadata": {},
   "source": [
    "## Organisms"
   ]
  },
  {
   "cell_type": "markdown",
   "metadata": {},
   "source": [
    "### Data prep with sd-graph"
   ]
  },
  {
   "cell_type": "code",
   "execution_count": null,
   "metadata": {},
   "outputs": [],
   "source": [
    "smtag-neo2xml -l1000 -y organism -f organism"
   ]
  },
  {
   "cell_type": "code",
   "execution_count": null,
   "metadata": {},
   "outputs": [],
   "source": [
    "smtag-convert2th -X10 -L1200 -c organism -f 10X_L1200_organism"
   ]
  },
  {
   "cell_type": "markdown",
   "metadata": {},
   "source": [
    "### Train"
   ]
  },
  {
   "cell_type": "code",
   "execution_count": null,
   "metadata": {},
   "outputs": [],
   "source": [
    "smtag-meta -E100 -Z32 -R0.01 -o organism -f 10X_L1200_organism"
   ]
  },
  {
   "cell_type": "code",
   "execution_count": null,
   "metadata": {},
   "outputs": [],
   "source": [
    "smtag-eval -f 10X_L1200_organism -m -S -T"
   ]
  },
  {
   "cell_type": "markdown",
   "metadata": {},
   "source": [
    "saved as ``"
   ]
  },
  {
   "cell_type": "markdown",
   "metadata": {},
   "source": [
    "### Eval"
   ]
  },
  {
   "cell_type": "code",
   "execution_count": null,
   "metadata": {},
   "outputs": [],
   "source": [
    "smtag-eval -f 10X_L1200_organism_train -m  -S -T"
   ]
  },
  {
   "cell_type": "markdown",
   "metadata": {},
   "source": []
  },
  {
   "cell_type": "code",
   "execution_count": null,
   "metadata": {},
   "outputs": [],
   "source": [
    "python setup.py install # after mapper has been updated with optimal threshold"
   ]
  },
  {
   "cell_type": "code",
   "execution_count": null,
   "metadata": {},
   "outputs": [],
   "source": [
    "smtag-eval -f 10X_L1200_organism_test -m "
   ]
  },
  {
   "cell_type": "markdown",
   "metadata": {},
   "source": []
  },
  {
   "cell_type": "markdown",
   "metadata": {},
   "source": [
    "### Data prep with LINNAEUS_GSC_brat"
   ]
  },
  {
   "cell_type": "code",
   "execution_count": null,
   "metadata": {},
   "outputs": [],
   "source": []
  },
  {
   "cell_type": "markdown",
   "metadata": {},
   "source": [
    "### Benchmark on sd"
   ]
  },
  {
   "cell_type": "markdown",
   "metadata": {},
   "source": [
    "### Pretraining"
   ]
  },
  {
   "cell_type": "markdown",
   "metadata": {},
   "source": [
    "### Trainnig"
   ]
  },
  {
   "cell_type": "markdown",
   "metadata": {},
   "source": [
    "## Diseases"
   ]
  },
  {
   "cell_type": "markdown",
   "metadata": {},
   "source": [
    "### Data prep"
   ]
  },
  {
   "cell_type": "code",
   "execution_count": null,
   "metadata": {},
   "outputs": [],
   "source": [
    "smtag-convert2th -L1200 -X5 -b -c NCBI_disease -f 5X_L1200_NCBI_disease"
   ]
  },
  {
   "cell_type": "markdown",
   "metadata": {},
   "source": [
    "### Train"
   ]
  },
  {
   "cell_type": "code",
   "execution_count": null,
   "metadata": {},
   "outputs": [],
   "source": [
    "smtag-meta -E200 -Z32 -R0.01 -o disease -f 5X_L1200_NCBI_disease"
   ]
  },
  {
   "cell_type": "markdown",
   "metadata": {},
   "source": [
    "saved as ``"
   ]
  },
  {
   "cell_type": "markdown",
   "metadata": {},
   "source": [
    "### Eval"
   ]
  },
  {
   "cell_type": "code",
   "execution_count": null,
   "metadata": {},
   "outputs": [],
   "source": [
    "smtag-eval -m -f 5X_L1200_NCBI_disease_train -S -T"
   ]
  },
  {
   "cell_type": "markdown",
   "metadata": {},
   "source": []
  },
  {
   "cell_type": "code",
   "execution_count": null,
   "metadata": {},
   "outputs": [],
   "source": [
    "smtag-eval -m  -f 5X_L1200_NCBI_disease_test"
   ]
  },
  {
   "cell_type": "markdown",
   "metadata": {},
   "source": []
  },
  {
   "cell_type": "markdown",
   "metadata": {},
   "source": [
    "# E. Loading models into the rack"
   ]
  },
  {
   "cell_type": "code",
   "execution_count": null,
   "metadata": {},
   "outputs": [],
   "source": [
    "cd ~/Documents/code/py-smtag"
   ]
  },
  {
   "cell_type": "code",
   "execution_count": null,
   "metadata": {},
   "outputs": [],
   "source": [
    "cp models/5X_L1200_entities_train_panel_start_2018-09-28-18-08.zip rack/panel_start.zip"
   ]
  },
  {
   "cell_type": "code",
   "execution_count": null,
   "metadata": {},
   "outputs": [],
   "source": [
    "cp models/5X_L1200_gene_protein_train_geneprod_2018-09-28-20-17.zip rack/geneprod.zip"
   ]
  },
  {
   "cell_type": "code",
   "execution_count": null,
   "metadata": {},
   "outputs": [],
   "source": [
    "cp models/5X_L1200_small_molecule_train_small_molecule_2018-09-30-12-36.zip rack/small_molecule.zip"
   ]
  },
  {
   "cell_type": "code",
   "execution_count": null,
   "metadata": {},
   "outputs": [],
   "source": [
    "cp models/10X_L1200_subcellular_train_subcellular_2018-10-02-04-31.zip rack/subcellular.zip"
   ]
  },
  {
   "cell_type": "code",
   "execution_count": null,
   "metadata": {},
   "outputs": [],
   "source": [
    "cp models/10X_L1200_cell_train_cell_2018-10-02-13-01.zip rack/cell.zip"
   ]
  },
  {
   "cell_type": "code",
   "execution_count": null,
   "metadata": {},
   "outputs": [],
   "source": [
    "cp models/10X_L1200_tissue_train_tissue_2018-10-02-08-46.zip rack/tissue.zip"
   ]
  },
  {
   "cell_type": "code",
   "execution_count": null,
   "metadata": {},
   "outputs": [],
   "source": [
    "cp models/10X_L1200_organism_train_organism_2018-10-02-17-56.zip rack/organism.zip"
   ]
  },
  {
   "cell_type": "code",
   "execution_count": null,
   "metadata": {},
   "outputs": [],
   "source": [
    "cp models/5X_L1200_entities_train_assay_2018-09-30-11-25.zip rack/exp_assay.zip"
   ]
  },
  {
   "cell_type": "code",
   "execution_count": null,
   "metadata": {},
   "outputs": [],
   "source": [
    "cp models/5X_L1200_gene_protein_anonym_train_intervention_assayed_2018-09-30-10-09.zip rack/role_geneprod.zip"
   ]
  },
  {
   "cell_type": "code",
   "execution_count": null,
   "metadata": {},
   "outputs": [],
   "source": [
    "cp models/5X_L1200_reporter_geneprod_train_reporter_2018-10-03-00-29.zip rack/reporter_geneprod.zip"
   ]
  },
  {
   "cell_type": "code",
   "execution_count": null,
   "metadata": {},
   "outputs": [],
   "source": [
    "cp models/5X_L1200_NCBI_disease_train_disease_2018-10-03-12-49.zip rack/disease.zip"
   ]
  },
  {
   "cell_type": "code",
   "execution_count": null,
   "metadata": {},
   "outputs": [],
   "source": [
    "ls rack"
   ]
  },
  {
   "cell_type": "code",
   "execution_count": null,
   "metadata": {},
   "outputs": [],
   "source": []
  }
 ],
 "metadata": {
  "kernelspec": {
   "display_name": "Bash",
   "language": "bash",
   "name": "bash"
  },
  "language_info": {
   "codemirror_mode": "shell",
   "file_extension": ".sh",
   "mimetype": "text/x-sh",
   "name": "bash"
  }
 },
 "nbformat": 4,
 "nbformat_minor": 2
}
