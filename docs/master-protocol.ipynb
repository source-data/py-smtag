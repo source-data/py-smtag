{
 "cells": [
  {
   "cell_type": "markdown",
   "metadata": {},
   "source": [
    "Building the SmartTag models\n",
    "===\n"
   ]
  },
  {
   "cell_type": "markdown",
   "metadata": {},
   "source": [
    "## Initial checks"
   ]
  },
  {
   "cell_type": "markdown",
   "metadata": {},
   "source": [
    "```\n",
    "usage: smtag-meta [-h] [-f FILE] [-E EPOCHS] [-Z MINIBATCH_SIZE]\n",
    "                  [-R LEARNING_RATE] [-D DROPOUT_RATE] [-o OUTPUT_FEATURES]\n",
    "                  [-i FEATURES_AS_INPUT] [-a OVERLAP_FEATURES]\n",
    "                  [-c COLLAPSED_FEATURES] [-n NF_TABLE] [-k KERNEL_TABLE]\n",
    "                  [-p POOL_TABLE] [-w WORKING_DIRECTORY] [-H HYPERPARAMS]\n",
    "                  [-I ITERATIONS] [-m MODEL] [--ocrxy] [--ocr1] [--ocr2]\n",
    "                  [--viz]\n",
    "\n",
    "Top level module to manage training.\n",
    "\n",
    "optional arguments:\n",
    "  -h, --help            show this help message and exit\n",
    "  -f FILE, --file FILE  Namebase of dataset to import (default:\n",
    "                        demo_xml_train)\n",
    "  -E EPOCHS, --epochs EPOCHS\n",
    "                        Number of training epochs. (default: 200)\n",
    "  -Z MINIBATCH_SIZE, --minibatch_size MINIBATCH_SIZE\n",
    "                        Minibatch size. (default: 32)\n",
    "  -R LEARNING_RATE, --learning_rate LEARNING_RATE\n",
    "                        Learning rate. (default: 0.01)\n",
    "  -D DROPOUT_RATE, --dropout_rate DROPOUT_RATE\n",
    "                        Dropout rate. (default: 0.1)\n",
    "  -o OUTPUT_FEATURES, --output_features OUTPUT_FEATURES\n",
    "                        Selected output features (use quotes if comma+space\n",
    "                        delimited). (default: geneprod)\n",
    "  -i FEATURES_AS_INPUT, --features_as_input FEATURES_AS_INPUT\n",
    "                        Features that should be added to the input (use quotes\n",
    "                        if comma+space delimited). (default: )\n",
    "  -a OVERLAP_FEATURES, --overlap_features OVERLAP_FEATURES\n",
    "                        Features that should be combined by intersecting them\n",
    "                        (equivalent to AND operation) (use quotes if\n",
    "                        comma+space delimited). (default: )\n",
    "  -c COLLAPSED_FEATURES, --collapsed_features COLLAPSED_FEATURES\n",
    "                        Features that should be collapsed into a single one\n",
    "                        (equivalent to OR operation) (use quotes if\n",
    "                        comma+space delimited). (default: )\n",
    "  -n NF_TABLE, --nf_table NF_TABLE\n",
    "                        Number of features in each hidden super-layer.\n",
    "                        (default: 8,8,8)\n",
    "  -k KERNEL_TABLE, --kernel_table KERNEL_TABLE\n",
    "                        Convolution kernel for each hidden layer. (default:\n",
    "                        6,6,6)\n",
    "  -p POOL_TABLE, --pool_table POOL_TABLE\n",
    "                        Pooling for each hidden layer (use quotes if\n",
    "                        comma+space delimited). (default: 2,2,2)\n",
    "  -w WORKING_DIRECTORY, --working_directory WORKING_DIRECTORY\n",
    "                        Specify the working directory for meta, where to read\n",
    "                        and write files to (default: None)\n",
    "  -H HYPERPARAMS, --hyperparams HYPERPARAMS\n",
    "                        Perform a scanning of the hyperparameters selected.\n",
    "                        (default: )\n",
    "  -I ITERATIONS, --iterations ITERATIONS\n",
    "                        Number of iterations for the hyperparameters scanning.\n",
    "                        (default: 25)\n",
    "  -m MODEL, --model MODEL\n",
    "                        Load pre-trained model and continue training.\n",
    "                        (default: )\n",
    "  --ocrxy               Use as additional input position and orientation of\n",
    "                        words extracted by OCR from the illustration.\n",
    "                        (default: False)\n",
    "  --ocr1                Use as additional presence of words extracted by OCR\n",
    "                        from the illustration. (default: False)\n",
    "  --ocr2                Use as additional input orientation of words extracted\n",
    "                        by OCR from the illustration. (default: False)\n",
    "  --viz                 Use as additional visual features extracted from the\n",
    "                        illustration. (default: False)\n",
    "```"
   ]
  },
  {
   "cell_type": "markdown",
   "metadata": {},
   "source": [
    "```\n",
    "usage: smtag-eval [-h] [-f FILE] [-m MODEL] [-T] [-S]\n",
    "\n",
    "Accuracy evaluation.\n",
    "\n",
    "optional arguments:\n",
    "  -h, --help            show this help message and exit\n",
    "  -f FILE, --file FILE  Basename of the dataset to import (testset) (default:\n",
    "                        test_entities_test)\n",
    "  -m MODEL, --model MODEL\n",
    "                        Basename of the model to benchmark. (default:\n",
    "                        entities.sddl)\n",
    "  -T, --no_token        Flag to disable tokenization. (default: False)\n",
    "  -S, --scan            Flag to switch to threshold scaning mode. (default:\n",
    "                        False)\n",
    "```"
   ]
  },
  {
   "cell_type": "markdown",
   "metadata": {},
   "source": [
    "## Preparation of corpus of xml documents and images"
   ]
  },
  {
   "cell_type": "code",
   "execution_count": null,
   "metadata": {},
   "outputs": [],
   "source": [
    "smtag-neo2xml -l10000 -f 181203all # on large sd-graph with 30000 panels from 1100 papers"
   ]
  },
  {
   "cell_type": "code",
   "execution_count": null,
   "metadata": {},
   "outputs": [],
   "source": [
    "smtag-ocr # run only once"
   ]
  },
  {
   "cell_type": "markdown",
   "metadata": {},
   "source": [
    "## Small molecules"
   ]
  },
  {
   "cell_type": "markdown",
   "metadata": {},
   "source": [
    "Classic\n",
    "\n",
    "    smtag-convert2th -c 181203all \\\n",
    "    -E \".//figure-caption\" \\\n",
    "    -L1200 -X10 -y \".//sd-tag[@type='molecule']\" \\\n",
    "    -f 10X_L1200_molecule \\\n",
    "    -w /efs/smtag --noocr\n",
    "\n",
    "    smtag-meta -f 10X_L1200_molecule -w /efs/smtag \\\n",
    "    -E120 -Z128 -R0.01 \\\n",
    "    -o small_molecule \\\n",
    "    -w /efs/smtag\n",
    "\n",
    "saved `10X_L1200_molecule_small_molecule_2019-01-05-19-23.sddl` (size: 96117)\n",
    "\n",
    "    smtag-eval -f .zip -S -T\n",
    "    smtag-eval -f 5X_L1200_molecule_small_molecule_2018-12-19-06-04 -m 5X_L1200_molecule_small_molecule_2018-12-19-06-04.zip\n",
    "    \n",
    "    scp -i basicLinuxAMI.pem ec2-user@smtag-web:/efs/smtag/models/10X_L1200_molecule_small_molecule_2019-01-05-19-23.zip ../py-smtag/smtag/rack/small_molecule.zip"
   ]
  },
  {
   "cell_type": "markdown",
   "metadata": {},
   "source": [
    "With 4 super layers, more sampling and low learning rate\n",
    "\n",
    "    smtag-convert2th -c 181203all \\\n",
    "    -E \".//figure-caption\" \\\n",
    "    -L1200 -X15 -y \".//sd-tag[@type='molecule']\" \\\n",
    "    -f 15X_L1200_molecule -w /efs/smtag --noocr\n",
    "\n",
    "    smtag-meta -f 15X_L1200_molecule \\\n",
    "    -E200 -Z32 -R0.001 \\\n",
    "    -o small_molecule \\\n",
    "    -k \"6,6,6,6\" -n \"8,8,8,8\" -p \"2,2,2,2\" \\\n",
    "    -w /efs/smtag\n",
    "\n",
    "- not great, 68% or so\n",
    "- overfitting after 15 epochs\n"
   ]
  },
  {
   "cell_type": "markdown",
   "metadata": {},
   "source": [
    "## Gene products"
   ]
  },
  {
   "cell_type": "markdown",
   "metadata": {},
   "source": [
    "Classic L=1200 character dataset\n",
    "\n",
    "    smtag-convert2th -c 181203all \\\n",
    "    -E \".//figure-caption\" \\\n",
    "    -L1200 -X5 -y \".//sd-tag[@type='gene']\",\".//sd-tag[@type='protein']\" \\\n",
    "    -f 5X_L1200_geneprod --noocr \\\n",
    "    -w /efs/smtag\n",
    "\n",
    "Trying without entry BN, with tracking\n",
    "\n",
    "    smtag-meta -f 5X_L1200_geneprod \\\n",
    "    -E120 -Z32 -R0.005 \\\n",
    "    -o geneprod \\\n",
    "    -w /efs/smtag\n",
    "    \n",
    "- Without entry BN with tracking: does not work very well, immediate learning to max 75% accuracy without further progress\n",
    "- using -R0.01 or -Z128 does not improve anything\n",
    "- trying without entry BN __and__ without tracking: a bit better\n",
    "- trying restoring BN with tracking (classic mode): best so far\n",
    "- trying with -k \"6,6,6,6\" -n \"16,8,8,8\" -p \"2,2,2,2\": even better"
   ]
  },
  {
   "cell_type": "markdown",
   "metadata": {},
   "source": [
    "Trying 4 layers but __without__ entry BN and __without__ tracking, smaller learning rate (0.001) with more epochs (500)\n",
    "\n",
    "    smtag-meta -f 5X_L1200_geneprod \\\n",
    "    -E500 -Z32 -R0.001 \\\n",
    "    -o geneprod \\\n",
    "    -k \"6,6,6,6\" -n \"16,8,8,8\" -p \"2,2,2,2\" \\\n",
    "    -w /efs/smtag\n",
    "\n",
    "- better 80% max, overfit starts at epoch 120"
   ]
  },
  {
   "cell_type": "markdown",
   "metadata": {},
   "source": [
    "Trying with more sampling, with entry BN and tracking (classic), reduce features first super layer\n",
    "\n",
    "    smtag-convert2th -c 181203all \\\n",
    "    -E \".//figure-caption\" \\\n",
    "    -L1200 -X15 -y \".//sd-tag[@type='gene']\",\".//sd-tag[@type='protein']\" \\\n",
    "    -f 15X_L1200_geneprod --noocr \\\n",
    "    -w /efs/smtag\n",
    "\n",
    "    smtag-meta -f 15X_L1200_geneprod \\\n",
    "    -E200 -Z32 -R0.001 \\\n",
    "    -o geneprod \\\n",
    "    -k \"6,6,6,6\" -n \"8,8,8,8\" -p \"2,2,2,2\" \\\n",
    "    -w /efs/smtag\n",
    "- better than 3 layers\n",
    "- this seems pretty good, with combination of higher sampling, feature bottleneck and slow learning\n",
    "- remarkably no ovefitting after 200 epochs\n",
    "- still entry BN expected to make problems when short fragments padded with spaces which changes distribution\n",
    "- small batch size makes training slow\n",
    "\n",
    "__saved `15X_L1200_geneprod_geneprod_2018-12-31-20-12.sddl` (size: 115412)__\n",
    "\n",
    "    scp -i basicLinuxAMI.pem ec2-user@smtag-web:/efs/smtag/models/15X_L1200_geneprod_geneprod_2018-12-31-20-12.zip ../py-smtag/smtag/rack/geneprod.zip"
   ]
  },
  {
   "cell_type": "markdown",
   "metadata": {},
   "source": [
    "Trying with 6 super layers which gives window of 1200 characters\n",
    "with classical BN\n",
    "\n",
    "    smtag-meta -f 15X_L1200_geneprod \\\n",
    "    -E500 -Z32 -R0.001 \\\n",
    "    -o geneprod \\\n",
    "    -k \"6,6,6,6,6,6\" -n \"8,8,8,8,8,8\" -p \"2,2,2,2,2,2\" \\\n",
    "    -w /efs/smtag\n",
    "\n",
    "not better than 3 layers after 160 epochs, 80%, and starting overfitting"
   ]
  },
  {
   "cell_type": "code",
   "execution_count": null,
   "metadata": {},
   "outputs": [],
   "source": [
    "# trying half window padding instead of 20\n",
    "smtag-convert2th -c 181203all \\\n",
    "-E \".//figure-caption\" \\\n",
    "-L1200 -X15 -y \".//sd-tag[@type='gene']\",\".//sd-tag[@type='protein']\" \\\n",
    "-p 64 \\\n",
    "-f 15X_L1200_geneprod_64_padding --noocr \\\n",
    "-w /efs/smtag"
   ]
  },
  {
   "cell_type": "code",
   "execution_count": null,
   "metadata": {},
   "outputs": [],
   "source": [
    "# trying without padding at all\n",
    "smtag-meta -f 15X_L1200_geneprod \\\n",
    "-E200 -Z32 -R0.001 \\\n",
    "-o geneprod \\\n",
    "-k \"6,6,6,6\" -n \"8,8,8,8\" -p \"2,2,2,2\" \\\n",
    "-p 0 \\\n",
    "-w /efs/smtag"
   ]
  },
  {
   "cell_type": "markdown",
   "metadata": {},
   "source": [
    "Trying panel-level training\n",
    "\n",
    "    smtag-convert2th -c 181203all \\\n",
    "    -E \".//sd-panel\" \\\n",
    "    -L600 -X10 -y \".//sd-tag[@type='gene']\",\".//sd-tag[@type='protein']\" \\\n",
    "    -f 10X_L600_geneprod  \\\n",
    "    -w /efs/smtag\n"
   ]
  },
  {
   "cell_type": "markdown",
   "metadata": {},
   "source": [
    "Trying concurrent model with whole document examples, no entry BN, with BN tracking\n",
    "\n",
    "    smtag-convert2th -c 181203all \\\n",
    "    -E \".\" \\\n",
    "    -L6000 -X5 \\\n",
    "    -y \".//sd-tag[@type='gene']\",\".//sd-tag[@type='protein']\" \\\n",
    "    -f 5X_L6000_geneprod_whole_doc -w /efs/smtag --noocr\n",
    "\n",
    "    smtag-meta -f 5X_L6000_geneprod_whole_doc -w /efs/smtag \\\n",
    "    -E120 -Z32 -R0.01 \\\n",
    "    -o geneprod \\\n",
    "    -k \"6,6,6,6\" -n \"16,8,8,8\" -p \"2,2,2,2\"\n",
    "\n",
    "saved `5X_L6000_geneprod_whole_doc_geneprod_2018-12-23-13-53.json`"
   ]
  },
  {
   "cell_type": "markdown",
   "metadata": {},
   "source": [
    "## Subcellular"
   ]
  },
  {
   "cell_type": "markdown",
   "metadata": {},
   "source": [
    "Figure level, calssic\n",
    "\n",
    "    smtag-convert2th -c 181203all \\\n",
    "    -E \".//figure-caption\" \\\n",
    "    -L1200 -X10 -y \".//sd-tag[@type='subcellular']\" \\\n",
    "    -f 10X_L1200_subcellular -w /efs/smtag --noocr\n",
    "\n",
    "Rapid training\n",
    "\n",
    "    smtag-meta -f 10X_L1200_subcellular -w /efs/smtag \\\n",
    "    -E120 -Z128 -R0.01 \\\n",
    "    -o subcellular\n",
    "\n",
    "save as `10X_L1200_subcellular_subcellular_2018-12-22-21-12.sddl` (size: 100167)\n",
    "\n",
    "With 4 layers, small batch size and slow learning\n",
    "\n",
    "    smtag-meta -f 10X_L1200_subcellular -w /efs/smtag \\\n",
    "    -E120 -Z32 -R0.001 \\\n",
    "    -o subcellular \\\n",
    "    -k \"6,6,6,6\" -n \"8,8,8,8\" -p \"2,2,2,2\"\n",
    "\n",
    "__save as `saved 10X_L1200_subcellular_subcellular_2019-01-03-21-29.sddl` (size: 115412)__\n",
    "\n",
    "    scp -i basicLinuxAMI.pem ec2-user@smtag-web:/efs/smtag/models/10X_L1200_subcellular_subcellular_2019-01-03-21-29.zip ../py-smtag/smtag/rack/subcellular.zip"
   ]
  },
  {
   "cell_type": "markdown",
   "metadata": {},
   "source": [
    "## Cell"
   ]
  },
  {
   "cell_type": "markdown",
   "metadata": {},
   "source": [
    "Classic training\n",
    "\n",
    "    smtag-convert2th -c 181203all \\\n",
    "    -E \".//figure-caption\" \\\n",
    "    -L1200 -X10 -y \".//sd-tag[@type='cell']\" \\\n",
    "    -f 10X_L1200_cell -w /efs/smtag --noocr\n",
    "\n",
    "    smtag-meta -f 10X_L1200_cell \\\n",
    "    -E120 -Z128 -R0.01 \\\n",
    "    -o cell \\\n",
    "    -w /efs/smtag\n",
    "    \n",
    "__saved `saved 10X_L1200_cell_cell_2019-01-04-23-37.sddl (size: 102531)`__\n",
    "\n",
    "Note: quite a bit of overfitting\n",
    "\n",
    "Trying with smaller batch and slower learning:\n",
    "\n",
    "    smtag-meta -f 10X_L1200_cell \\\n",
    "    -E120 -Z32 -R0.001 \\\n",
    "    -o cell \\\n",
    "    -w /efs/smtag\n",
    "    \n",
    "77% instead of 75%..., pretty similar to classic, perhaps slighltly less overfitting?\n",
    "saved 10X_L1200_cell_cell_2019-01-05-02-07.sddl (size: 102531)\n",
    "    \n",
    "    scp -i basicLinuxAMI.pem ec2-user@smtag-web:/efs/smtag/models/10X_L1200_cell_cell_2019-01-04-23-37.zip ../py-smtag/smtag/rack/cell.zip"
   ]
  },
  {
   "cell_type": "markdown",
   "metadata": {},
   "source": [
    "## Tissue "
   ]
  },
  {
   "cell_type": "markdown",
   "metadata": {},
   "source": [
    "Classic\n",
    "\n",
    "    smtag-convert2th -c 181203all \\\n",
    "    -E \".//figure-caption\" \\\n",
    "    -L1200 -X10 -y \".//sd-tag[@type='tissue']\" \\\n",
    "    -f 10X_L1200_tissue --noocr \\\n",
    "    -w /efs/smtag\n",
    "\n",
    "    smtag-meta -f 10X_L1200_tissue \\\n",
    "    -E120 -Z128 -R0.01 \\\n",
    "    -o tissue \\\n",
    "    -w /efs/smtag\n",
    "    \n",
    "saved `saved 10X_L1200_tissue_tissue_2019-01-05-09-54.sddl (size: 102531)`\n",
    "\n",
    "    scp -i basicLinuxAMI.pem ec2-user@smtag-web:/efs/smtag/models/10X_L1200_tissue_tissue_2019-01-05-09-54.zip ../py-smtag/smtag/rack/tissue.zip\n"
   ]
  },
  {
   "cell_type": "markdown",
   "metadata": {},
   "source": [
    "## Organism "
   ]
  },
  {
   "cell_type": "markdown",
   "metadata": {},
   "source": [
    "Classic \n",
    "\n",
    "    smtag-convert2th -c 181203all \\\n",
    "    -E \".//figure-caption\" \\\n",
    "    -L1200 -X10 -y \".//sd-tag[@type='organism']\" \\\n",
    "    --noocr \\\n",
    "    -f 10X_L1200_organism \\\n",
    "    -w /efs/smtag\n",
    "\n",
    "    smtag-meta -f 10X_L1200_organism \\\n",
    "    -E120 -Z128 -R0.01 \\\n",
    "    -o organism \\\n",
    "    -w /efs/smtag\n",
    "    \n",
    "__saved `10X_L1200_organism_organism_2019-01-05-10-48.sddl` (size: 102517)__\n",
    "\n",
    "    scp -i basicLinuxAMI.pem ec2-user@smtag-web:/efs/smtag/models/10X_L1200_organism_organism_2019-01-05-10-48.zip ../py-smtag/smtag/rack/organism.zip"
   ]
  },
  {
   "cell_type": "markdown",
   "metadata": {},
   "source": [
    "## Diseases "
   ]
  },
  {
   "cell_type": "markdown",
   "metadata": {},
   "source": [
    "From brat dataset (option `-b`)\n",
    "\n",
    "    smtag-convert2th -L1200 -X10 -b -c NCBI_disease -f 5X_L1200_NCBI_disease \n",
    "\n",
    "    smtag-meta -E120 -Z128 -R0.01 -o disease -f 10X_L1200_NCBI_disease -w /efs/smtag\n",
    "    \n",
    "saved `10X_L1200_NCBI_disease_disease_2019-01-05-10-57.sddl`\n",
    "    \n",
    "    smtag-meta -E120 -Z32 -R0.001 -o disease -f 10X_L1200_NCBI_disease -w /efs/smtag\n",
    "    \n",
    "saved `saved 10X_L1200_NCBI_disease_disease_2019-01-05-11-22.sddl`\n",
    "    \n",
    "Delays overfitting to 30 epochs instead of 15, but overall not better accuracy and not better loss on valid\n",
    "\n",
    "    scp -i basicLinuxAMI.pem ec2-user@smtag-web:/efs/smtag/models/10X_L1200_NCBI_disease_disease_2019-01-05-10-57.zip ../py-smtag/smtag/rack/disease.zip\n",
    "    \n",
    "Hyperscan\n",
    "\n",
    "    smtag-meta -f 10X_L1200_NCBI_disease \\\n",
    "    -E15 -Z32 -R0.01 -o disease \\\n",
    "    -H depth,kernel \\\n",
    "    -w /efs/smtag\n",
    "\n",
    "No huge differences; large variability; maybe kernel 8 best\n",
    "    \n",
    "    scp -i basicLinuxAMI.pem ec2-user@smtag-web:/efs/smtag/scans/scan_depth_kernel_X25_2019-01-05-11-24/scanned_perf.csv ../py-smtag/scans/scan_depth_kernel_X25_2019-01-05-11-24_scanned_perf.csv\n",
    "    \n",
    "Models makes problems when applied in smarttag. Training set probably just too small and not varied enough. Would need to be complemented with negative text to avoid crazy false positives."
   ]
  },
  {
   "cell_type": "markdown",
   "metadata": {},
   "source": [
    "Pre-training on negative data\n",
    "\n",
    "\n",
    "    smtag-meta -E60 -Z128 -R0.01 -o disease -f 15X_L1200_geneprod -w /efs/smtag\n",
    "    \n",
    "Stopped after 60 epochs\n",
    "\n",
    "    smtag-meta -E120 -Z128 -R0.01 -o disease -f 10X_L1200_NCBI_disease -m 15X_L1200_geneprod_last_saved.zip -w /efs/smtag\n",
    "    \n",
    "    smtag-meta -E60 -Z128 -R0.01 -o disease -f 15X_L1200_geneprod -m 15X_L1200_geneprod_disease_2019-01-06-20-29.zip -w /efs/smtag\n",
    "    \n",
    "    saved `15X_L1200_geneprod_last_saved.sddl`\n",
    "    \n",
    "Stopped after 18 epochs. Apparently kept the ability to recognize disease terms, started at f1 0.75 and climbed quickly to 0.8\n",
    "\n",
    "    scp -i basicLinuxAMI.pem ec2-user@smtag-web:/efs/smtag/models/15X_L1200_geneprod_last_saved.zip ../py-smtag/smtag/rack/disease.zip \n",
    "    \n",
    "Still, many artefacts due to hyphens or strange predictions."
   ]
  },
  {
   "cell_type": "markdown",
   "metadata": {},
   "source": [
    "Trying to generate a larger dataset (testset combined with train `cp test/* train` to make training set with 1426 examples)\n",
    "\n",
    "    smtag-convert2th -L1200 -X10 -b -c NCBI_disease -f 10X_L1200_NCBI_disease -w /efs/smtag\n",
    "    \n",
    "    smtag-meta -E60 -Z128 -R0.01 -o disease -f 10X_L1200_NCBI_disease -w /efs/smtag\n",
    "    \n",
    "Saved `10X_L1200_NCBI_disease_disease_2019-01-07-10-51.sddl`\n",
    "\n",
    "\n",
    "    scp -i basicLinuxAMI.pem ec2-user@smtag-web:/efs/smtag/models/10X_L1200_NCBI_disease_disease_2019-01-07-10-51.zip ../py-smtag/smtag/rack/disease.zip\n",
    "    \n",
    "Still same kind of artifacts due to hyphen or bizarre tagging of \"the levels\"... Puzzling!\n",
    "    \n",
    "Trying to quench false negatives by post-training on negative data:\n",
    "    \n",
    "    smtag-meta -E60 -Z128 -R0.01 -o disease -f 15X_L1200_geneprod -m 10X_L1200_NCBI_disease_disease_2019-01-07-10-51.zip -w /efs/smtag\n",
    "    \n",
    "Loss goes to 1E-4 after 6 epochs already.\n",
    "    \n",
    "Saved `10X_L1200_NCBI_disease_disease_2019-01-07-11-46.sddl`\n",
    "\n",
    "    scp -i basicLinuxAMI.pem ec2-user@smtag-web:/efs/smtag/models/10X_L1200_NCBI_disease_disease_2019-01-07-11-46.zip ../py-smtag/smtag/rack/disease.zip\n",
    "    \n",
    "Seems to have forgotten after so many epochs. :-( Confirmed by retraining the retrained model. Starts from zero!\n",
    "\n",
    "Trying slower more limited training to avoid overfitting\n",
    "\n",
    "    smtag-meta -E30 -Z32 -R0.001 -o disease -f 10X_L1200_NCBI_disease -w /efs/smtag\n",
    "\n",
    "Saved `10X_L1200_NCBI_disease_disease_2019-01-07-12-06.sddl`\n",
    "\n",
    "No overfitting!\n",
    "\n",
    "    scp -i basicLinuxAMI.pem ec2-user@smtag-web:/efs/smtag/models/10X_L1200_NCBI_disease_disease_2019-01-07-12-06.zip ../py-smtag/smtag/rack/disease.zip\n",
    "    \n",
    "Still influenced by INF-γ. Not sure what to do next. Included a cleanup step to remove em dash minus and other and replace with standard ASCII hyphen.\n",
    "\n",
    "To intermingle negative examples during the whole training, assembled manually a `encoded/10X_L1200_NCBI_disease_augmented` dataset by adding all of the already encoded examples from `encoded/15X_L1200_geneprod`.\n",
    "\n",
    "    smtag-convert2th -L1200 -X10 -b -c NCBI_disease -f 10X_L1200_NCBI_disease_augmented -w /efs/smtag\n",
    "    \n",
    "Since the examples are already encoded, `smtag-convert2th` does not touch them and should proceed with sampling of the whole set of encoded examples. \n",
    "    \n",
    "    smtag-meta -E120 -Z32 -R0.001 -o disease -f 10X_L1200_NCBI_disease_augmented -w /efs/smtag\n",
    "    \n",
    "Possible that the negative examples dominate too much the training set. After initial peak (5-6th epoch), perf decreases as training progresses. No overfitting. Perf goes back up after valley (around 30-40 epochs). Goes down again later, when valid loss goes up. Capacity of the newtork too small? Trying with 4 super layers and 16 features/layer:\n",
    "   \n",
    "    smtag-meta -E200 -Z128 -R0.01 -n \"16,16,16,16\" -p \"2,2,2,2\" -k \"6,6,6,6\" -o disease -f 10X_L1200_NCBI_disease_augmented -w /efs/smtag\n",
    "    \n",
    "Ha seems to work! Testing an intermediate model after 65 epcohs, f1 0.8 no overfitting:\n",
    "\n",
    "Saved `10X_L1200_NCBI_disease_augmented_last_saved.sddl`\n",
    "    \n",
    "    scp -i basicLinuxAMI.pem ec2-user@smtag-web:/efs/smtag/models/10X_L1200_NCBI_disease_augmented_last_saved.zip ../py-smtag/smtag/rack/disease.zip\n",
    "    \n",
    "Final model: f1=0.85\n",
    "\n",
    "__Saved `10X_L1200_NCBI_disease_augmented_disease_2019-01-08-17-59.zip`__\n",
    "\n",
    "    scp -i basicLinuxAMI.pem ec2-user@smtag-web:/efs/smtag/models/10X_L1200_NCBI_disease_augmented_disease_2019-01-08-17-59.zip ../py-smtag/smtag/rack/disease.zip\n",
    "\n",
    "    \n"
   ]
  },
  {
   "cell_type": "markdown",
   "metadata": {},
   "source": [
    "## Experimental assay "
   ]
  },
  {
   "cell_type": "markdown",
   "metadata": {},
   "source": [
    "Calssic\n",
    "\n",
    "    smtag-convert2th -c 181203all \\\n",
    "    -E \".//figure-caption\" \\\n",
    "    -L1200 -X10 -y \".//sd-tag[@category='assay']\" \\\n",
    "    -f 10X_L1200_assay \\\n",
    "    --noocr \\\n",
    "    -w /efs/smtag\n",
    "    \n",
    "    smtag-meta -f 10X_L1200_assay \\\n",
    "    -E120 -Z128 -R0.01 \\\n",
    "    -o assay \\\n",
    "    -w /efs/smtag\n",
    "    \n",
    "__saved `10X_L1200_assay_assay_2019-01-05-15-14.sddl`__\n",
    "\n",
    "Checking a bit hyperparam\n",
    "\n",
    "    smtag-meta -f 10X_L1200_assay \\\n",
    "    -E30 -Z128 -R0.01 -o assay \\\n",
    "    -H depth,kernel -I 100 \\\n",
    "    -w /efs/smtag\n",
    "    \n",
    "Very little impact. If kernel 3 or so, then less good, but otherwise seems remarkably insensitive.\n",
    "    \n",
    "    scp -i basicLinuxAMI.pem ec2-user@smtag-web:/efs/smtag/models/10X_L1200_assay_assay_2019-01-05-15-14.zip ../py-smtag/smtag/rack/exp_assay.zip"
   ]
  },
  {
   "cell_type": "markdown",
   "metadata": {},
   "source": [
    "## Intervention-assay geneprod "
   ]
  },
  {
   "cell_type": "markdown",
   "metadata": {},
   "source": [
    "Classical training\n",
    "\n",
    "    smtag-convert2th -c 181203all \\\n",
    "    -L1200 -X15 \\\n",
    "    -E \".//figure-caption\" \\\n",
    "    -y \".//sd-tag[@type='gene']\",\".//sd-tag[@type='protein']\" \\\n",
    "    -e \".//sd-tag[@type='gene']\",\".//sd-tag[@type='protein']\" \\\n",
    "    -A \".//sd-tag[@role='intervention']\",\".//sd-tag[@role='assayed']\",\".//sd-tag[@role='normalizing']\",\".//sd-tag[@role='experiment']\",\".//sd-tag[@role='component']\", \\\n",
    "    -f 15X_L1200_geneprod_anonym_not_reporter \\\n",
    "    --noocr \\\n",
    "    -w /efs/smtag\n",
    "    \n",
    "    smtag-meta -f 15X_L1200_geneprod_anonym_not_reporter -w /efs/smtag \\\n",
    "    -E120 -Z128 -R0.01 \\\n",
    "    -o intervention,assayed \\\n",
    "    -k \"6,6,6\" -n \"8,8,8\" -p \"2,2,2\"\n",
    "\n",
    "__saved `15X_L1200_geneprod_anonym_not_reporter_intervention_assayed_2019-01-04-15-05.sddl (size: 102679)`__\n",
    "\n",
    "    smtag-meta -f 15X_L1200_geneprod_anonym_not_reporter -w /efs/smtag \\\n",
    "    -E120 -Z32 -R0.001 \\\n",
    "    -o intervention,assayed \\\n",
    "    -k \"6,6,6,6\" -n \"8,8,8,8\" -p \"2,2,2,2\"\n",
    "    \n",
    "Slightly worse than the 3 layer version, intervention 69%, assayed 78%, slighly more overfitting.\n",
    "\n",
    "    scp -i basicLinuxAMI.pem ec2-user@smtag-web:/efs/smtag/models/15X_L1200_geneprod_anonym_not_reporter_intervention_assayed_2019-01-04-15-05.zip ../py-smtag/smtag/rack/role_geneprod.zip"
   ]
  },
  {
   "cell_type": "markdown",
   "metadata": {},
   "source": [
    "Trying whole document, __without entry BN__, tracking on\n",
    "\n",
    "    smtag-convert2th -c 181203all \\\n",
    "    -L6000 -X5 \\\n",
    "    -E \".\" \\\n",
    "    -y \".//sd-tag[@type='gene']\",\".//sd-tag[@type='protein']\" \\\n",
    "    -e \".//sd-tag[@type='gene']\",\".//sd-tag[@type='protein']\" \\\n",
    "    -A \".//sd-tag[@role='intervention']\",\\\n",
    "    \".//sd-tag[@role='assayed']\",\\\n",
    "    \".//sd-tag[@role='normalizing']\",\\\n",
    "    \".//sd-tag[@role='experiment']\",\\\n",
    "    \".//sd-tag[@role='component']\", \\\n",
    "    -f 5X_L6000_whole_doc_geneprod_anonym_not_reporter -w /efs/smtag --noocr\n",
    "\n",
    "    smtag-meta -f 5X_L6000_whole_doc_geneprod_anonym_not_reporter -w /efs/smtag \\\n",
    "    -E120 -Z32 -R0.01 \\\n",
    "    -o intervention,assayed \\\n",
    "    -k \"6,6,6,6\" -n \"16,8,8,8\" -p \"2,2,2,2\"\n",
    "\n",
    "- not better\n",
    "- later exp suggest tracking should be off if no entry BN?\n",
    "\n",
    "saved `5X_L6000_whole_doc_geneprod_anonym_not_reporter_intervention_assayed_2018-12-24-13-13.sddl` (size: 142459)\n",
    "\n",
    "Trying whole document, entry BN and tracking (classic), reduced features number (8 everywhere), slower learning rate:\n",
    "\n",
    "    smtag-meta -f 5X_L6000_whole_doc_geneprod_anonym_not_reporter -w /efs/smtag \\\n",
    "    -E500 -Z32 -R0.001 \\\n",
    "    -o intervention,assayed \\\n",
    "    -k \"6,6,6,6\" -n \"8,8,8,8\" -p \"2,2,2,2\"\n",
    "    \n",
    "- not good, intervention 60%, assayed 70%, overfitting"
   ]
  },
  {
   "cell_type": "markdown",
   "metadata": {},
   "source": [
    "trying without skip links in unet to force bottleneck\n",
    "\n",
    "    smtag-meta -f 5X_L6000_whole_doc_geneprod_anonym_not_reporter \\\n",
    "    -E500 -Z32 -R0.01 \\\n",
    "    -o intervention,assayed \\\n",
    "    -k \"6,6,6\" -n \"16,32,64\" -p \"2,2,2\" \\\n",
    "    -w /efs/smtag \n",
    "\n",
    "- a disaster..."
   ]
  },
  {
   "cell_type": "markdown",
   "metadata": {},
   "source": [
    "Hyperscan\n",
    "\n",
    "    smtag-meta -f 15X_L1200_geneprod_anonym_not_reporter \\\n",
    "    -E20 -Z128 -R0.01 \\\n",
    "    -o intervention,assayed \\\n",
    "    -H depth,pooling,nf -I 100 \\\n",
    "    -w /efs/smtag\n",
    "\n",
    "scans: `scans/scan_depth_pooling_nf_X100_2019-01-10-12-37/scanned_perf.csv`\n",
    "\n",
    "- In general: a lot of variability, effects are not drastic; add more depth, more features, don't pool more than 2\n",
    "- With pool 1: better to have 4-layer depth and tends to be better with more features (13-16), rather variabl\n",
    "- With pool 2: better to have 4-layer depth and some tendency maybe to be better with more features, perhaps less variable \n",
    "- With pool 3: worse than the other in general.\n",
    "\n",
    "Recommendation: `nf=[16,16,16,16] pooling=[2,2,2,2] kernel=[6,6,6,6]` short training (`-E10`) to avoid overfitting:\n",
    "\n",
    "    smtag-meta -f 15X_L1200_geneprod_anonym_not_reporter -w /efs/smtag \\\n",
    "    -E10 -Z128 -R0.01 \\\n",
    "    -o intervention,assayed \\\n",
    "    -k \"6,6,6,6\" -n \"16,16,16,16\" -p \"2,2,2,2\" \\\n",
    "    -w /efs/smtag\n",
    "    \n",
    "saved `15X_L1200_geneprod_anonym_not_reporter_intervention_assayed_2019-01-11-12-14.sddl`\n",
    "\n",
    "    scp -i basicLinuxAMI.pem ec2-user@smtag-web:/efs/smtag/models/15X_L1200_geneprod_anonym_not_reporter_intervention_assayed_2019-01-11-12-14.zip ../py-smtag/smtag/rack/role_geneprod.zip\n",
    "    \n",
    "Benchmark\n",
    "    \n",
    "    smtag-eval -S -T -f 15X_L1200_geneprod_anonym_not_reporter -m 15X_L1200_geneprod_anonym_not_reporter_intervention_assayed_2019-01-11-12-14.zip -w /efs/smtag\n",
    "    \n",
    "    smtag-eval -f 15X_L1200_geneprod_anonym_not_reporter -m 15X_L1200_geneprod_anonym_not_reporter_intervention_assayed_2019-01-11-12-14.zip -w /efs/smtag"
   ]
  },
  {
   "cell_type": "markdown",
   "metadata": {},
   "source": [
    "## Geneprod Reporter"
   ]
  },
  {
   "cell_type": "markdown",
   "metadata": {},
   "source": [
    "Classical\n",
    "\n",
    "    smtag-convert2th -c 181203all \\\n",
    "    -E \".//figure-caption\" \\\n",
    "    -L1200 -X5 \\\n",
    "    -y \".//sd-tag[@type='gene']\",\".//sd-tag[@type='protein']\" \\\n",
    "    -e \".//sd-tag[@type='gene']\",\".//sd-tag[@type='protein']\" \\\n",
    "    -f 5X_L1200_geneprod_reporter -w /efs/smtag --noocr\n",
    "\n",
    "    smtag-meta -f 5X_L1200_geneprod_reporter -w /efs/smtag \\\n",
    "    -E120 -Z128 -R0.01 \\\n",
    "    -o reporter\n",
    "\n",
    "saved `5X_L1200_geneprod_reporter_reporter_2018-12-22-23-44.sddl` (size: 96117)"
   ]
  },
  {
   "cell_type": "markdown",
   "metadata": {},
   "source": [
    "Trying 4 layers, with BN and tracking\n",
    "\n",
    "    smtag-meta -f 5X_L1200_geneprod_reporter -w /efs/smtag \\\n",
    "    -E120 -Z32 -R0.001 \\\n",
    "    -o reporter \\\n",
    "    -k \"6,6,6,6\" -n \"8,8,8,8\" -p \"2,2,2,2\"\n",
    "\n",
    "__saved `5X_L1200_geneprod_reporter_reporter_2019-01-03-18-48.sddl` (size: 115412)__\n",
    "\n",
    "\n",
    "    scp -i basicLinuxAMI.pem ec2-user@smtag-web:/efs/smtag/models/5X_L1200_geneprod_reporter_reporter_2019-01-03-18-48.zip ../py-smtag/smtag/rack/reporter_geneprod.zip"
   ]
  },
  {
   "cell_type": "code",
   "execution_count": null,
   "metadata": {},
   "outputs": [],
   "source": [
    "# trying concurrent model with whole document examples,\n",
    "# 32 ex batches, reduced learning rate, 4 layers\n",
    "# without entry BN but with BN tracking\n",
    "smtag-convert2th -c 181203all \\\n",
    "-E \".\" \\\n",
    "-L6000 -X5 \\\n",
    "-y \".//sd-tag[@type='gene']\",\".//sd-tag[@type='protein']\" \\\n",
    "-e \".//sd-tag[@type='gene']\",\".//sd-tag[@type='protein']\" \\\n",
    "-f 5X_L6000_geneprod_reporter_whole_doc -w /efs/smtag --noocr\n",
    "\n",
    "smtag-meta -f 5X_L6000_geneprod_reporter_whole_doc -w /efs/smtag \\\n",
    "-E120 -Z32 -R0.005 -o reporter \\\n",
    "-k \"6,6,6,6\" -n \"16,8,8,8\" -p \"2,2,2,2\"\n",
    "\n",
    "saved 5X_L6000_geneprod_reporter_whole_doc_reporter_2018-12-25-21-32.sddl (size: 142311)"
   ]
  },
  {
   "cell_type": "markdown",
   "metadata": {},
   "source": [
    "## Intervention-assay small molecule"
   ]
  },
  {
   "cell_type": "markdown",
   "metadata": {},
   "source": [
    "Classic training set\n",
    "\n",
    "    smtag-convert2th -c 181203all \\\n",
    "    -L1200 -X15 \\\n",
    "    -E \".//figure-caption\" --noocr \\\n",
    "    -y \".//sd-tag[@type='molecule']\" \\\n",
    "    -e \".//sd-tag[@type='molecule']\" \\\n",
    "    -A \".//sd-tag[@type='molecule']\" \\\n",
    "    -f 15X_L1200_molecule_anonym \\\n",
    "    -w /efs/smtag\n",
    "    \n",
    "    smtag-meta -f 15X_L1200_molecule_anonym \\\n",
    "    -E120 -Z128 -R0.01 \\\n",
    "    -o intervention,assayed \\\n",
    "    -w /efs/smtag\n",
    "    \n",
    "Saved `...`\n",
    "\n",
    "No recognition of assayed small molecules whatsoever... Number of examples where small molecules are assayed is very small as compared to small molecule (drug) perturbations. Need some balancing mechanism?\n",
    "\n",
    "Trying to get only assayed molecules:\n",
    "\n",
    "    smtag-meta -f 15X_L1200_molecule_anonym \\\n",
    "    -E120 -Z128 -R0.01 \\\n",
    "    -o assayed \\\n",
    "    -w /efs/smtag\n",
    "    \n",
    "This works to some extent (f1 0.6).\n",
    "    \n",
    "Only 1000 panels with small molecules as both intervention and assayed\n",
    "    MATCH \n",
    "    (f:Figure)-->(p:Panel)-->(t1:Tag {type:\"molecule\", role:\"intervention\"}),\n",
    "    (p)-->(t2:Tag {type:\"molecule\", role:\"assayed\"})\n",
    "    RETURN COUNT(DISTINCT(f))\n",
    "    \n",
    "Trying\n",
    "\n",
    "    smtag-convert2th -c 181203all \\\n",
    "    -L1200 -X15 \\\n",
    "    -E \".//figure-caption\" --noocr \\\n",
    "    -y \".//sd-tag[@type='molecule'][@role='intervention']\",\".//sd-tag[@type='molecule'][@role='assayed']\" \\\n",
    "    -e \".//sd-tag[@type='molecule']\" \\\n",
    "    -A \".//sd-tag[@type='molecule']\" \\\n",
    "    -f 15X_L1200_molecule_anonym_balanced \\\n",
    "    -w /efs/smtag\n",
    "    \n",
    "    \n",
    "    smtag-meta -f 15X_L1200_molecule_anonym_balanced \\\n",
    "    -E40 -Z128 -R0.01 \\\n",
    "    -o intervention,assayed \\\n",
    "    -w /efs/smtag\n",
    "    \n",
    "saved `15X_L1200_molecule_anonym_balanced_intervention_assayed_2019-01-09-15-28.sddl`\n",
    "\n",
    "    scp -i basicLinuxAMI.pem \\\n",
    "    ec2-user@smtag-web:/efs/smtag/models/15X_L1200_molecule_anonym_balanced_intervention_assayed_2019-01-09-15-28.zip \\\n",
    "    ../py-smtag/smtag/rack/role_small_molecule.zip\n"
   ]
  },
  {
   "cell_type": "markdown",
   "metadata": {},
   "source": [
    "## Panel start"
   ]
  },
  {
   "cell_type": "markdown",
   "metadata": {},
   "source": [
    "With 4 layers:\n",
    "    \n",
    "    smtag-meta -f 15X_L1200_geneprod \\\n",
    "    -E100 -Z32 -R0.001 \\\n",
    "    -o panel_start \\\n",
    "    -k \"6,6,6,6\" -n \"8,8,8,8\" -p \"2,2,2,2\" \\\n",
    "    -w /efs/smtag\n",
    "\n",
    "__saved `15X_L1200_geneprod_panel_start_2019-01-03-04-15.sddl` (size: 115412)__\n",
    "\n",
    "    scp -i basicLinuxAMI.pem ec2-user@smtag-web:/efs/smtag/models/15X_L1200_geneprod_panel_start_2019-01-03-04-15.zip ../py-smtag/smtag/rack/panel_start.zip"
   ]
  }
 ],
 "metadata": {
  "kernelspec": {
   "display_name": "Bash",
   "language": "bash",
   "name": "bash"
  },
  "language_info": {
   "codemirror_mode": "shell",
   "file_extension": ".sh",
   "mimetype": "text/x-sh",
   "name": "bash"
  }
 },
 "nbformat": 4,
 "nbformat_minor": 2
}
