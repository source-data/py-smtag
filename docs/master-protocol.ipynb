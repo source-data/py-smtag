{
 "cells": [
  {
   "cell_type": "markdown",
   "metadata": {},
   "source": [
    "Building the SmartTag models\n",
    "===\n"
   ]
  },
  {
   "cell_type": "markdown",
   "metadata": {},
   "source": [
    "## Initial checks"
   ]
  },
  {
   "cell_type": "code",
   "execution_count": null,
   "metadata": {},
   "outputs": [],
   "source": [
    "source .venv/bin/activate"
   ]
  },
  {
   "cell_type": "code",
   "execution_count": null,
   "metadata": {},
   "outputs": [],
   "source": [
    "python setup.py install"
   ]
  },
  {
   "cell_type": "code",
   "execution_count": null,
   "metadata": {
    "scrolled": false
   },
   "outputs": [],
   "source": [
    "ls"
   ]
  },
  {
   "cell_type": "code",
   "execution_count": null,
   "metadata": {},
   "outputs": [],
   "source": [
    "ls models"
   ]
  },
  {
   "cell_type": "code",
   "execution_count": null,
   "metadata": {},
   "outputs": [],
   "source": [
    "ls data"
   ]
  },
  {
   "cell_type": "code",
   "execution_count": null,
   "metadata": {
    "scrolled": true
   },
   "outputs": [],
   "source": [
    "ls data4th"
   ]
  },
  {
   "cell_type": "code",
   "execution_count": null,
   "metadata": {},
   "outputs": [],
   "source": [
    "smtag-neo2xml --help"
   ]
  },
  {
   "cell_type": "code",
   "execution_count": null,
   "metadata": {},
   "outputs": [],
   "source": [
    "smtag-convert2th --help"
   ]
  },
  {
   "cell_type": "code",
   "execution_count": null,
   "metadata": {},
   "outputs": [],
   "source": [
    "smtag-meta --help"
   ]
  },
  {
   "cell_type": "code",
   "execution_count": null,
   "metadata": {},
   "outputs": [],
   "source": [
    "smtag-eval --help"
   ]
  },
  {
   "cell_type": "code",
   "execution_count": null,
   "metadata": {},
   "outputs": [],
   "source": [
    "smtag-predict --help"
   ]
  },
  {
   "cell_type": "markdown",
   "metadata": {},
   "source": [
    "## Preparation of corpus of xml documents and images"
   ]
  },
  {
   "cell_type": "code",
   "execution_count": null,
   "metadata": {},
   "outputs": [],
   "source": [
    "smtag-neo2xml -l10000 -f 181203all # on large sd-graph with 30000 panels from 1100 papers"
   ]
  },
  {
   "cell_type": "code",
   "execution_count": null,
   "metadata": {},
   "outputs": [],
   "source": [
    "smtag-ocr # run only once"
   ]
  },
  {
   "cell_type": "markdown",
   "metadata": {},
   "source": [
    "## Small molecules"
   ]
  },
  {
   "cell_type": "code",
   "execution_count": null,
   "metadata": {},
   "outputs": [],
   "source": [
    "smtag-convert2th -c 181203all \\\n",
    "-E \".//figure-caption\" \\\n",
    "-L1200 -X10 -y \".//sd-tag[@type='molecule']\" \\\n",
    "-f 10X_L1200_molecule -w /efs/smtag --noocr"
   ]
  },
  {
   "cell_type": "code",
   "execution_count": null,
   "metadata": {},
   "outputs": [],
   "source": [
    "smtag-meta -f 10X_L1200_molecule -w /efs/smtag \\\n",
    "-E120 -Z128 -R0.01 \\\n",
    "-o small_molecule"
   ]
  },
  {
   "cell_type": "markdown",
   "metadata": {},
   "source": [
    "saved 10X_L1200_molecule_small_molecule_2018-12-22-19-52.sddl (size: 96117)"
   ]
  },
  {
   "cell_type": "code",
   "execution_count": null,
   "metadata": {
    "scrolled": true
   },
   "outputs": [],
   "source": [
    "smtag-eval -f .zip -S -T"
   ]
  },
  {
   "cell_type": "code",
   "execution_count": null,
   "metadata": {
    "scrolled": true
   },
   "outputs": [],
   "source": [
    "smtag-eval -f 5X_L1200_molecule -m 5X_L1200_molecule_small_molecule_2018-12-19-06-04.zip"
   ]
  },
  {
   "cell_type": "markdown",
   "metadata": {},
   "source": [
    "---"
   ]
  },
  {
   "cell_type": "code",
   "execution_count": null,
   "metadata": {},
   "outputs": [],
   "source": [
    "cp models/ rack/small_molecule.zip"
   ]
  },
  {
   "cell_type": "code",
   "execution_count": null,
   "metadata": {},
   "outputs": [],
   "source": []
  },
  {
   "cell_type": "markdown",
   "metadata": {},
   "source": [
    "## Gene products"
   ]
  },
  {
   "cell_type": "code",
   "execution_count": null,
   "metadata": {},
   "outputs": [],
   "source": [
    "smtag-convert2th -c 181203all \\\n",
    "-E \".//figure-caption\" \\\n",
    "-L1200 -X5 -y \".//sd-tag[@type='gene']\",\".//sd-tag[@type='protein']\" \\\n",
    "-f 5X_L1200_geneprod --noocr -w /efs/smtag\n"
   ]
  },
  {
   "cell_type": "code",
   "execution_count": null,
   "metadata": {},
   "outputs": [],
   "source": [
    "smtag-meta -f 5X_L1200_geneprod -w /efs/smtag \\\n",
    "-E120 -Z32 -R0.01 \\\n",
    "-o geneprod"
   ]
  },
  {
   "cell_type": "markdown",
   "metadata": {},
   "source": [
    "model saved under `5X_L1200_geneprod_geneprod_2018-12-22-18-16.sddl`"
   ]
  },
  {
   "cell_type": "code",
   "execution_count": null,
   "metadata": {
    "scrolled": true
   },
   "outputs": [],
   "source": [
    "smtag-eval -f 3X_L600_geneprod -m 3X_L600_geneprod_geneprod_2018-12-05-00-32.zip -S -T"
   ]
  },
  {
   "cell_type": "code",
   "execution_count": null,
   "metadata": {
    "scrolled": true
   },
   "outputs": [],
   "source": [
    "smtag-eval -f .zip"
   ]
  },
  {
   "cell_type": "code",
   "execution_count": null,
   "metadata": {},
   "outputs": [],
   "source": [
    "cp models/3X_L600_geneprod_geneprod_2018-12-05-00-32.zip rack/geneprod.zip"
   ]
  },
  {
   "cell_type": "markdown",
   "metadata": {},
   "source": [
    "## Subcellular"
   ]
  },
  {
   "cell_type": "code",
   "execution_count": null,
   "metadata": {},
   "outputs": [],
   "source": [
    "smtag-convert2th -c 181203all \\\n",
    "-E \".//figure-caption\" \\\n",
    "-L1200 -X10 -y \".//sd-tag[@type='subcellular']\" \\\n",
    "-f 10X_L1200_subcellular -w /efs/smtag --noocr"
   ]
  },
  {
   "cell_type": "code",
   "execution_count": null,
   "metadata": {},
   "outputs": [],
   "source": [
    "smtag-meta -f 10X_L1200_subcellular -w /efs/smtag \\\n",
    "-E120 -Z128 -R0.01 \\\n",
    "-o subcellular"
   ]
  },
  {
   "cell_type": "markdown",
   "metadata": {},
   "source": [
    "save as `10X_L1200_subcellular_subcellular_2018-12-22-21-12.sddl` (size: 100167)`"
   ]
  },
  {
   "cell_type": "code",
   "execution_count": null,
   "metadata": {
    "scrolled": true
   },
   "outputs": [],
   "source": [
    "smtag-eval -f  -m .zip -S -T"
   ]
  },
  {
   "cell_type": "code",
   "execution_count": null,
   "metadata": {
    "scrolled": true
   },
   "outputs": [],
   "source": [
    "smtag-eval -f  -m .zip"
   ]
  },
  {
   "cell_type": "code",
   "execution_count": null,
   "metadata": {},
   "outputs": [],
   "source": [
    "cp models/.zip rack/subcellular.zip"
   ]
  },
  {
   "cell_type": "markdown",
   "metadata": {},
   "source": [
    "## Cell"
   ]
  },
  {
   "cell_type": "code",
   "execution_count": null,
   "metadata": {},
   "outputs": [],
   "source": [
    "smtag-convert2th -c 181203all \\\n",
    "-E \".//figure-caption\" \\\n",
    "-L1200 -X10 -y \".//sd-tag[@type='cell']\" \\\n",
    "-f 10X_L1200_cell -w /efs/smtag --noocr"
   ]
  },
  {
   "cell_type": "code",
   "execution_count": null,
   "metadata": {},
   "outputs": [],
   "source": [
    "smtag-meta -f 10X_L1200_cell \\\n",
    "-E120 -Z128 -R0.01 \\\n",
    "-o cell"
   ]
  },
  {
   "cell_type": "markdown",
   "metadata": {},
   "source": [
    "saved `` (size: 100167)"
   ]
  },
  {
   "cell_type": "code",
   "execution_count": null,
   "metadata": {
    "scrolled": true
   },
   "outputs": [],
   "source": [
    "smtag-eval -f  -m .zip -S -T"
   ]
  },
  {
   "cell_type": "code",
   "execution_count": null,
   "metadata": {
    "scrolled": true
   },
   "outputs": [],
   "source": [
    "smtag-eval -f  -m .zip"
   ]
  },
  {
   "cell_type": "code",
   "execution_count": null,
   "metadata": {},
   "outputs": [],
   "source": [
    "cp models/.zip rack/cell.zip"
   ]
  },
  {
   "cell_type": "markdown",
   "metadata": {},
   "source": [
    "## Tissue "
   ]
  },
  {
   "cell_type": "code",
   "execution_count": null,
   "metadata": {},
   "outputs": [],
   "source": [
    "smtag-convert2th -c 181203all \\\n",
    "-E \".//figure-caption\" \\\n",
    "-L1200 -X10 -y \".//sd-tag[@type='tissue']\" \\\n",
    "-f 10X_L1200_tissue --noocr"
   ]
  },
  {
   "cell_type": "code",
   "execution_count": null,
   "metadata": {},
   "outputs": [],
   "source": [
    "smtag-meta -f 3X_L600_tissue \\\n",
    "-E120 -Z128 -R0.01 \\\n",
    "-o tissue"
   ]
  },
  {
   "cell_type": "markdown",
   "metadata": {},
   "source": [
    "saved `3X_L600_tissue_tissue_2018-12-06-23-58.sddl` (size: 100167)"
   ]
  },
  {
   "cell_type": "code",
   "execution_count": null,
   "metadata": {},
   "outputs": [],
   "source": [
    "cp models/3X_L600_tissue_tissue_2018-12-06-23-58.zip rack/tissue.zip"
   ]
  },
  {
   "cell_type": "code",
   "execution_count": null,
   "metadata": {
    "scrolled": true
   },
   "outputs": [],
   "source": [
    "smtag-eval -f 3X_L600_tissue -m 3X_L600_tissue_tissue_2018-12-06-23-58.zip -S -T"
   ]
  },
  {
   "cell_type": "code",
   "execution_count": null,
   "metadata": {
    "scrolled": true
   },
   "outputs": [],
   "source": [
    "smtag-eval -f 3X_L600_tissue -m 3X_L600_tissue_tissue_2018-12-06-23-58.zip"
   ]
  },
  {
   "cell_type": "markdown",
   "metadata": {},
   "source": [
    "## Organism "
   ]
  },
  {
   "cell_type": "code",
   "execution_count": null,
   "metadata": {},
   "outputs": [],
   "source": [
    "smtag-convert2th -c 181203all \\\n",
    "-E \".//figure-caption\" \\\n",
    "-L1200 -X10 -y \".//sd-tag[@type='organism']\" \\\n",
    "-f 3X_L600_organism"
   ]
  },
  {
   "cell_type": "code",
   "execution_count": null,
   "metadata": {},
   "outputs": [],
   "source": [
    "smtag-meta -f 10X_L1200_organism \\\n",
    "-E120 -Z128 -R0.01 \\\n",
    "-o organism"
   ]
  },
  {
   "cell_type": "markdown",
   "metadata": {},
   "source": [
    "saved `` (size: 100167)"
   ]
  },
  {
   "cell_type": "code",
   "execution_count": null,
   "metadata": {
    "scrolled": true
   },
   "outputs": [],
   "source": [
    "smtag-eval -f  -m .zip -S -T"
   ]
  },
  {
   "cell_type": "code",
   "execution_count": null,
   "metadata": {
    "scrolled": true
   },
   "outputs": [],
   "source": [
    "smtag-eval -f  -m .zip"
   ]
  },
  {
   "cell_type": "code",
   "execution_count": null,
   "metadata": {},
   "outputs": [],
   "source": [
    "cp models/ rack/organism.zip"
   ]
  },
  {
   "cell_type": "markdown",
   "metadata": {},
   "source": [
    "## Diseases "
   ]
  },
  {
   "cell_type": "code",
   "execution_count": null,
   "metadata": {},
   "outputs": [],
   "source": [
    "smtag-convert2th -L1200 -X10 -b -c NCBI_disease -f 5X_L1200_NCBI_disease"
   ]
  },
  {
   "cell_type": "code",
   "execution_count": null,
   "metadata": {},
   "outputs": [],
   "source": [
    "smtag-meta -E120 -Z128 -R0.01 -o disease -f 10X_L1200_NCBI_disease"
   ]
  },
  {
   "cell_type": "markdown",
   "metadata": {},
   "source": [
    "saved `` (size: 100167)"
   ]
  },
  {
   "cell_type": "code",
   "execution_count": null,
   "metadata": {
    "scrolled": true
   },
   "outputs": [],
   "source": [
    "smtag-eval -f  -m .zip -S -T"
   ]
  },
  {
   "cell_type": "code",
   "execution_count": null,
   "metadata": {
    "scrolled": true
   },
   "outputs": [],
   "source": [
    "smtag-eval -f  -m .zip"
   ]
  },
  {
   "cell_type": "code",
   "execution_count": null,
   "metadata": {},
   "outputs": [],
   "source": [
    "cp models/.zip rack/disease.zip"
   ]
  },
  {
   "cell_type": "markdown",
   "metadata": {},
   "source": [
    "## Experimental assay "
   ]
  },
  {
   "cell_type": "code",
   "execution_count": null,
   "metadata": {},
   "outputs": [],
   "source": [
    "smtag-convert2th -c 181203all \\\n",
    "-E \".//figure-caption\" \\\n",
    "-L1200 -X10 -y \".//sd-tag[@category='assay']\" \\\n",
    "-f 10X_L1200_assay"
   ]
  },
  {
   "cell_type": "code",
   "execution_count": null,
   "metadata": {},
   "outputs": [],
   "source": [
    "smtag-meta -f 10X_L1200_assay \\\n",
    "-E120 -Z128 -R0.01 \\\n",
    "-o assay"
   ]
  },
  {
   "cell_type": "markdown",
   "metadata": {},
   "source": [
    "saved `` (size: 100167)"
   ]
  },
  {
   "cell_type": "code",
   "execution_count": null,
   "metadata": {},
   "outputs": [],
   "source": [
    "cp models/.zip rack/exp_assay.zip"
   ]
  },
  {
   "cell_type": "code",
   "execution_count": null,
   "metadata": {
    "scrolled": true
   },
   "outputs": [],
   "source": [
    "smtag-eval -f  -m .zip -S -T"
   ]
  },
  {
   "cell_type": "code",
   "execution_count": null,
   "metadata": {
    "scrolled": true
   },
   "outputs": [],
   "source": [
    "smtag-eval -f  -m .zip"
   ]
  },
  {
   "cell_type": "markdown",
   "metadata": {},
   "source": [
    "## Intervention-assay geneprod "
   ]
  },
  {
   "cell_type": "code",
   "execution_count": null,
   "metadata": {},
   "outputs": [],
   "source": [
    "smtag-convert2th -c 181203all \\\n",
    "-L1200 -X10 \\\n",
    "-E \".//figure-caption\" \\\n",
    "-y \".//sd-tag[@type='gene']\",\".//sd-tag[@type='protein']\" \\\n",
    "-e \".//sd-tag[@type='gene']\",\".//sd-tag[@type='protein']\" \\\n",
    "-A \".//sd-tag[@role='intervention']\",\\\n",
    "\".//sd-tag[@role='assayed']\",\\\n",
    "\".//sd-tag[@role='normalizing']\",\\\n",
    "\".//sd-tag[@role='experiment']\",\\\n",
    "\".//sd-tag[@role='component']\", \\\n",
    "-f 10X_L1200_geneprod_anonym_not_reporter -w /efs/smtag --noocr"
   ]
  },
  {
   "cell_type": "code",
   "execution_count": null,
   "metadata": {},
   "outputs": [],
   "source": [
    "smtag-meta -f 10X_L1200_geneprod_anonym_not_reporter -w /efs/smtag \\\n",
    "-E120 -Z128 -R0.01 \\\n",
    "-o intervention,assayed"
   ]
  },
  {
   "cell_type": "markdown",
   "metadata": {},
   "source": [
    "saved `10X_L1200_geneprod_anonym_not_reporter_intervention_assayed_2018-12-22-22-40.sddl` (size: 96257)"
   ]
  },
  {
   "cell_type": "code",
   "execution_count": null,
   "metadata": {
    "scrolled": true
   },
   "outputs": [],
   "source": [
    "smtag-eval -f  -m .zip -S -T"
   ]
  },
  {
   "cell_type": "code",
   "execution_count": null,
   "metadata": {
    "scrolled": true
   },
   "outputs": [],
   "source": [
    "smtag-eval -f  -m .zip"
   ]
  },
  {
   "cell_type": "code",
   "execution_count": 1,
   "metadata": {},
   "outputs": [
    {
     "name": "stdout",
     "output_type": "stream",
     "text": [
      "cp: models/.zip: No such file or directory\n"
     ]
    },
    {
     "ename": "",
     "evalue": "1",
     "output_type": "error",
     "traceback": []
    }
   ],
   "source": [
    "cp models/.zip rack/role_geneprod.zip"
   ]
  },
  {
   "cell_type": "markdown",
   "metadata": {},
   "source": [
    "## Geneprod Reporter"
   ]
  },
  {
   "cell_type": "code",
   "execution_count": null,
   "metadata": {},
   "outputs": [],
   "source": [
    "smtag-convert2th -c 181203all \\\n",
    "-E \".//figure-caption\" \\\n",
    "-L1200 -X5 \\\n",
    "-y \".//sd-tag[@type='gene']\",\".//sd-tag[@type='protein']\" \\\n",
    "-e \".//sd-tag[@type='gene']\",\".//sd-tag[@type='protein']\" \\\n",
    "-f 5X_L1200_geneprod_reporter -w /efs/smtag --noocr"
   ]
  },
  {
   "cell_type": "code",
   "execution_count": null,
   "metadata": {},
   "outputs": [],
   "source": [
    "smtag-meta -f 5X_L1200_geneprod_reporter -w /efs/smtag \\\n",
    "-E120 -Z128 -R0.01 \\\n",
    "-o reporter"
   ]
  },
  {
   "cell_type": "markdown",
   "metadata": {},
   "source": [
    "saved `5X_L1200_geneprod_reporter_reporter_2018-12-22-23-44.sddl` (size: 96117)"
   ]
  },
  {
   "cell_type": "code",
   "execution_count": null,
   "metadata": {
    "scrolled": true
   },
   "outputs": [],
   "source": [
    "smtag-eval -f .zip -S -T"
   ]
  },
  {
   "cell_type": "code",
   "execution_count": null,
   "metadata": {
    "scrolled": true
   },
   "outputs": [],
   "source": [
    "smtag-eval -f 5X_L1200_geneprod_reporter -m "
   ]
  },
  {
   "cell_type": "code",
   "execution_count": null,
   "metadata": {},
   "outputs": [],
   "source": [
    "cp models/.zip rack/reporter_geneprod.zip"
   ]
  },
  {
   "cell_type": "markdown",
   "metadata": {},
   "source": [
    "## Intervention-assay small molecule"
   ]
  },
  {
   "cell_type": "code",
   "execution_count": null,
   "metadata": {},
   "outputs": [],
   "source": [
    "smtag-convert2th -c 181203all \\\n",
    "-L600 -X3 \\\n",
    "-y \".//sd-tag[@type='molecule']\" \\\n",
    "-e \".//sd-tag[@type='molecule']\" \\\n",
    "-A \".//sd-tag[@type='molecule']\" \\\n",
    "-f 3X_L600_molecule_anonym"
   ]
  },
  {
   "cell_type": "code",
   "execution_count": null,
   "metadata": {},
   "outputs": [],
   "source": [
    "smtag-meta -f 3X_L600_molecule_anonym \\\n",
    "-E120 -Z128 -R0.01 \\\n",
    "-o intervention,assayed"
   ]
  },
  {
   "cell_type": "markdown",
   "metadata": {},
   "source": [
    "saved `3X_L600_molecule_anonym_intervention_assayed_2018-12-13-05-20.sddl` (size: 100315)"
   ]
  },
  {
   "cell_type": "code",
   "execution_count": null,
   "metadata": {},
   "outputs": [],
   "source": [
    "cp models/3X_L600_molecule_anonym_intervention_assayed_2018-12-13-05-20.zip rack/role_small_molecule.zip"
   ]
  },
  {
   "cell_type": "code",
   "execution_count": null,
   "metadata": {
    "scrolled": true
   },
   "outputs": [],
   "source": [
    "smtag-eval -f 3X_L600_molecule_anonym -m 3X_L600_molecule_anonym_intervention_assayed_2018-12-13-05-20.zip -S -T"
   ]
  },
  {
   "cell_type": "code",
   "execution_count": null,
   "metadata": {
    "scrolled": true
   },
   "outputs": [],
   "source": [
    "smtag-eval -f 3X_L600_molecule_anonym -m 3X_L600_molecule_anonym_intervention_assayed_2018-12-13-05-20.zip"
   ]
  },
  {
   "cell_type": "markdown",
   "metadata": {},
   "source": [
    "## Panel start"
   ]
  },
  {
   "cell_type": "code",
   "execution_count": null,
   "metadata": {},
   "outputs": [],
   "source": [
    "smtag-convert2th -c 181203all \\\n",
    "--noocr -E \".//figure-caption\" \\\n",
    "-L1200 -X10 -f 10X_L1200_figure_level_no_ocr"
   ]
  },
  {
   "cell_type": "code",
   "execution_count": null,
   "metadata": {},
   "outputs": [],
   "source": [
    "smtag-meta -f 10X_L1200_figure_level_no_ocr \\\n",
    "-E120 -Z128 -R0.01 \\\n",
    "-o panel_start"
   ]
  },
  {
   "cell_type": "markdown",
   "metadata": {},
   "source": [
    "saved `` (size: 100167)"
   ]
  },
  {
   "cell_type": "code",
   "execution_count": null,
   "metadata": {
    "scrolled": true
   },
   "outputs": [],
   "source": [
    "smtag-eval -f  -m .zip -S -T"
   ]
  },
  {
   "cell_type": "code",
   "execution_count": null,
   "metadata": {
    "scrolled": true
   },
   "outputs": [],
   "source": [
    "smtag-eval -f -m .zip"
   ]
  },
  {
   "cell_type": "code",
   "execution_count": null,
   "metadata": {},
   "outputs": [],
   "source": [
    "cp models/zip rack/panel_start.zip"
   ]
  },
  {
   "cell_type": "markdown",
   "metadata": {},
   "source": [
    "## Special models (experimental)"
   ]
  },
  {
   "cell_type": "markdown",
   "metadata": {},
   "source": [
    "### Whole document level intervention-assayed model"
   ]
  },
  {
   "cell_type": "code",
   "execution_count": null,
   "metadata": {},
   "outputs": [],
   "source": [
    "smtag-convert2th -c 181203all \\\n",
    "--noocr -E \".\" \\\n",
    "-e \".//sd-tag[@type='gene']\",\".//sd-tag[@type='protein']\" \\\n",
    "-A \".//sd-tag[@role='intervention']\",\\\n",
    "\".//sd-tag[@role='assayed']\",\\\n",
    "\".//sd-tag[@role='normalizing']\",\\\n",
    "\".//sd-tag[@role='experiment']\",\\\n",
    "\".//sd-tag[@role='component']\", \\\n",
    "-L6000 -X -f 1X_L5000_doc_level_geneprod_anonym_not_reporter_no_ocr"
   ]
  },
  {
   "cell_type": "code",
   "execution_count": null,
   "metadata": {},
   "outputs": [],
   "source": [
    "smtag-meta -f 1X_L5000_doc_level_geneprod_anonym_not_reporter_no_ocr \\\n",
    "-E200 -Z32 -R0.01 \\\n",
    "-n 8,8,8,8 -p 2,2,2,2 -k 6,6,6,6 \\\n",
    "-o intervention,assayed"
   ]
  },
  {
   "cell_type": "code",
   "execution_count": null,
   "metadata": {},
   "outputs": [],
   "source": [
    "smtag-convert2th -c 181203all \\\n",
    "--noocr -E \".\" \\\n",
    "-y \".//sd-tag[@type='gene']\",\".//sd-tag[@type='protein']\" \\\n",
    "-L6000 -X3 -f 3X_L6000_doc_level_geneprod_no_ocr"
   ]
  },
  {
   "cell_type": "code",
   "execution_count": null,
   "metadata": {},
   "outputs": [],
   "source": [
    "smtag-meta -f 3X_L6000_doc_level_geneprod_no_ocr \\\n",
    "-E200 -Z32 -R0.01 \\\n",
    "-n 8,8,8,8 -p 2,2,2,2 -k 6,6,6,6 \\\n",
    "-o geneprod"
   ]
  },
  {
   "cell_type": "markdown",
   "metadata": {},
   "source": [
    "## Rack for SmartTag engine"
   ]
  },
  {
   "cell_type": "code",
   "execution_count": null,
   "metadata": {},
   "outputs": [],
   "source": [
    "ls rack"
   ]
  },
  {
   "cell_type": "markdown",
   "metadata": {},
   "source": [
    "## Hyperparam scans"
   ]
  },
  {
   "cell_type": "code",
   "execution_count": null,
   "metadata": {},
   "outputs": [],
   "source": [
    "smtag-meta -E50 -o panel_start -H depth,kernel -I 25 -f 5X_L1200_entities -w /efs/smtag # after data transfer to GPU machine"
   ]
  },
  {
   "cell_type": "markdown",
   "metadata": {},
   "source": [
    "Winning combo:\n",
    "    4,4,4,4\n",
    "    \n",
    "But a lot of variability. Initialization issues?"
   ]
  },
  {
   "cell_type": "code",
   "execution_count": null,
   "metadata": {
    "scrolled": true
   },
   "outputs": [],
   "source": [
    "smtag-meta -E50 -o geneprod -H kernel,depth -I 25 -f 5X_L1200_gene_protein -w /efs/smtag # after transfer to GPU machine"
   ]
  },
  {
   "cell_type": "markdown",
   "metadata": {},
   "source": [
    "Winning combo with `f1=0.80` after 50 epochs, no overfitting with valid:\n",
    "\n",
    "    namebase=5X_L1200_gene_protein; modelname=; learning_rate=0.01000000000000001; epochs=50; minibatch_size=32; selected_features=['geneprod']; collapsed_features=[]; overlap_features=[]; features_as_input=[]; nf_table=[8, 8, 8]; pool_table=[2, 2, 2]; kernel_table=[6, 6, 6]; dropout=0.1; validation_fraction=0.2; nf_input=32; nf_output=1"
   ]
  },
  {
   "cell_type": "code",
   "execution_count": null,
   "metadata": {},
   "outputs": [],
   "source": []
  }
 ],
 "metadata": {
  "kernelspec": {
   "display_name": "Bash",
   "language": "bash",
   "name": "bash"
  },
  "language_info": {
   "codemirror_mode": "shell",
   "file_extension": ".sh",
   "mimetype": "text/x-sh",
   "name": "bash"
  }
 },
 "nbformat": 4,
 "nbformat_minor": 2
}
