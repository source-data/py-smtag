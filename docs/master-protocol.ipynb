{
 "cells": [
  {
   "cell_type": "markdown",
   "metadata": {},
   "source": [
    "Building the SmartTag models\n",
    "===\n"
   ]
  },
  {
   "cell_type": "markdown",
   "metadata": {},
   "source": [
    "## Initial checks"
   ]
  },
  {
   "cell_type": "code",
   "execution_count": null,
   "metadata": {},
   "outputs": [],
   "source": [
    "source .venv/bin/activate"
   ]
  },
  {
   "cell_type": "code",
   "execution_count": null,
   "metadata": {},
   "outputs": [],
   "source": [
    "python setup.py install"
   ]
  },
  {
   "cell_type": "code",
   "execution_count": null,
   "metadata": {
    "scrolled": false
   },
   "outputs": [],
   "source": [
    "ls"
   ]
  },
  {
   "cell_type": "code",
   "execution_count": null,
   "metadata": {},
   "outputs": [],
   "source": [
    "ls models"
   ]
  },
  {
   "cell_type": "code",
   "execution_count": null,
   "metadata": {},
   "outputs": [],
   "source": [
    "ls data"
   ]
  },
  {
   "cell_type": "code",
   "execution_count": null,
   "metadata": {
    "scrolled": true
   },
   "outputs": [],
   "source": [
    "ls data4th"
   ]
  },
  {
   "cell_type": "code",
   "execution_count": null,
   "metadata": {},
   "outputs": [],
   "source": [
    "smtag-neo2xml --help"
   ]
  },
  {
   "cell_type": "code",
   "execution_count": null,
   "metadata": {},
   "outputs": [],
   "source": [
    "smtag-convert2th --help"
   ]
  },
  {
   "cell_type": "code",
   "execution_count": null,
   "metadata": {},
   "outputs": [],
   "source": [
    "smtag-meta --help"
   ]
  },
  {
   "cell_type": "code",
   "execution_count": null,
   "metadata": {},
   "outputs": [],
   "source": [
    "smtag-eval --help"
   ]
  },
  {
   "cell_type": "code",
   "execution_count": null,
   "metadata": {},
   "outputs": [],
   "source": [
    "smtag-predict --help"
   ]
  },
  {
   "cell_type": "markdown",
   "metadata": {},
   "source": [
    "## Preparation of corpus of xml documents and images"
   ]
  },
  {
   "cell_type": "code",
   "execution_count": null,
   "metadata": {},
   "outputs": [],
   "source": [
    "smtag-neo2xml -l10000 -f 181203all # on large sd-graph with 30000 panels from 1100 papers"
   ]
  },
  {
   "cell_type": "code",
   "execution_count": null,
   "metadata": {},
   "outputs": [],
   "source": [
    "smtag-ocr # run only once"
   ]
  },
  {
   "cell_type": "markdown",
   "metadata": {},
   "source": [
    "## Small molecules"
   ]
  },
  {
   "cell_type": "markdown",
   "metadata": {},
   "source": [
    "Classic\n",
    "\n",
    "    smtag-convert2th -c 181203all \\\n",
    "    -E \".//figure-caption\" \\\n",
    "    -L1200 -X10 -y \".//sd-tag[@type='molecule']\" \\\n",
    "    -f 10X_L1200_molecule \\\n",
    "    -w /efs/smtag --noocr\n",
    "\n",
    "    smtag-meta -f 10X_L1200_molecule -w /efs/smtag \\\n",
    "    -E120 -Z128 -R0.01 \\\n",
    "    -o small_molecule \\\n",
    "    -w /efs/smtag\n",
    "\n",
    "saved `10X_L1200_molecule_small_molecule_2019-01-05-19-23.sddl` (size: 96117)\n",
    "\n",
    "    smtag-eval -f .zip -S -T\n",
    "    smtag-eval -f 5X_L1200_molecule_small_molecule_2018-12-19-06-04 -m 5X_L1200_molecule_small_molecule_2018-12-19-06-04.zip\n",
    "    \n",
    "    scp -i basicLinuxAMI.pem ec2-user@smtag-web:/efs/smtag/models/10X_L1200_molecule_small_molecule_2019-01-05-19-23.zip ../py-smtag/smtag/rack/small_molecule.zip"
   ]
  },
  {
   "cell_type": "markdown",
   "metadata": {},
   "source": [
    "With 4 super layers, more sampling and low learning rate\n",
    "\n",
    "    smtag-convert2th -c 181203all \\\n",
    "    -E \".//figure-caption\" \\\n",
    "    -L1200 -X15 -y \".//sd-tag[@type='molecule']\" \\\n",
    "    -f 15X_L1200_molecule -w /efs/smtag --noocr\n",
    "\n",
    "    smtag-meta -f 15X_L1200_molecule \\\n",
    "    -E200 -Z32 -R0.001 \\\n",
    "    -o small_molecule \\\n",
    "    -k \"6,6,6,6\" -n \"8,8,8,8\" -p \"2,2,2,2\" \\\n",
    "    -w /efs/smtag\n",
    "\n",
    "- not great, 68% or so\n",
    "- overfitting after 15 epochs\n"
   ]
  },
  {
   "cell_type": "markdown",
   "metadata": {},
   "source": [
    "## Gene products"
   ]
  },
  {
   "cell_type": "code",
   "execution_count": null,
   "metadata": {},
   "outputs": [],
   "source": [
    "smtag-convert2th -c 181203all \\\n",
    "-E \".//figure-caption\" \\\n",
    "-L1200 -X5 -y \".//sd-tag[@type='gene']\",\".//sd-tag[@type='protein']\" \\\n",
    "-f 5X_L1200_geneprod --noocr \\\n",
    "-w /efs/smtag"
   ]
  },
  {
   "cell_type": "code",
   "execution_count": null,
   "metadata": {},
   "outputs": [],
   "source": [
    "smtag-meta -f 5X_L1200_geneprod \\\n",
    "-E120 -Z32 -R0.01 \\\n",
    "-o geneprod \\\n",
    "-w /efs/smtag "
   ]
  },
  {
   "cell_type": "markdown",
   "metadata": {},
   "source": [
    "model saved under `5X_L1200_geneprod_geneprod_2018-12-22-18-16.sddl`"
   ]
  },
  {
   "cell_type": "code",
   "execution_count": null,
   "metadata": {
    "scrolled": true
   },
   "outputs": [],
   "source": [
    "smtag-eval -f 3X_L600_geneprod -m 3X_L600_geneprod_geneprod_2018-12-05-00-32.zip -S -T"
   ]
  },
  {
   "cell_type": "code",
   "execution_count": null,
   "metadata": {
    "scrolled": true
   },
   "outputs": [],
   "source": [
    "smtag-eval -f .zip"
   ]
  },
  {
   "cell_type": "markdown",
   "metadata": {},
   "source": [
    "Trying without entry BN, with tracking\n",
    "\n",
    "    smtag-meta -f 5X_L1200_geneprod \\\n",
    "    -E120 -Z32 -R0.005 \\\n",
    "    -o geneprod \\\n",
    "    -w /efs/smtag\n",
    "    \n",
    "- Without entry BN with tracking: does not work very well, immediate learning to max 75% accuracy without further progress\n",
    "- using -R0.01 or -Z128 does not improve anything\n",
    "- trying without entry BN __and__ without tracking: a bit better\n",
    "- trying restoring BN with tracking (classic mode): best so far\n",
    "- trying with -k \"6,6,6,6\" -n \"16,8,8,8\" -p \"2,2,2,2\": even better"
   ]
  },
  {
   "cell_type": "markdown",
   "metadata": {},
   "source": [
    "Trying 4 layers but __without__ entry BN and __without__ tracking, smaller learning rate (0.001) with more epochs (500)\n",
    "\n",
    "    smtag-meta -f 5X_L1200_geneprod \\\n",
    "    -E500 -Z32 -R0.001 \\\n",
    "    -o geneprod \\\n",
    "    -k \"6,6,6,6\" -n \"16,8,8,8\" -p \"2,2,2,2\" \\\n",
    "    -w /efs/smtag\n",
    "\n",
    "- better 80% max, overfit starts at epoch 120"
   ]
  },
  {
   "cell_type": "markdown",
   "metadata": {},
   "source": [
    "Trying with more sampling, with entry BN and tracking (classic), reduce features first super layer\n",
    "\n",
    "    smtag-convert2th -c 181203all \\\n",
    "    -E \".//figure-caption\" \\\n",
    "    -L1200 -X15 -y \".//sd-tag[@type='gene']\",\".//sd-tag[@type='protein']\" \\\n",
    "    -f 15X_L1200_geneprod --noocr \\\n",
    "    -w /efs/smtag\n",
    "\n",
    "    smtag-meta -f 15X_L1200_geneprod \\\n",
    "    -E200 -Z32 -R0.001 \\\n",
    "    -o geneprod \\\n",
    "    -k \"6,6,6,6\" -n \"8,8,8,8\" -p \"2,2,2,2\" \\\n",
    "    -w /efs/smtag\n",
    "- better than 3 layers\n",
    "- this seems pretty good, with combination of higher sampling, feature bottleneck and slow learning\n",
    "- remarkably no ovefitting after 200 epochs\n",
    "- still entry BN expected to make problems when short fragments padded with spaces which changes distribution\n",
    "- small batch size makes training slow\n",
    "\n",
    "__saved `15X_L1200_geneprod_geneprod_2018-12-31-20-12.sddl` (size: 115412)__\n",
    "\n",
    "    scp -i basicLinuxAMI.pem ec2-user@smtag-web:/efs/smtag/models/15X_L1200_geneprod_geneprod_2018-12-31-20-12.zip ../py-smtag/smtag/rack/geneprod.zip"
   ]
  },
  {
   "cell_type": "markdown",
   "metadata": {},
   "source": [
    "Trying with 6 super layers which gives window of 1200 characters\n",
    "with classical BN\n",
    "\n",
    "    smtag-meta -f 15X_L1200_geneprod \\\n",
    "    -E500 -Z32 -R0.001 \\\n",
    "    -o geneprod \\\n",
    "    -k \"6,6,6,6,6,6\" -n \"8,8,8,8,8,8\" -p \"2,2,2,2,2,2\" \\\n",
    "    -w /efs/smtag\n",
    "\n",
    "not better than 3 layers after 160 epochs, 80%, and starting overfitting"
   ]
  },
  {
   "cell_type": "code",
   "execution_count": null,
   "metadata": {},
   "outputs": [],
   "source": [
    "# trying half window padding instead of 20\n",
    "smtag-convert2th -c 181203all \\\n",
    "-E \".//figure-caption\" \\\n",
    "-L1200 -X15 -y \".//sd-tag[@type='gene']\",\".//sd-tag[@type='protein']\" \\\n",
    "-p 64 \\\n",
    "-f 15X_L1200_geneprod_64_padding --noocr \\\n",
    "-w /efs/smtag"
   ]
  },
  {
   "cell_type": "code",
   "execution_count": null,
   "metadata": {},
   "outputs": [],
   "source": [
    "# trying without padding at all\n",
    "smtag-meta -f 15X_L1200_geneprod \\\n",
    "-E200 -Z32 -R0.001 \\\n",
    "-o geneprod \\\n",
    "-k \"6,6,6,6\" -n \"8,8,8,8\" -p \"2,2,2,2\" \\\n",
    "-p 0 \\\n",
    "-w /efs/smtag"
   ]
  },
  {
   "cell_type": "markdown",
   "metadata": {},
   "source": [
    "Trying panel-level training\n",
    "\n",
    "    smtag-convert2th -c 181203all \\\n",
    "    -E \".//sd-panel\" \\\n",
    "    -L600 -X10 -y \".//sd-tag[@type='gene']\",\".//sd-tag[@type='protein']\" \\\n",
    "    -f 10X_L600_geneprod  \\\n",
    "    -w /efs/smtag\n",
    "\n",
    "cp models/3X_L600_geneprod_geneprod_2018-12-05-00-32.zip rack/geneprod.zip"
   ]
  },
  {
   "cell_type": "markdown",
   "metadata": {},
   "source": [
    "Trying concurrent model with whole document examples, no entry BN, with BN tracking\n",
    "\n",
    "    smtag-convert2th -c 181203all \\\n",
    "    -E \".\" \\\n",
    "    -L6000 -X5 \\\n",
    "    -y \".//sd-tag[@type='gene']\",\".//sd-tag[@type='protein']\" \\\n",
    "    -f 5X_L6000_geneprod_whole_doc -w /efs/smtag --noocr\n",
    "\n",
    "    smtag-meta -f 5X_L6000_geneprod_whole_doc -w /efs/smtag \\\n",
    "    -E120 -Z32 -R0.01 \\\n",
    "    -o geneprod \\\n",
    "    -k \"6,6,6,6\" -n \"16,8,8,8\" -p \"2,2,2,2\"\n",
    "\n",
    "saved `5X_L6000_geneprod_whole_doc_geneprod_2018-12-23-13-53.json`"
   ]
  },
  {
   "cell_type": "markdown",
   "metadata": {},
   "source": [
    "## Subcellular"
   ]
  },
  {
   "cell_type": "markdown",
   "metadata": {},
   "source": [
    "Figure level, calssic\n",
    "\n",
    "    smtag-convert2th -c 181203all \\\n",
    "    -E \".//figure-caption\" \\\n",
    "    -L1200 -X10 -y \".//sd-tag[@type='subcellular']\" \\\n",
    "    -f 10X_L1200_subcellular -w /efs/smtag --noocr\n",
    "\n",
    "Rapid training\n",
    "\n",
    "    smtag-meta -f 10X_L1200_subcellular -w /efs/smtag \\\n",
    "    -E120 -Z128 -R0.01 \\\n",
    "    -o subcellular\n",
    "\n",
    "save as `10X_L1200_subcellular_subcellular_2018-12-22-21-12.sddl` (size: 100167)\n",
    "\n",
    "With 4 layers, small batch size and slow learning\n",
    "\n",
    "    smtag-meta -f 10X_L1200_subcellular -w /efs/smtag \\\n",
    "    -E120 -Z32 -R0.001 \\\n",
    "    -o subcellular \\\n",
    "    -k \"6,6,6,6\" -n \"8,8,8,8\" -p \"2,2,2,2\"\n",
    "\n",
    "__save as `saved 10X_L1200_subcellular_subcellular_2019-01-03-21-29.sddl` (size: 115412)__\n",
    "\n",
    "    scp -i basicLinuxAMI.pem ec2-user@smtag-web:/efs/smtag/models/10X_L1200_subcellular_subcellular_2019-01-03-21-29.zip ../py-smtag/smtag/rack/subcellular.zip"
   ]
  },
  {
   "cell_type": "code",
   "execution_count": null,
   "metadata": {
    "scrolled": true
   },
   "outputs": [],
   "source": [
    "smtag-eval -f  -m .zip -S -T"
   ]
  },
  {
   "cell_type": "code",
   "execution_count": null,
   "metadata": {
    "scrolled": true
   },
   "outputs": [],
   "source": [
    "smtag-eval -f  -m .zip"
   ]
  },
  {
   "cell_type": "code",
   "execution_count": null,
   "metadata": {},
   "outputs": [],
   "source": [
    "cp models/.zip rack/subcellular.zip"
   ]
  },
  {
   "cell_type": "markdown",
   "metadata": {},
   "source": [
    "## Cell"
   ]
  },
  {
   "cell_type": "markdown",
   "metadata": {},
   "source": [
    "Classic training\n",
    "\n",
    "    smtag-convert2th -c 181203all \\\n",
    "    -E \".//figure-caption\" \\\n",
    "    -L1200 -X10 -y \".//sd-tag[@type='cell']\" \\\n",
    "    -f 10X_L1200_cell -w /efs/smtag --noocr\n",
    "\n",
    "    smtag-meta -f 10X_L1200_cell \\\n",
    "    -E120 -Z128 -R0.01 \\\n",
    "    -o cell \\\n",
    "    -w /efs/smtag\n",
    "    \n",
    "__saved `saved 10X_L1200_cell_cell_2019-01-04-23-37.sddl (size: 102531)`__\n",
    "\n",
    "Note: quite a bit of overfitting\n",
    "\n",
    "Trying with smaller batch and slower learning:\n",
    "\n",
    "    smtag-meta -f 10X_L1200_cell \\\n",
    "    -E120 -Z32 -R0.001 \\\n",
    "    -o cell \\\n",
    "    -w /efs/smtag\n",
    "    \n",
    "77% instead of 75%..., pretty similar to classic, perhaps slighltly less overfitting?\n",
    "saved 10X_L1200_cell_cell_2019-01-05-02-07.sddl (size: 102531)\n",
    "    \n",
    "    scp -i basicLinuxAMI.pem ec2-user@smtag-web:/efs/smtag/models/10X_L1200_cell_cell_2019-01-04-23-37.zip ../py-smtag/smtag/rack/cell.zip"
   ]
  },
  {
   "cell_type": "code",
   "execution_count": null,
   "metadata": {
    "scrolled": true
   },
   "outputs": [],
   "source": [
    "smtag-eval -f  -m .zip -S -T"
   ]
  },
  {
   "cell_type": "code",
   "execution_count": null,
   "metadata": {
    "scrolled": true
   },
   "outputs": [],
   "source": [
    "smtag-eval -f  -m .zip"
   ]
  },
  {
   "cell_type": "markdown",
   "metadata": {},
   "source": [
    "## Tissue "
   ]
  },
  {
   "cell_type": "markdown",
   "metadata": {},
   "source": [
    "Classic\n",
    "\n",
    "    smtag-convert2th -c 181203all \\\n",
    "    -E \".//figure-caption\" \\\n",
    "    -L1200 -X10 -y \".//sd-tag[@type='tissue']\" \\\n",
    "    -f 10X_L1200_tissue --noocr \\\n",
    "    -w /efs/smtag\n",
    "\n",
    "    smtag-meta -f 10X_L1200_tissue \\\n",
    "    -E120 -Z128 -R0.01 \\\n",
    "    -o tissue \\\n",
    "    -w /efs/smtag\n",
    "    \n",
    "saved `saved 10X_L1200_tissue_tissue_2019-01-05-09-54.sddl (size: 102531)`\n",
    "\n",
    "    scp -i basicLinuxAMI.pem ec2-user@smtag-web:/efs/smtag/models/10X_L1200_tissue_tissue_2019-01-05-09-54.zip ../py-smtag/smtag/rack/tissue.zip\n"
   ]
  },
  {
   "cell_type": "code",
   "execution_count": null,
   "metadata": {
    "scrolled": true
   },
   "outputs": [],
   "source": [
    "smtag-eval -f 3X_L600_tissue -m 3X_L600_tissue_tissue_2018-12-06-23-58.zip -S -T"
   ]
  },
  {
   "cell_type": "code",
   "execution_count": null,
   "metadata": {
    "scrolled": true
   },
   "outputs": [],
   "source": [
    "smtag-eval -f 3X_L600_tissue -m 3X_L600_tissue_tissue_2018-12-06-23-58.zip"
   ]
  },
  {
   "cell_type": "markdown",
   "metadata": {},
   "source": [
    "## Organism "
   ]
  },
  {
   "cell_type": "markdown",
   "metadata": {},
   "source": [
    "Classic \n",
    "\n",
    "    smtag-convert2th -c 181203all \\\n",
    "    -E \".//figure-caption\" \\\n",
    "    -L1200 -X10 -y \".//sd-tag[@type='organism']\" \\\n",
    "    --noocr \\\n",
    "    -f 10X_L1200_organism \\\n",
    "    -w /efs/smtag\n",
    "\n",
    "    smtag-meta -f 10X_L1200_organism \\\n",
    "    -E120 -Z128 -R0.01 \\\n",
    "    -o organism \\\n",
    "    -w /efs/smtag\n",
    "    \n",
    "__saved `10X_L1200_organism_organism_2019-01-05-10-48.sddl` (size: 102517)__\n",
    "\n",
    "    scp -i basicLinuxAMI.pem ec2-user@smtag-web:/efs/smtag/models/10X_L1200_organism_organism_2019-01-05-10-48.zip ../py-smtag/smtag/rack/organism.zip"
   ]
  },
  {
   "cell_type": "code",
   "execution_count": null,
   "metadata": {
    "scrolled": true
   },
   "outputs": [],
   "source": [
    "smtag-eval -f  -m .zip -S -T"
   ]
  },
  {
   "cell_type": "code",
   "execution_count": null,
   "metadata": {
    "scrolled": true
   },
   "outputs": [],
   "source": [
    "smtag-eval -f  -m .zip"
   ]
  },
  {
   "cell_type": "markdown",
   "metadata": {},
   "source": [
    "## Diseases "
   ]
  },
  {
   "cell_type": "markdown",
   "metadata": {},
   "source": [
    "From brat dataset (option `-b`)\n",
    "\n",
    "    smtag-convert2th -L1200 -X10 -b -c NCBI_disease -f 5X_L1200_NCBI_disease \n",
    "\n",
    "    smtag-meta -E120 -Z128 -R0.01 -o disease -f 10X_L1200_NCBI_disease -w /efs/smtag\n",
    "    \n",
    "saved `10X_L1200_NCBI_disease_disease_2019-01-05-10-57.sddl`\n",
    "    \n",
    "    smtag-meta -E120 -Z32 -R0.001 -o disease -f 10X_L1200_NCBI_disease -w /efs/smtag\n",
    "    \n",
    "saved `saved 10X_L1200_NCBI_disease_disease_2019-01-05-11-22.sddl`\n",
    "    \n",
    "Delays overfitting to 30 epochs instead of 15, but overall not better accuracy and not better loss on valid\n",
    "\n",
    "    scp -i basicLinuxAMI.pem ec2-user@smtag-web:/efs/smtag/models/10X_L1200_NCBI_disease_disease_2019-01-05-10-57.zip ../py-smtag/smtag/rack/disease.zip\n",
    "    \n",
    "Hyperscan\n",
    "\n",
    "    smtag-meta -f 10X_L1200_NCBI_disease \\\n",
    "    -E15 -Z32 -R0.01 -o disease \\\n",
    "    -H depth,kernel \\\n",
    "    -w /efs/smtag\n",
    "\n",
    "No huge differences; large variability; maybe kernel 8 best\n",
    "    \n",
    "    scp -i basicLinuxAMI.pem ec2-user@smtag-web:/efs/smtag/scans/scan_depth_kernel_X25_2019-01-05-11-24/scanned_perf.csv ../py-smtag/scans/scan_depth_kernel_X25_2019-01-05-11-24_scanned_perf.csv\n",
    "    \n",
    "Models makes problems when applied. Training set probably just too small and not varied enough. Would need to be complemented with negative text to avoid crazy false positives."
   ]
  },
  {
   "cell_type": "markdown",
   "metadata": {},
   "source": [
    "Pre-training on negative data\n",
    "\n",
    "\n",
    "    smtag-meta -E60 -Z128 -R0.01 -o disease -f 15X_L1200_geneprod -w /efs/smtag\n",
    "    \n",
    "Stopped after 60 epochs\n",
    "\n",
    "    smtag-meta -E120 -Z128 -R0.01 -o disease -f 10X_L1200_NCBI_disease -m 15X_L1200_geneprod_last_saved.zip -w /efs/smtag\n",
    "    \n",
    "    smtag-meta -E60 -Z128 -R0.01 -o disease -f 15X_L1200_geneprod -m 15X_L1200_geneprod_disease_2019-01-06-20-29.zip -w /efs/smtag\n",
    "    \n",
    "    saved `15X_L1200_geneprod_last_saved.sddl`\n",
    "    \n",
    "Stopped after 18 epochs. Apparently kept the ability to recognize disease terms, started at f1 0.75 and climbed quickly to 0.8\n",
    "\n",
    "    scp -i basicLinuxAMI.pem ec2-user@smtag-web:/efs/smtag/models/15X_L1200_geneprod_last_saved.zip ../py-smtag/smtag/rack/disease.zip \n",
    "    \n",
    "Still, many artefacts due to hyphens or strange predictions."
   ]
  },
  {
   "attachments": {},
   "cell_type": "markdown",
   "metadata": {},
   "source": [
    "Trying to generate a larger dataset (testset combined with train `cp test/* train` to make training set with 1426 examples)\n",
    "\n",
    "    smtag-convert2th -L1200 -X10 -b -c NCBI_disease -f 10X_L1200_NCBI_disease -w /efs/smtag\n",
    "    \n",
    "    smtag-meta -E60 -Z128 -R0.01 -o disease -f 10X_L1200_NCBI_disease -w /efs/smtag\n",
    "    \n",
    "Saved `10X_L1200_NCBI_disease_disease_2019-01-07-10-51.sddl`\n",
    "\n",
    "\n",
    "    scp -i basicLinuxAMI.pem ec2-user@smtag-web:/efs/smtag/models/10X_L1200_NCBI_disease_disease_2019-01-07-10-51.zip ../py-smtag/smtag/rack/disease.zip\n",
    "    \n",
    "Still same kind of artifacts due to hyphen or bizarre tagging of \"the levels\"... Puzzling!\n",
    "    \n",
    "Trying to quench false negatives by post-training on negative data:\n",
    "    \n",
    "    smtag-meta -E60 -Z128 -R0.01 -o disease -f 15X_L1200_geneprod -m 10X_L1200_NCBI_disease_disease_2019-01-07-10-51.zip -w /efs/smtag\n",
    "    \n",
    "Loss goes to 1E-4 after 6 epochs already.\n",
    "    \n",
    "Saved `10X_L1200_NCBI_disease_disease_2019-01-07-11-46.sddl`\n",
    "\n",
    "    scp -i basicLinuxAMI.pem ec2-user@smtag-web:/efs/smtag/models/10X_L1200_NCBI_disease_disease_2019-01-07-11-46.zip ../py-smtag/smtag/rack/disease.zip\n",
    "    \n",
    "Seems to have forgotten after so many epochs. :-( Confirmed by retraining the retrained model. Starts from zero!\n",
    "\n",
    "Trying slower more limited training to avoid overfitting\n",
    "\n",
    "    smtag-meta -E30 -Z32 -R0.001 -o disease -f 10X_L1200_NCBI_disease -w /efs/smtag\n",
    "\n",
    "__Saved `10X_L1200_NCBI_disease_disease_2019-01-07-12-06.sddl`__\n",
    "\n",
    "No overfitting!\n",
    "\n",
    "    scp -i basicLinuxAMI.pem ec2-user@smtag-web:/efs/smtag/models/10X_L1200_NCBI_disease_disease_2019-01-07-12-06.zip ../py-smtag/smtag/rack/disease.zip\n",
    "    \n",
    "Still influenced by INF-γ. Not sure what to do next. Included a cleanup step to remove em dash minus and other and replace with standard ASCII hyphen.\n",
    "\n",
    "To intermingle negative examples during the whole training, assembled manually a `encoded/10X_L1200_NCBI_disease_augmented` dataset by adding all of the already encoded examples from `encoded/15X_L1200_geneprod`.\n",
    "\n",
    "    smtag-convert2th -L1200 -X10 -b -c NCBI_disease -f 10X_L1200_NCBI_disease_augmented -w /efs/smtag\n",
    "    \n",
    "Since the examples are already encoded, it does not touch them and should proceed with sampling of the whole set of encoded examples. \n",
    "    \n",
    "    smtag-meta -E120 -Z32 -R0.001 -o disease -f 10X_L1200_NCBI_disease_augmented -w /efs/smtag\n",
    "    \n",
    "Possible that the negative examples dominate too much the training set. After initial peak (5-6th epoch), perf decreases as training progresses. No overfitting. Perf goes back up after valley (around 30-40 epochs). Goes down again later, when valid loss goes up. Capacity of the newtork too small?\n",
    "   \n",
    "    smtag-meta -E200 -Z128 -R0.01 -n \"16,16,16,16\" -p \"2,2,2,2\" -k \"6,6,6,6\" -o disease -f 10X_L1200_NCBI_disease_augmented -w /efs/smtag\n",
    "    \n",
    "Testing an intermediate model after 65 epcohs, f1 0.8 no overfitting:\n",
    "\n",
    "Saved `10X_L1200_NCBI_disease_augmented_last_saved.sddl`\n",
    "    \n",
    "    scp -i basicLinuxAMI.pem ec2-user@smtag-web:/efs/smtag/models/10X_L1200_NCBI_disease_augmented_last_saved.zip ../py-smtag/smtag/rack/disease.zip\n",
    "    \n",
    "Final model: f1=0.85\n",
    "\n",
    "Saved `10X_L1200_NCBI_disease_augmented_disease_2019-01-08-17-59.zip`\n",
    "\n",
    "    scp -i basicLinuxAMI.pem ec2-user@smtag-web:/efs/smtag/models/10X_L1200_NCBI_disease_augmented_disease_2019-01-08-17-59.zip ../py-smtag/smtag/rack/disease.zip\n",
    "\n",
    "    \n"
   ]
  },
  {
   "cell_type": "markdown",
   "metadata": {},
   "source": [
    "## Experimental assay "
   ]
  },
  {
   "cell_type": "markdown",
   "metadata": {},
   "source": [
    "Calssic\n",
    "\n",
    "    smtag-convert2th -c 181203all \\\n",
    "    -E \".//figure-caption\" \\\n",
    "    -L1200 -X10 -y \".//sd-tag[@category='assay']\" \\\n",
    "    -f 10X_L1200_assay \\\n",
    "    --noocr \\\n",
    "    -w /efs/smtag\n",
    "    \n",
    "    smtag-meta -f 10X_L1200_assay \\\n",
    "    -E120 -Z128 -R0.01 \\\n",
    "    -o assay \\\n",
    "    -w /efs/smtag\n",
    "    \n",
    "__saved `10X_L1200_assay_assay_2019-01-05-15-14.sddl`__\n",
    "\n",
    "Checking a bit hyperparam\n",
    "\n",
    "    smtag-meta -f 10X_L1200_assay \\\n",
    "    -E30 -Z128 -R0.01 -o assay \\\n",
    "    -H depth,kernel -I 100 \\\n",
    "    -w /efs/smtag\n",
    "    \n",
    "Very little impact. If kernel 3 or so, then less good, but otherwise seem remarkably insensitige.\n",
    "    \n",
    "    scp -i basicLinuxAMI.pem ec2-user@smtag-web:/efs/smtag/models/10X_L1200_assay_assay_2019-01-05-15-14.zip ../py-smtag/smtag/rack/exp_assay.zip"
   ]
  },
  {
   "cell_type": "markdown",
   "metadata": {},
   "source": [
    "## Intervention-assay geneprod "
   ]
  },
  {
   "cell_type": "markdown",
   "metadata": {},
   "source": [
    "Classical training\n",
    "\n",
    "    smtag-convert2th -c 181203all \\\n",
    "    -L1200 -X15 \\\n",
    "    -E \".//figure-caption\" \\\n",
    "    -y \".//sd-tag[@type='gene']\",\".//sd-tag[@type='protein']\" \\\n",
    "    -e \".//sd-tag[@type='gene']\",\".//sd-tag[@type='protein']\" \\\n",
    "    -A \".//sd-tag[@role='intervention']\",\".//sd-tag[@role='assayed']\",\".//sd-tag[@role='normalizing']\",\".//sd-tag[@role='experiment']\",\".//sd-tag[@role='component']\", \\\n",
    "    -f 15X_L1200_geneprod_anonym_not_reporter -w /efs/smtag --noocr\n",
    "    \n",
    "    smtag-meta -f 15X_L1200_geneprod_anonym_not_reporter -w /efs/smtag \\\n",
    "    -E120 -Z128 -R0.01 \\\n",
    "    -o intervention,assayed \\\n",
    "    -k \"6,6,6\" -n \"8,8,8\" -p \"2,2,2\"\n",
    "\n",
    "__saved `saved 15X_L1200_geneprod_anonym_not_reporter_intervention_assayed_2019-01-04-15-05.sddl (size: 102679)`__\n",
    "\n",
    "    smtag-meta -f 15X_L1200_geneprod_anonym_not_reporter -w /efs/smtag \\\n",
    "    -E120 -Z32 -R0.001 \\\n",
    "    -o intervention,assayed \\\n",
    "    -k \"6,6,6,6\" -n \"8,8,8,8\" -p \"2,2,2,2\"\n",
    "    \n",
    "Slightly worse than the 3 layer version, intervention 69%, assayed 78%, slighly more overfitting.\n",
    "\n",
    "    scp -i basicLinuxAMI.pem ec2-user@smtag-web:/efs/smtag/models/15X_L1200_geneprod_anonym_not_reporter_intervention_assayed_2019-01-04-15-05.zip ../py-smtag/smtag/rack/role_geneprod.zip"
   ]
  },
  {
   "cell_type": "markdown",
   "metadata": {},
   "source": [
    "Trying whole document, __without entry BN__, tracking on\n",
    "\n",
    "    smtag-convert2th -c 181203all \\\n",
    "    -L6000 -X5 \\\n",
    "    -E \".\" \\\n",
    "    -y \".//sd-tag[@type='gene']\",\".//sd-tag[@type='protein']\" \\\n",
    "    -e \".//sd-tag[@type='gene']\",\".//sd-tag[@type='protein']\" \\\n",
    "    -A \".//sd-tag[@role='intervention']\",\\\n",
    "    \".//sd-tag[@role='assayed']\",\\\n",
    "    \".//sd-tag[@role='normalizing']\",\\\n",
    "    \".//sd-tag[@role='experiment']\",\\\n",
    "    \".//sd-tag[@role='component']\", \\\n",
    "    -f 5X_L6000_whole_doc_geneprod_anonym_not_reporter -w /efs/smtag --noocr\n",
    "\n",
    "    smtag-meta -f 5X_L6000_whole_doc_geneprod_anonym_not_reporter -w /efs/smtag \\\n",
    "    -E120 -Z32 -R0.01 \\\n",
    "    -o intervention,assayed \\\n",
    "    -k \"6,6,6,6\" -n \"16,8,8,8\" -p \"2,2,2,2\"\n",
    "\n",
    "- not better\n",
    "- later exp suggest tracking should be off if no entry BN?\n",
    "\n",
    "saved `5X_L6000_whole_doc_geneprod_anonym_not_reporter_intervention_assayed_2018-12-24-13-13.sddl` (size: 142459)\n",
    "\n",
    "Trying whole document, entry BN and tracking (classic), reduced features number (8 everywhere), slower learning rate:\n",
    "\n",
    "    smtag-meta -f 5X_L6000_whole_doc_geneprod_anonym_not_reporter -w /efs/smtag \\\n",
    "    -E500 -Z32 -R0.001 \\\n",
    "    -o intervention,assayed \\\n",
    "    -k \"6,6,6,6\" -n \"8,8,8,8\" -p \"2,2,2,2\"\n",
    "    \n",
    "- not good, intervention 60%, assayed 70%, overfitting"
   ]
  },
  {
   "cell_type": "markdown",
   "metadata": {},
   "source": [
    "trying without skip links in unet to force bottleneck\n",
    "\n",
    "    smtag-meta -f 5X_L6000_whole_doc_geneprod_anonym_not_reporter \\\n",
    "    -E500 -Z32 -R0.01 \\\n",
    "    -o intervention,assayed \\\n",
    "    -k \"6,6,6\" -n \"16,32,64\" -p \"2,2,2\" \\\n",
    "    -w /efs/smtag \n",
    "\n",
    "- a disaster..."
   ]
  },
  {
   "cell_type": "markdown",
   "metadata": {},
   "source": [
    "## Geneprod Reporter"
   ]
  },
  {
   "cell_type": "markdown",
   "metadata": {},
   "source": [
    "Classical\n",
    "\n",
    "    smtag-convert2th -c 181203all \\\n",
    "    -E \".//figure-caption\" \\\n",
    "    -L1200 -X5 \\\n",
    "    -y \".//sd-tag[@type='gene']\",\".//sd-tag[@type='protein']\" \\\n",
    "    -e \".//sd-tag[@type='gene']\",\".//sd-tag[@type='protein']\" \\\n",
    "    -f 5X_L1200_geneprod_reporter -w /efs/smtag --noocr\n",
    "\n",
    "    smtag-meta -f 5X_L1200_geneprod_reporter -w /efs/smtag \\\n",
    "    -E120 -Z128 -R0.01 \\\n",
    "    -o reporter\n",
    "\n",
    "saved `5X_L1200_geneprod_reporter_reporter_2018-12-22-23-44.sddl` (size: 96117)"
   ]
  },
  {
   "cell_type": "markdown",
   "metadata": {},
   "source": [
    "Trying 4 layers, with BN and tracking\n",
    "\n",
    "    smtag-meta -f 5X_L1200_geneprod_reporter -w /efs/smtag \\\n",
    "    -E120 -Z32 -R0.001 \\\n",
    "    -o reporter \\\n",
    "    -k \"6,6,6,6\" -n \"8,8,8,8\" -p \"2,2,2,2\"\n",
    "\n",
    "__saved `5X_L1200_geneprod_reporter_reporter_2019-01-03-18-48.sddl` (size: 115412)__\n",
    "\n",
    "\n",
    "    scp -i basicLinuxAMI.pem ec2-user@smtag-web:/efs/smtag/models/5X_L1200_geneprod_reporter_reporter_2019-01-03-18-48.zip ../py-smtag/smtag/rack/reporter_geneprod.zip"
   ]
  },
  {
   "cell_type": "code",
   "execution_count": null,
   "metadata": {
    "scrolled": true
   },
   "outputs": [],
   "source": [
    "smtag-eval -f .zip -S -T"
   ]
  },
  {
   "cell_type": "code",
   "execution_count": null,
   "metadata": {
    "scrolled": true
   },
   "outputs": [],
   "source": [
    "smtag-eval -f 5X_L1200_geneprod_reporter -m "
   ]
  },
  {
   "cell_type": "code",
   "execution_count": null,
   "metadata": {},
   "outputs": [],
   "source": [
    "# trying concurrent model with whole document examples,\n",
    "# 32 ex batches, reduced learning rate, 4 layers\n",
    "# without entry BN but with BN tracking\n",
    "smtag-convert2th -c 181203all \\\n",
    "-E \".\" \\\n",
    "-L6000 -X5 \\\n",
    "-y \".//sd-tag[@type='gene']\",\".//sd-tag[@type='protein']\" \\\n",
    "-e \".//sd-tag[@type='gene']\",\".//sd-tag[@type='protein']\" \\\n",
    "-f 5X_L6000_geneprod_reporter_whole_doc -w /efs/smtag --noocr\n",
    "\n",
    "smtag-meta -f 5X_L6000_geneprod_reporter_whole_doc -w /efs/smtag \\\n",
    "-E120 -Z32 -R0.005 -o reporter \\\n",
    "-k \"6,6,6,6\" -n \"16,8,8,8\" -p \"2,2,2,2\"\n",
    "\n",
    "saved 5X_L6000_geneprod_reporter_whole_doc_reporter_2018-12-25-21-32.sddl (size: 142311)"
   ]
  },
  {
   "cell_type": "code",
   "execution_count": null,
   "metadata": {},
   "outputs": [],
   "source": [
    "cp models/.zip rack/reporter_geneprod.zip"
   ]
  },
  {
   "cell_type": "markdown",
   "metadata": {},
   "source": [
    "## Intervention-assay small molecule"
   ]
  },
  {
   "cell_type": "code",
   "execution_count": null,
   "metadata": {},
   "outputs": [],
   "source": [
    "smtag-convert2th -c 181203all \\\n",
    "-L600 -X3 \\\n",
    "-y \".//sd-tag[@type='molecule']\" \\\n",
    "-e \".//sd-tag[@type='molecule']\" \\\n",
    "-A \".//sd-tag[@type='molecule']\" \\\n",
    "-f 3X_L600_molecule_anonym"
   ]
  },
  {
   "cell_type": "code",
   "execution_count": null,
   "metadata": {},
   "outputs": [],
   "source": [
    "smtag-meta -f 3X_L600_molecule_anonym \\\n",
    "-E120 -Z128 -R0.01 \\\n",
    "-o intervention,assayed"
   ]
  },
  {
   "cell_type": "markdown",
   "metadata": {},
   "source": [
    "saved `3X_L600_molecule_anonym_intervention_assayed_2018-12-13-05-20.sddl` (size: 100315)"
   ]
  },
  {
   "cell_type": "code",
   "execution_count": null,
   "metadata": {},
   "outputs": [],
   "source": [
    "cp models/3X_L600_molecule_anonym_intervention_assayed_2018-12-13-05-20.zip rack/role_small_molecule.zip"
   ]
  },
  {
   "cell_type": "code",
   "execution_count": null,
   "metadata": {
    "scrolled": true
   },
   "outputs": [],
   "source": [
    "smtag-eval -f 3X_L600_molecule_anonym -m 3X_L600_molecule_anonym_intervention_assayed_2018-12-13-05-20.zip -S -T"
   ]
  },
  {
   "cell_type": "code",
   "execution_count": null,
   "metadata": {
    "scrolled": true
   },
   "outputs": [],
   "source": [
    "smtag-eval -f 3X_L600_molecule_anonym -m 3X_L600_molecule_anonym_intervention_assayed_2018-12-13-05-20.zip"
   ]
  },
  {
   "cell_type": "markdown",
   "metadata": {},
   "source": [
    "## Panel start"
   ]
  },
  {
   "cell_type": "markdown",
   "metadata": {},
   "source": [
    "With 4 layers:\n",
    "    \n",
    "    smtag-meta -f 15X_L1200_geneprod \\\n",
    "    -E100 -Z32 -R0.001 \\\n",
    "    -o panel_start \\\n",
    "    -k \"6,6,6,6\" -n \"8,8,8,8\" -p \"2,2,2,2\" \\\n",
    "    -w /efs/smtag\n",
    "\n",
    "__saved `15X_L1200_geneprod_panel_start_2019-01-03-04-15.sddl` (size: 115412)__\n",
    "\n",
    "    scp -i basicLinuxAMI.pem ec2-user@smtag-web:/efs/smtag/models/15X_L1200_geneprod_panel_start_2019-01-03-04-15.zip ../py-smtag/smtag/rack/panel_start.zip"
   ]
  },
  {
   "cell_type": "code",
   "execution_count": null,
   "metadata": {
    "scrolled": true
   },
   "outputs": [],
   "source": [
    "smtag-eval -f  -m .zip -S -T"
   ]
  },
  {
   "cell_type": "code",
   "execution_count": null,
   "metadata": {
    "scrolled": true
   },
   "outputs": [],
   "source": [
    "smtag-eval -f -m .zip"
   ]
  },
  {
   "cell_type": "code",
   "execution_count": null,
   "metadata": {},
   "outputs": [],
   "source": [
    "# trying whole document level, without entry BN, BN tracking\n",
    "smtag-convert2th -c 181203all \\\n",
    "--noocr -E \".\" \\\n",
    "-L6000 -X10 -f 10X_L6000_whole_figure_level_no_ocr \\\n",
    "-w /efs/smtag\n",
    "# wrong file name..."
   ]
  },
  {
   "cell_type": "code",
   "execution_count": null,
   "metadata": {},
   "outputs": [],
   "source": [
    "# wrong file name...\n",
    "smtag-meta -f 10X_L6000_whole_figure_level_no_ocr \\\n",
    "-E120 -Z32 -R0.005 \\\n",
    "-o panel_start \\\n",
    "-k \"6,6,6,6\" -n \"16,8,8,8\" -p \"2,2,2,2\" \\\n",
    "-w /efs/smtag"
   ]
  },
  {
   "cell_type": "code",
   "execution_count": null,
   "metadata": {},
   "outputs": [],
   "source": [
    "saved 10X_L6000_whole_figure_level_no_ocr_panel_start_2018-12-26-13-19.sddl (size: 142325)\n",
    "# WRONG NAME..."
   ]
  },
  {
   "cell_type": "markdown",
   "metadata": {},
   "source": [
    "## Special models (experimental)"
   ]
  },
  {
   "cell_type": "markdown",
   "metadata": {},
   "source": [
    "### Whole document level intervention-assayed model"
   ]
  },
  {
   "cell_type": "code",
   "execution_count": null,
   "metadata": {},
   "outputs": [],
   "source": [
    "smtag-convert2th -c 181203all \\\n",
    "--noocr -E \".\" \\\n",
    "-e \".//sd-tag[@type='gene']\",\".//sd-tag[@type='protein']\" \\\n",
    "-A \".//sd-tag[@role='intervention']\",\\\n",
    "\".//sd-tag[@role='assayed']\",\\\n",
    "\".//sd-tag[@role='normalizing']\",\\\n",
    "\".//sd-tag[@role='experiment']\",\\\n",
    "\".//sd-tag[@role='component']\", \\\n",
    "-L6000 -X -f 1X_L5000_doc_level_geneprod_anonym_not_reporter_no_ocr"
   ]
  },
  {
   "cell_type": "code",
   "execution_count": null,
   "metadata": {},
   "outputs": [],
   "source": [
    "smtag-meta -f 1X_L5000_doc_level_geneprod_anonym_not_reporter_no_ocr \\\n",
    "-E200 -Z32 -R0.01 \\\n",
    "-n 8,8,8,8 -p 2,2,2,2 -k 6,6,6,6 \\\n",
    "-o intervention,assayed"
   ]
  },
  {
   "cell_type": "code",
   "execution_count": null,
   "metadata": {},
   "outputs": [],
   "source": [
    "smtag-convert2th -c 181203all \\\n",
    "--noocr -E \".\" \\\n",
    "-y \".//sd-tag[@type='gene']\",\".//sd-tag[@type='protein']\" \\\n",
    "-L6000 -X3 -f 3X_L6000_doc_level_geneprod_no_ocr"
   ]
  },
  {
   "cell_type": "code",
   "execution_count": null,
   "metadata": {},
   "outputs": [],
   "source": [
    "smtag-meta -f 3X_L6000_doc_level_geneprod_no_ocr \\\n",
    "-E200 -Z32 -R0.01 \\\n",
    "-n 8,8,8,8 -p 2,2,2,2 -k 6,6,6,6 \\\n",
    "-o geneprod"
   ]
  },
  {
   "cell_type": "markdown",
   "metadata": {},
   "source": [
    "## Rack for SmartTag engine"
   ]
  },
  {
   "cell_type": "code",
   "execution_count": null,
   "metadata": {},
   "outputs": [],
   "source": [
    "ls rack"
   ]
  },
  {
   "cell_type": "markdown",
   "metadata": {},
   "source": [
    "## Hyperparam scans"
   ]
  },
  {
   "cell_type": "code",
   "execution_count": null,
   "metadata": {},
   "outputs": [],
   "source": [
    "smtag-meta -E50 -o panel_start -H depth,kernel -I 25 -f 5X_L1200_entities -w /efs/smtag # after data transfer to GPU machine"
   ]
  },
  {
   "cell_type": "markdown",
   "metadata": {},
   "source": [
    "Winning combo:\n",
    "    4,4,4,4\n",
    "    \n",
    "But a lot of variability. Initialization issues?"
   ]
  },
  {
   "cell_type": "code",
   "execution_count": null,
   "metadata": {
    "scrolled": true
   },
   "outputs": [],
   "source": [
    "smtag-meta -E50 -o geneprod -H kernel,depth -I 25 -f 5X_L1200_gene_protein -w /efs/smtag # after transfer to GPU machine"
   ]
  },
  {
   "cell_type": "markdown",
   "metadata": {},
   "source": [
    "Winning combo with `f1=0.80` after 50 epochs, no overfitting with valid:\n",
    "\n",
    "    namebase=5X_L1200_gene_protein; modelname=; learning_rate=0.01000000000000001; epochs=50; minibatch_size=32; selected_features=['geneprod']; collapsed_features=[]; overlap_features=[]; features_as_input=[]; nf_table=[8, 8, 8]; pool_table=[2, 2, 2]; kernel_table=[6, 6, 6]; dropout=0.1; validation_fraction=0.2; nf_input=32; nf_output=1"
   ]
  },
  {
   "cell_type": "code",
   "execution_count": null,
   "metadata": {},
   "outputs": [],
   "source": []
  }
 ],
 "metadata": {
  "kernelspec": {
   "display_name": "Bash",
   "language": "bash",
   "name": "bash"
  },
  "language_info": {
   "codemirror_mode": "shell",
   "file_extension": ".sh",
   "mimetype": "text/x-sh",
   "name": "bash"
  }
 },
 "nbformat": 4,
 "nbformat_minor": 2
}
